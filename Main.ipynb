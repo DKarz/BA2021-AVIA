{
 "cells": [
  {
   "cell_type": "code",
   "metadata": {
    "ExecuteTime": {
     "end_time": "2021-04-15T23:02:35.001098Z",
     "start_time": "2021-04-15T23:02:26.812285Z"
    },
    "deepnote_to_be_reexecuted": false,
    "execution_millis": 11244,
    "execution_start": 1624936681023,
    "id": "FsZl7V2UXMd-",
    "source_hash": "b5568877",
    "tags": [],
    "colab": {
     "base_uri": "https://localhost:8080/"
    },
    "outputId": "a49ef2a7-0181-4890-8d68-4343ce44483e",
    "cell_id": "00000-945dcaae-5c76-4f58-8c3f-671781d0ed34",
    "deepnote_cell_type": "code"
   },
   "source": "!pip install simpy\n!pip install xlrd\n!pip install openpyxl\n",
   "execution_count": null,
   "outputs": [
    {
     "name": "stdout",
     "text": "Collecting simpy\n  Downloading simpy-4.0.1-py2.py3-none-any.whl (29 kB)\nInstalling collected packages: simpy\nSuccessfully installed simpy-4.0.1\n\u001b[33mWARNING: You are using pip version 21.1.2; however, version 21.1.3 is available.\nYou should consider upgrading via the '/root/venv/bin/python -m pip install --upgrade pip' command.\u001b[0m\nCollecting xlrd\n  Downloading xlrd-2.0.1-py2.py3-none-any.whl (96 kB)\n\u001b[K     |████████████████████████████████| 96 kB 6.4 MB/s \n\u001b[?25hInstalling collected packages: xlrd\nSuccessfully installed xlrd-2.0.1\n\u001b[33mWARNING: You are using pip version 21.1.2; however, version 21.1.3 is available.\nYou should consider upgrading via the '/root/venv/bin/python -m pip install --upgrade pip' command.\u001b[0m\nCollecting openpyxl\n  Downloading openpyxl-3.0.7-py2.py3-none-any.whl (243 kB)\n\u001b[K     |████████████████████████████████| 243 kB 24.5 MB/s \n\u001b[?25hCollecting et-xmlfile\n  Downloading et_xmlfile-1.1.0-py3-none-any.whl (4.7 kB)\nInstalling collected packages: et-xmlfile, openpyxl\nSuccessfully installed et-xmlfile-1.1.0 openpyxl-3.0.7\n\u001b[33mWARNING: You are using pip version 21.1.2; however, version 21.1.3 is available.\nYou should consider upgrading via the '/root/venv/bin/python -m pip install --upgrade pip' command.\u001b[0m\n",
     "output_type": "stream"
    }
   ]
  },
  {
   "cell_type": "code",
   "metadata": {
    "ExecuteTime": {
     "end_time": "2021-04-15T23:02:38.192199Z",
     "start_time": "2021-04-15T23:02:36.527710Z"
    },
    "deepnote_to_be_reexecuted": false,
    "execution_millis": 1203,
    "execution_start": 1624936692271,
    "id": "PmgpgHpYXMeG",
    "source_hash": "788ee7b3",
    "tags": [],
    "cell_id": "00001-a66b87ad-f771-40f1-aea1-def476381fda",
    "deepnote_cell_type": "code"
   },
   "source": "import simpy\nimport itertools\nfrom datetime import datetime\nfrom datetime import timedelta\nimport pandas as pd\nimport numpy as np\nfrom tqdm import tqdm\nimport matplotlib.pyplot as plt",
   "execution_count": null,
   "outputs": []
  },
  {
   "cell_type": "code",
   "metadata": {
    "ExecuteTime": {
     "end_time": "2021-04-15T23:02:41.582612Z",
     "start_time": "2021-04-15T23:02:41.505197Z"
    },
    "deepnote_to_be_reexecuted": false,
    "execution_millis": 298,
    "execution_start": 1624936693478,
    "id": "5SN5rCZkXMeH",
    "source_hash": "f487334f",
    "tags": [],
    "colab": {
     "base_uri": "https://localhost:8080/",
     "height": 983
    },
    "outputId": "b9ba1f67-5e36-4f22-f519-bbd375de4a6f",
    "cell_id": "00004-f5d3e83b-bc12-4628-8974-33332c0ff0a9",
    "deepnote_cell_type": "code"
   },
   "source": "termin_info = pd.read_excel(\"Data4SVONEW.xlsx\", sheet_name=0)\ntermin_info.columns = termin_info.columns.str.replace(' ', '')\nctt_inf = pd.read_excel(\"Data4SVONEW.xlsx\", sheet_name=1)\ntermin_info",
   "execution_count": null,
   "outputs": [
    {
     "output_type": "execute_result",
     "execution_count": 3,
     "data": {
      "application/vnd.deepnote.dataframe.v2+json": {
       "row_count": 30,
       "column_count": 8,
       "columns": [
        {
         "name": "AirportID",
         "dtype": "object",
         "stats": {
          "unique_count": 1,
          "nan_count": 0,
          "categories": [
           {
            "name": "SVO",
            "count": 30
           }
          ]
         }
        },
        {
         "name": "TerminalID",
         "dtype": "object",
         "stats": {
          "unique_count": 6,
          "nan_count": 0,
          "categories": [
           {
            "name": "B",
            "count": 5
           },
           {
            "name": "C",
            "count": 5
           },
           {
            "name": "4 others",
            "count": 20
           }
          ]
         }
        },
        {
         "name": "StructureID",
         "dtype": "object",
         "stats": {
          "unique_count": 5,
          "nan_count": 0,
          "categories": [
           {
            "name": "BHS",
            "count": 6
           },
           {
            "name": "INBP",
            "count": 6
           },
           {
            "name": "3 others",
            "count": 18
           }
          ]
         }
        },
        {
         "name": "ProcessingTime",
         "dtype": "float64",
         "stats": {
          "unique_count": 3,
          "nan_count": 0,
          "min": "1e-06",
          "max": "240.0",
          "histogram": [
           {
            "bin_start": 0.000001,
            "bin_end": 24.0000009,
            "count": 8
           },
           {
            "bin_start": 24.0000009,
            "bin_end": 48.000000799999995,
            "count": 0
           },
           {
            "bin_start": 48.000000799999995,
            "bin_end": 72.00000069999999,
            "count": 0
           },
           {
            "bin_start": 72.00000069999999,
            "bin_end": 96.00000059999999,
            "count": 0
           },
           {
            "bin_start": 96.00000059999999,
            "bin_end": 120.0000005,
            "count": 14
           },
           {
            "bin_start": 120.0000005,
            "bin_end": 144.00000039999998,
            "count": 0
           },
           {
            "bin_start": 144.00000039999998,
            "bin_end": 168.00000029999998,
            "count": 0
           },
           {
            "bin_start": 168.00000029999998,
            "bin_end": 192.0000002,
            "count": 0
           },
           {
            "bin_start": 192.0000002,
            "bin_end": 216.0000001,
            "count": 0
           },
           {
            "bin_start": 216.0000001,
            "bin_end": 240,
            "count": 8
           }
          ]
         }
        },
        {
         "name": "QueryCapacity",
         "dtype": "float64",
         "stats": {
          "unique_count": 3,
          "nan_count": 0,
          "min": "1e-06",
          "max": "40.0",
          "histogram": [
           {
            "bin_start": 0.000001,
            "bin_end": 4.0000009,
            "count": 8
           },
           {
            "bin_start": 4.0000009,
            "bin_end": 8.0000008,
            "count": 0
           },
           {
            "bin_start": 8.0000008,
            "bin_end": 12.0000007,
            "count": 0
           },
           {
            "bin_start": 12.0000007,
            "bin_end": 16.0000006,
            "count": 0
           },
           {
            "bin_start": 16.0000006,
            "bin_end": 20.000000500000002,
            "count": 2
           },
           {
            "bin_start": 20.000000500000002,
            "bin_end": 24.0000004,
            "count": 0
           },
           {
            "bin_start": 24.0000004,
            "bin_end": 28.000000300000004,
            "count": 0
           },
           {
            "bin_start": 28.000000300000004,
            "bin_end": 32.0000002,
            "count": 0
           },
           {
            "bin_start": 32.0000002,
            "bin_end": 36.0000001,
            "count": 0
           },
           {
            "bin_start": 36.0000001,
            "bin_end": 40,
            "count": 20
           }
          ]
         }
        },
        {
         "name": "Capacity",
         "dtype": "float64",
         "stats": {
          "unique_count": 5,
          "nan_count": 0,
          "min": "1e-06",
          "max": "10000.0",
          "histogram": [
           {
            "bin_start": 0.000001,
            "bin_end": 1000.0000008999999,
            "count": 26
           },
           {
            "bin_start": 1000.0000008999999,
            "bin_end": 2000.0000008,
            "count": 0
           },
           {
            "bin_start": 2000.0000008,
            "bin_end": 3000.0000006999994,
            "count": 0
           },
           {
            "bin_start": 3000.0000006999994,
            "bin_end": 4000.0000005999996,
            "count": 0
           },
           {
            "bin_start": 4000.0000005999996,
            "bin_end": 5000.0000005,
            "count": 0
           },
           {
            "bin_start": 5000.0000005,
            "bin_end": 6000.000000399999,
            "count": 0
           },
           {
            "bin_start": 6000.000000399999,
            "bin_end": 7000.0000003,
            "count": 0
           },
           {
            "bin_start": 7000.0000003,
            "bin_end": 8000.0000002,
            "count": 0
           },
           {
            "bin_start": 8000.0000002,
            "bin_end": 9000.000000099999,
            "count": 0
           },
           {
            "bin_start": 9000.000000099999,
            "bin_end": 10000,
            "count": 4
           }
          ]
         }
        },
        {
         "name": "TimeToRestart",
         "dtype": "float64",
         "stats": {
          "unique_count": 2,
          "nan_count": 0,
          "min": "1e-06",
          "max": "10.0",
          "histogram": [
           {
            "bin_start": 0.000001,
            "bin_end": 1.0000009,
            "count": 8
           },
           {
            "bin_start": 1.0000009,
            "bin_end": 2.0000008,
            "count": 0
           },
           {
            "bin_start": 2.0000008,
            "bin_end": 3.0000007,
            "count": 0
           },
           {
            "bin_start": 3.0000007,
            "bin_end": 4.0000006,
            "count": 0
           },
           {
            "bin_start": 4.0000006,
            "bin_end": 5.0000005000000005,
            "count": 0
           },
           {
            "bin_start": 5.0000005000000005,
            "bin_end": 6.0000004,
            "count": 0
           },
           {
            "bin_start": 6.0000004,
            "bin_end": 7.000000300000001,
            "count": 0
           },
           {
            "bin_start": 7.000000300000001,
            "bin_end": 8.0000002,
            "count": 0
           },
           {
            "bin_start": 8.0000002,
            "bin_end": 9.0000001,
            "count": 0
           },
           {
            "bin_start": 9.0000001,
            "bin_end": 10,
            "count": 22
           }
          ]
         }
        },
        {
         "name": "Unnamed:7",
         "dtype": "float64",
         "stats": {
          "unique_count": 0,
          "nan_count": 30,
          "min": null,
          "max": null,
          "histogram": [
           {
            "bin_start": 0,
            "bin_end": 0.1,
            "count": 0
           },
           {
            "bin_start": 0.1,
            "bin_end": 0.2,
            "count": 0
           },
           {
            "bin_start": 0.2,
            "bin_end": 0.30000000000000004,
            "count": 0
           },
           {
            "bin_start": 0.30000000000000004,
            "bin_end": 0.4,
            "count": 0
           },
           {
            "bin_start": 0.4,
            "bin_end": 0.5,
            "count": 0
           },
           {
            "bin_start": 0.5,
            "bin_end": 0.6000000000000001,
            "count": 0
           },
           {
            "bin_start": 0.6000000000000001,
            "bin_end": 0.7000000000000001,
            "count": 0
           },
           {
            "bin_start": 0.7000000000000001,
            "bin_end": 0.8,
            "count": 0
           },
           {
            "bin_start": 0.8,
            "bin_end": 0.9,
            "count": 0
           },
           {
            "bin_start": 0.9,
            "bin_end": 1,
            "count": 0
           }
          ]
         }
        },
        {
         "name": "_deepnote_index_column",
         "dtype": "int64"
        }
       ],
       "rows_top": [
        {
         "AirportID": "SVO",
         "TerminalID": "B",
         "StructureID": "BHS",
         "ProcessingTime": 240,
         "QueryCapacity": 40,
         "Capacity": 200,
         "TimeToRestart": 10,
         "Unnamed:7": "nan",
         "_deepnote_index_column": 0
        },
        {
         "AirportID": "SVO",
         "TerminalID": "B",
         "StructureID": "INBP",
         "ProcessingTime": 120,
         "QueryCapacity": 40,
         "Capacity": 200,
         "TimeToRestart": 10,
         "Unnamed:7": "nan",
         "_deepnote_index_column": 1
        },
        {
         "AirportID": "SVO",
         "TerminalID": "B",
         "StructureID": "OUTBP",
         "ProcessingTime": 120,
         "QueryCapacity": 40,
         "Capacity": 200,
         "TimeToRestart": 10,
         "Unnamed:7": "nan",
         "_deepnote_index_column": 2
        },
        {
         "AirportID": "SVO",
         "TerminalID": "B",
         "StructureID": "TBS",
         "ProcessingTime": 120,
         "QueryCapacity": 40,
         "Capacity": 1000,
         "TimeToRestart": 10,
         "Unnamed:7": "nan",
         "_deepnote_index_column": 3
        },
        {
         "AirportID": "SVO",
         "TerminalID": "B",
         "StructureID": "LTTBS",
         "ProcessingTime": 240,
         "QueryCapacity": 40,
         "Capacity": 10000,
         "TimeToRestart": 10,
         "Unnamed:7": "nan",
         "_deepnote_index_column": 4
        },
        {
         "AirportID": "SVO",
         "TerminalID": "C",
         "StructureID": "BHS",
         "ProcessingTime": 240,
         "QueryCapacity": 40,
         "Capacity": 200,
         "TimeToRestart": 10,
         "Unnamed:7": "nan",
         "_deepnote_index_column": 5
        },
        {
         "AirportID": "SVO",
         "TerminalID": "C",
         "StructureID": "INBP",
         "ProcessingTime": 120,
         "QueryCapacity": 40,
         "Capacity": 200,
         "TimeToRestart": 10,
         "Unnamed:7": "nan",
         "_deepnote_index_column": 6
        },
        {
         "AirportID": "SVO",
         "TerminalID": "C",
         "StructureID": "OUTBP",
         "ProcessingTime": 120,
         "QueryCapacity": 40,
         "Capacity": 200,
         "TimeToRestart": 10,
         "Unnamed:7": "nan",
         "_deepnote_index_column": 7
        },
        {
         "AirportID": "SVO",
         "TerminalID": "C",
         "StructureID": "TBS",
         "ProcessingTime": 120,
         "QueryCapacity": 40,
         "Capacity": 1000,
         "TimeToRestart": 10,
         "Unnamed:7": "nan",
         "_deepnote_index_column": 8
        },
        {
         "AirportID": "SVO",
         "TerminalID": "C",
         "StructureID": "LTTBS",
         "ProcessingTime": 240,
         "QueryCapacity": 40,
         "Capacity": 10000,
         "TimeToRestart": 10,
         "Unnamed:7": "nan",
         "_deepnote_index_column": 9
        },
        {
         "AirportID": "SVO",
         "TerminalID": "D",
         "StructureID": "BHS",
         "ProcessingTime": 240,
         "QueryCapacity": 40,
         "Capacity": 200,
         "TimeToRestart": 10,
         "Unnamed:7": "nan",
         "_deepnote_index_column": 10
        },
        {
         "AirportID": "SVO",
         "TerminalID": "D",
         "StructureID": "INBP",
         "ProcessingTime": 120,
         "QueryCapacity": 40,
         "Capacity": 200,
         "TimeToRestart": 10,
         "Unnamed:7": "nan",
         "_deepnote_index_column": 11
        },
        {
         "AirportID": "SVO",
         "TerminalID": "D",
         "StructureID": "OUTBP",
         "ProcessingTime": 120,
         "QueryCapacity": 40,
         "Capacity": 200,
         "TimeToRestart": 10,
         "Unnamed:7": "nan",
         "_deepnote_index_column": 12
        },
        {
         "AirportID": "SVO",
         "TerminalID": "D",
         "StructureID": "TBS",
         "ProcessingTime": 120,
         "QueryCapacity": 40,
         "Capacity": 1000,
         "TimeToRestart": 10,
         "Unnamed:7": "nan",
         "_deepnote_index_column": 13
        },
        {
         "AirportID": "SVO",
         "TerminalID": "D",
         "StructureID": "LTTBS",
         "ProcessingTime": 240,
         "QueryCapacity": 40,
         "Capacity": 10000,
         "TimeToRestart": 10,
         "Unnamed:7": "nan",
         "_deepnote_index_column": 14
        },
        {
         "AirportID": "SVO",
         "TerminalID": "E",
         "StructureID": "BHS",
         "ProcessingTime": 240,
         "QueryCapacity": 40,
         "Capacity": 200,
         "TimeToRestart": 10,
         "Unnamed:7": "nan",
         "_deepnote_index_column": 15
        },
        {
         "AirportID": "SVO",
         "TerminalID": "E",
         "StructureID": "INBP",
         "ProcessingTime": 120,
         "QueryCapacity": 40,
         "Capacity": 200,
         "TimeToRestart": 10,
         "Unnamed:7": "nan",
         "_deepnote_index_column": 16
        },
        {
         "AirportID": "SVO",
         "TerminalID": "E",
         "StructureID": "OUTBP",
         "ProcessingTime": 120,
         "QueryCapacity": 40,
         "Capacity": 200,
         "TimeToRestart": 10,
         "Unnamed:7": "nan",
         "_deepnote_index_column": 17
        },
        {
         "AirportID": "SVO",
         "TerminalID": "E",
         "StructureID": "TBS",
         "ProcessingTime": 120,
         "QueryCapacity": 40,
         "Capacity": 1000,
         "TimeToRestart": 10,
         "Unnamed:7": "nan",
         "_deepnote_index_column": 18
        },
        {
         "AirportID": "SVO",
         "TerminalID": "E",
         "StructureID": "LTTBS",
         "ProcessingTime": 240,
         "QueryCapacity": 40,
         "Capacity": 10000,
         "TimeToRestart": 10,
         "Unnamed:7": "nan",
         "_deepnote_index_column": 19
        },
        {
         "AirportID": "SVO",
         "TerminalID": "N",
         "StructureID": "BHS",
         "ProcessingTime": 120,
         "QueryCapacity": 20,
         "Capacity": 100,
         "TimeToRestart": 10,
         "Unnamed:7": "nan",
         "_deepnote_index_column": 20
        },
        {
         "AirportID": "SVO",
         "TerminalID": "N",
         "StructureID": "INBP",
         "ProcessingTime": 0.000001,
         "QueryCapacity": 0.000001,
         "Capacity": 0.000001,
         "TimeToRestart": 0.000001,
         "Unnamed:7": "nan",
         "_deepnote_index_column": 21
        },
        {
         "AirportID": "SVO",
         "TerminalID": "N",
         "StructureID": "OUTBP",
         "ProcessingTime": 0.000001,
         "QueryCapacity": 0.000001,
         "Capacity": 0.000001,
         "TimeToRestart": 0.000001,
         "Unnamed:7": "nan",
         "_deepnote_index_column": 22
        },
        {
         "AirportID": "SVO",
         "TerminalID": "N",
         "StructureID": "TBS",
         "ProcessingTime": 0.000001,
         "QueryCapacity": 0.000001,
         "Capacity": 0.000001,
         "TimeToRestart": 0.000001,
         "Unnamed:7": "nan",
         "_deepnote_index_column": 23
        },
        {
         "AirportID": "SVO",
         "TerminalID": "N",
         "StructureID": "LTTBS",
         "ProcessingTime": 0.000001,
         "QueryCapacity": 0.000001,
         "Capacity": 0.000001,
         "TimeToRestart": 0.000001,
         "Unnamed:7": "nan",
         "_deepnote_index_column": 24
        },
        {
         "AirportID": "SVO",
         "TerminalID": "S",
         "StructureID": "BHS",
         "ProcessingTime": 120,
         "QueryCapacity": 20,
         "Capacity": 100,
         "TimeToRestart": 10,
         "Unnamed:7": "nan",
         "_deepnote_index_column": 25
        },
        {
         "AirportID": "SVO",
         "TerminalID": "S",
         "StructureID": "INBP",
         "ProcessingTime": 0.000001,
         "QueryCapacity": 0.000001,
         "Capacity": 0.000001,
         "TimeToRestart": 0.000001,
         "Unnamed:7": "nan",
         "_deepnote_index_column": 26
        },
        {
         "AirportID": "SVO",
         "TerminalID": "S",
         "StructureID": "OUTBP",
         "ProcessingTime": 0.000001,
         "QueryCapacity": 0.000001,
         "Capacity": 0.000001,
         "TimeToRestart": 0.000001,
         "Unnamed:7": "nan",
         "_deepnote_index_column": 27
        },
        {
         "AirportID": "SVO",
         "TerminalID": "S",
         "StructureID": "TBS",
         "ProcessingTime": 0.000001,
         "QueryCapacity": 0.000001,
         "Capacity": 0.000001,
         "TimeToRestart": 0.000001,
         "Unnamed:7": "nan",
         "_deepnote_index_column": 28
        },
        {
         "AirportID": "SVO",
         "TerminalID": "S",
         "StructureID": "LTTBS",
         "ProcessingTime": 0.000001,
         "QueryCapacity": 0.000001,
         "Capacity": 0.000001,
         "TimeToRestart": 0.000001,
         "Unnamed:7": "nan",
         "_deepnote_index_column": 29
        }
       ],
       "rows_bottom": null
      },
      "text/plain": "   AirportID TerminalID StructureID  ProcessingTime  QueryCapacity  \\\n0        SVO          B         BHS      240.000000      40.000000   \n1        SVO          B        INBP      120.000000      40.000000   \n2        SVO          B       OUTBP      120.000000      40.000000   \n3        SVO          B         TBS      120.000000      40.000000   \n4        SVO          B       LTTBS      240.000000      40.000000   \n5        SVO          C         BHS      240.000000      40.000000   \n6        SVO          C        INBP      120.000000      40.000000   \n7        SVO          C       OUTBP      120.000000      40.000000   \n8        SVO          C         TBS      120.000000      40.000000   \n9        SVO          C       LTTBS      240.000000      40.000000   \n10       SVO          D         BHS      240.000000      40.000000   \n11       SVO          D        INBP      120.000000      40.000000   \n12       SVO          D       OUTBP      120.000000      40.000000   \n13       SVO          D         TBS      120.000000      40.000000   \n14       SVO          D       LTTBS      240.000000      40.000000   \n15       SVO          E         BHS      240.000000      40.000000   \n16       SVO          E        INBP      120.000000      40.000000   \n17       SVO          E       OUTBP      120.000000      40.000000   \n18       SVO          E         TBS      120.000000      40.000000   \n19       SVO          E       LTTBS      240.000000      40.000000   \n20       SVO          N         BHS      120.000000      20.000000   \n21       SVO          N        INBP        0.000001       0.000001   \n22       SVO          N       OUTBP        0.000001       0.000001   \n23       SVO          N         TBS        0.000001       0.000001   \n24       SVO          N       LTTBS        0.000001       0.000001   \n25       SVO          S         BHS      120.000000      20.000000   \n26       SVO          S        INBP        0.000001       0.000001   \n27       SVO          S       OUTBP        0.000001       0.000001   \n28       SVO          S         TBS        0.000001       0.000001   \n29       SVO          S       LTTBS        0.000001       0.000001   \n\n        Capacity  TimeToRestart  Unnamed:7  \n0     200.000000      10.000000        NaN  \n1     200.000000      10.000000        NaN  \n2     200.000000      10.000000        NaN  \n3    1000.000000      10.000000        NaN  \n4   10000.000000      10.000000        NaN  \n5     200.000000      10.000000        NaN  \n6     200.000000      10.000000        NaN  \n7     200.000000      10.000000        NaN  \n8    1000.000000      10.000000        NaN  \n9   10000.000000      10.000000        NaN  \n10    200.000000      10.000000        NaN  \n11    200.000000      10.000000        NaN  \n12    200.000000      10.000000        NaN  \n13   1000.000000      10.000000        NaN  \n14  10000.000000      10.000000        NaN  \n15    200.000000      10.000000        NaN  \n16    200.000000      10.000000        NaN  \n17    200.000000      10.000000        NaN  \n18   1000.000000      10.000000        NaN  \n19  10000.000000      10.000000        NaN  \n20    100.000000      10.000000        NaN  \n21      0.000001       0.000001        NaN  \n22      0.000001       0.000001        NaN  \n23      0.000001       0.000001        NaN  \n24      0.000001       0.000001        NaN  \n25    100.000000      10.000000        NaN  \n26      0.000001       0.000001        NaN  \n27      0.000001       0.000001        NaN  \n28      0.000001       0.000001        NaN  \n29      0.000001       0.000001        NaN  ",
      "text/html": "<div>\n<style scoped>\n    .dataframe tbody tr th:only-of-type {\n        vertical-align: middle;\n    }\n\n    .dataframe tbody tr th {\n        vertical-align: top;\n    }\n\n    .dataframe thead th {\n        text-align: right;\n    }\n</style>\n<table border=\"1\" class=\"dataframe\">\n  <thead>\n    <tr style=\"text-align: right;\">\n      <th></th>\n      <th>AirportID</th>\n      <th>TerminalID</th>\n      <th>StructureID</th>\n      <th>ProcessingTime</th>\n      <th>QueryCapacity</th>\n      <th>Capacity</th>\n      <th>TimeToRestart</th>\n      <th>Unnamed:7</th>\n    </tr>\n  </thead>\n  <tbody>\n    <tr>\n      <th>0</th>\n      <td>SVO</td>\n      <td>B</td>\n      <td>BHS</td>\n      <td>240.000000</td>\n      <td>40.000000</td>\n      <td>200.000000</td>\n      <td>10.000000</td>\n      <td>NaN</td>\n    </tr>\n    <tr>\n      <th>1</th>\n      <td>SVO</td>\n      <td>B</td>\n      <td>INBP</td>\n      <td>120.000000</td>\n      <td>40.000000</td>\n      <td>200.000000</td>\n      <td>10.000000</td>\n      <td>NaN</td>\n    </tr>\n    <tr>\n      <th>2</th>\n      <td>SVO</td>\n      <td>B</td>\n      <td>OUTBP</td>\n      <td>120.000000</td>\n      <td>40.000000</td>\n      <td>200.000000</td>\n      <td>10.000000</td>\n      <td>NaN</td>\n    </tr>\n    <tr>\n      <th>3</th>\n      <td>SVO</td>\n      <td>B</td>\n      <td>TBS</td>\n      <td>120.000000</td>\n      <td>40.000000</td>\n      <td>1000.000000</td>\n      <td>10.000000</td>\n      <td>NaN</td>\n    </tr>\n    <tr>\n      <th>4</th>\n      <td>SVO</td>\n      <td>B</td>\n      <td>LTTBS</td>\n      <td>240.000000</td>\n      <td>40.000000</td>\n      <td>10000.000000</td>\n      <td>10.000000</td>\n      <td>NaN</td>\n    </tr>\n    <tr>\n      <th>5</th>\n      <td>SVO</td>\n      <td>C</td>\n      <td>BHS</td>\n      <td>240.000000</td>\n      <td>40.000000</td>\n      <td>200.000000</td>\n      <td>10.000000</td>\n      <td>NaN</td>\n    </tr>\n    <tr>\n      <th>6</th>\n      <td>SVO</td>\n      <td>C</td>\n      <td>INBP</td>\n      <td>120.000000</td>\n      <td>40.000000</td>\n      <td>200.000000</td>\n      <td>10.000000</td>\n      <td>NaN</td>\n    </tr>\n    <tr>\n      <th>7</th>\n      <td>SVO</td>\n      <td>C</td>\n      <td>OUTBP</td>\n      <td>120.000000</td>\n      <td>40.000000</td>\n      <td>200.000000</td>\n      <td>10.000000</td>\n      <td>NaN</td>\n    </tr>\n    <tr>\n      <th>8</th>\n      <td>SVO</td>\n      <td>C</td>\n      <td>TBS</td>\n      <td>120.000000</td>\n      <td>40.000000</td>\n      <td>1000.000000</td>\n      <td>10.000000</td>\n      <td>NaN</td>\n    </tr>\n    <tr>\n      <th>9</th>\n      <td>SVO</td>\n      <td>C</td>\n      <td>LTTBS</td>\n      <td>240.000000</td>\n      <td>40.000000</td>\n      <td>10000.000000</td>\n      <td>10.000000</td>\n      <td>NaN</td>\n    </tr>\n    <tr>\n      <th>10</th>\n      <td>SVO</td>\n      <td>D</td>\n      <td>BHS</td>\n      <td>240.000000</td>\n      <td>40.000000</td>\n      <td>200.000000</td>\n      <td>10.000000</td>\n      <td>NaN</td>\n    </tr>\n    <tr>\n      <th>11</th>\n      <td>SVO</td>\n      <td>D</td>\n      <td>INBP</td>\n      <td>120.000000</td>\n      <td>40.000000</td>\n      <td>200.000000</td>\n      <td>10.000000</td>\n      <td>NaN</td>\n    </tr>\n    <tr>\n      <th>12</th>\n      <td>SVO</td>\n      <td>D</td>\n      <td>OUTBP</td>\n      <td>120.000000</td>\n      <td>40.000000</td>\n      <td>200.000000</td>\n      <td>10.000000</td>\n      <td>NaN</td>\n    </tr>\n    <tr>\n      <th>13</th>\n      <td>SVO</td>\n      <td>D</td>\n      <td>TBS</td>\n      <td>120.000000</td>\n      <td>40.000000</td>\n      <td>1000.000000</td>\n      <td>10.000000</td>\n      <td>NaN</td>\n    </tr>\n    <tr>\n      <th>14</th>\n      <td>SVO</td>\n      <td>D</td>\n      <td>LTTBS</td>\n      <td>240.000000</td>\n      <td>40.000000</td>\n      <td>10000.000000</td>\n      <td>10.000000</td>\n      <td>NaN</td>\n    </tr>\n    <tr>\n      <th>15</th>\n      <td>SVO</td>\n      <td>E</td>\n      <td>BHS</td>\n      <td>240.000000</td>\n      <td>40.000000</td>\n      <td>200.000000</td>\n      <td>10.000000</td>\n      <td>NaN</td>\n    </tr>\n    <tr>\n      <th>16</th>\n      <td>SVO</td>\n      <td>E</td>\n      <td>INBP</td>\n      <td>120.000000</td>\n      <td>40.000000</td>\n      <td>200.000000</td>\n      <td>10.000000</td>\n      <td>NaN</td>\n    </tr>\n    <tr>\n      <th>17</th>\n      <td>SVO</td>\n      <td>E</td>\n      <td>OUTBP</td>\n      <td>120.000000</td>\n      <td>40.000000</td>\n      <td>200.000000</td>\n      <td>10.000000</td>\n      <td>NaN</td>\n    </tr>\n    <tr>\n      <th>18</th>\n      <td>SVO</td>\n      <td>E</td>\n      <td>TBS</td>\n      <td>120.000000</td>\n      <td>40.000000</td>\n      <td>1000.000000</td>\n      <td>10.000000</td>\n      <td>NaN</td>\n    </tr>\n    <tr>\n      <th>19</th>\n      <td>SVO</td>\n      <td>E</td>\n      <td>LTTBS</td>\n      <td>240.000000</td>\n      <td>40.000000</td>\n      <td>10000.000000</td>\n      <td>10.000000</td>\n      <td>NaN</td>\n    </tr>\n    <tr>\n      <th>20</th>\n      <td>SVO</td>\n      <td>N</td>\n      <td>BHS</td>\n      <td>120.000000</td>\n      <td>20.000000</td>\n      <td>100.000000</td>\n      <td>10.000000</td>\n      <td>NaN</td>\n    </tr>\n    <tr>\n      <th>21</th>\n      <td>SVO</td>\n      <td>N</td>\n      <td>INBP</td>\n      <td>0.000001</td>\n      <td>0.000001</td>\n      <td>0.000001</td>\n      <td>0.000001</td>\n      <td>NaN</td>\n    </tr>\n    <tr>\n      <th>22</th>\n      <td>SVO</td>\n      <td>N</td>\n      <td>OUTBP</td>\n      <td>0.000001</td>\n      <td>0.000001</td>\n      <td>0.000001</td>\n      <td>0.000001</td>\n      <td>NaN</td>\n    </tr>\n    <tr>\n      <th>23</th>\n      <td>SVO</td>\n      <td>N</td>\n      <td>TBS</td>\n      <td>0.000001</td>\n      <td>0.000001</td>\n      <td>0.000001</td>\n      <td>0.000001</td>\n      <td>NaN</td>\n    </tr>\n    <tr>\n      <th>24</th>\n      <td>SVO</td>\n      <td>N</td>\n      <td>LTTBS</td>\n      <td>0.000001</td>\n      <td>0.000001</td>\n      <td>0.000001</td>\n      <td>0.000001</td>\n      <td>NaN</td>\n    </tr>\n    <tr>\n      <th>25</th>\n      <td>SVO</td>\n      <td>S</td>\n      <td>BHS</td>\n      <td>120.000000</td>\n      <td>20.000000</td>\n      <td>100.000000</td>\n      <td>10.000000</td>\n      <td>NaN</td>\n    </tr>\n    <tr>\n      <th>26</th>\n      <td>SVO</td>\n      <td>S</td>\n      <td>INBP</td>\n      <td>0.000001</td>\n      <td>0.000001</td>\n      <td>0.000001</td>\n      <td>0.000001</td>\n      <td>NaN</td>\n    </tr>\n    <tr>\n      <th>27</th>\n      <td>SVO</td>\n      <td>S</td>\n      <td>OUTBP</td>\n      <td>0.000001</td>\n      <td>0.000001</td>\n      <td>0.000001</td>\n      <td>0.000001</td>\n      <td>NaN</td>\n    </tr>\n    <tr>\n      <th>28</th>\n      <td>SVO</td>\n      <td>S</td>\n      <td>TBS</td>\n      <td>0.000001</td>\n      <td>0.000001</td>\n      <td>0.000001</td>\n      <td>0.000001</td>\n      <td>NaN</td>\n    </tr>\n    <tr>\n      <th>29</th>\n      <td>SVO</td>\n      <td>S</td>\n      <td>LTTBS</td>\n      <td>0.000001</td>\n      <td>0.000001</td>\n      <td>0.000001</td>\n      <td>0.000001</td>\n      <td>NaN</td>\n    </tr>\n  </tbody>\n</table>\n</div>"
     },
     "metadata": {}
    }
   ]
  },
  {
   "cell_type": "code",
   "metadata": {
    "deepnote_to_be_reexecuted": false,
    "execution_millis": 31,
    "execution_start": 1624936693768,
    "source_hash": "fb913994",
    "tags": [],
    "colab": {
     "base_uri": "https://localhost:8080/",
     "height": 298
    },
    "id": "SDpSbPE82Jzm",
    "outputId": "6a4abb1f-5f9d-4acd-f9ff-ef3f5c16cf40",
    "cell_id": "00005-b0843e4a-4cc5-4f35-a8ff-ec2f41166e86",
    "deepnote_cell_type": "code"
   },
   "source": "ctt_inf",
   "execution_count": null,
   "outputs": [
    {
     "output_type": "execute_result",
     "execution_count": 4,
     "data": {
      "application/vnd.deepnote.dataframe.v2+json": {
       "row_count": 8,
       "column_count": 7,
       "columns": [
        {
         "name": "AirportID    ",
         "dtype": "object",
         "stats": {
          "unique_count": 1,
          "nan_count": 0,
          "categories": [
           {
            "name": "SVO",
            "count": 8
           }
          ]
         }
        },
        {
         "name": "TerminalDepID  ",
         "dtype": "object",
         "stats": {
          "unique_count": 5,
          "nan_count": 0,
          "categories": [
           {
            "name": "E",
            "count": 3
           },
           {
            "name": "B",
            "count": 2
           },
           {
            "name": "3 others",
            "count": 3
           }
          ]
         }
        },
        {
         "name": "TerminalArrID  ",
         "dtype": "object",
         "stats": {
          "unique_count": 5,
          "nan_count": 0,
          "categories": [
           {
            "name": "E",
            "count": 3
           },
           {
            "name": "B",
            "count": 2
           },
           {
            "name": "3 others",
            "count": 3
           }
          ]
         }
        },
        {
         "name": "ProcessingTime  ",
         "dtype": "int64",
         "stats": {
          "unique_count": 2,
          "nan_count": 0,
          "min": "120",
          "max": "360",
          "histogram": [
           {
            "bin_start": 120,
            "bin_end": 144,
            "count": 7
           },
           {
            "bin_start": 144,
            "bin_end": 168,
            "count": 0
           },
           {
            "bin_start": 168,
            "bin_end": 192,
            "count": 0
           },
           {
            "bin_start": 192,
            "bin_end": 216,
            "count": 0
           },
           {
            "bin_start": 216,
            "bin_end": 240,
            "count": 0
           },
           {
            "bin_start": 240,
            "bin_end": 264,
            "count": 0
           },
           {
            "bin_start": 264,
            "bin_end": 288,
            "count": 0
           },
           {
            "bin_start": 288,
            "bin_end": 312,
            "count": 0
           },
           {
            "bin_start": 312,
            "bin_end": 336,
            "count": 0
           },
           {
            "bin_start": 336,
            "bin_end": 360,
            "count": 1
           }
          ]
         }
        },
        {
         "name": "QueryCapacity",
         "dtype": "int64",
         "stats": {
          "unique_count": 2,
          "nan_count": 0,
          "min": "10",
          "max": "20",
          "histogram": [
           {
            "bin_start": 10,
            "bin_end": 11,
            "count": 1
           },
           {
            "bin_start": 11,
            "bin_end": 12,
            "count": 0
           },
           {
            "bin_start": 12,
            "bin_end": 13,
            "count": 0
           },
           {
            "bin_start": 13,
            "bin_end": 14,
            "count": 0
           },
           {
            "bin_start": 14,
            "bin_end": 15,
            "count": 0
           },
           {
            "bin_start": 15,
            "bin_end": 16,
            "count": 0
           },
           {
            "bin_start": 16,
            "bin_end": 17,
            "count": 0
           },
           {
            "bin_start": 17,
            "bin_end": 18,
            "count": 0
           },
           {
            "bin_start": 18,
            "bin_end": 19,
            "count": 0
           },
           {
            "bin_start": 19,
            "bin_end": 20,
            "count": 7
           }
          ]
         }
        },
        {
         "name": "Capacity",
         "dtype": "int64",
         "stats": {
          "unique_count": 1,
          "nan_count": 0,
          "min": "100",
          "max": "100",
          "histogram": [
           {
            "bin_start": 99.5,
            "bin_end": 99.6,
            "count": 0
           },
           {
            "bin_start": 99.6,
            "bin_end": 99.7,
            "count": 0
           },
           {
            "bin_start": 99.7,
            "bin_end": 99.8,
            "count": 0
           },
           {
            "bin_start": 99.8,
            "bin_end": 99.9,
            "count": 0
           },
           {
            "bin_start": 99.9,
            "bin_end": 100,
            "count": 0
           },
           {
            "bin_start": 100,
            "bin_end": 100.1,
            "count": 8
           },
           {
            "bin_start": 100.1,
            "bin_end": 100.2,
            "count": 0
           },
           {
            "bin_start": 100.2,
            "bin_end": 100.3,
            "count": 0
           },
           {
            "bin_start": 100.3,
            "bin_end": 100.4,
            "count": 0
           },
           {
            "bin_start": 100.4,
            "bin_end": 100.5,
            "count": 0
           }
          ]
         }
        },
        {
         "name": "TimeToRestart",
         "dtype": "int64",
         "stats": {
          "unique_count": 1,
          "nan_count": 0,
          "min": "10",
          "max": "10",
          "histogram": [
           {
            "bin_start": 9.5,
            "bin_end": 9.6,
            "count": 0
           },
           {
            "bin_start": 9.6,
            "bin_end": 9.7,
            "count": 0
           },
           {
            "bin_start": 9.7,
            "bin_end": 9.8,
            "count": 0
           },
           {
            "bin_start": 9.8,
            "bin_end": 9.9,
            "count": 0
           },
           {
            "bin_start": 9.9,
            "bin_end": 10,
            "count": 0
           },
           {
            "bin_start": 10,
            "bin_end": 10.1,
            "count": 8
           },
           {
            "bin_start": 10.1,
            "bin_end": 10.2,
            "count": 0
           },
           {
            "bin_start": 10.2,
            "bin_end": 10.3,
            "count": 0
           },
           {
            "bin_start": 10.3,
            "bin_end": 10.4,
            "count": 0
           },
           {
            "bin_start": 10.4,
            "bin_end": 10.5,
            "count": 0
           }
          ]
         }
        },
        {
         "name": "_deepnote_index_column",
         "dtype": "int64"
        }
       ],
       "rows_top": [
        {
         "AirportID    ": "SVO",
         "TerminalDepID  ": "D",
         "TerminalArrID  ": "E",
         "ProcessingTime  ": 120,
         "QueryCapacity": 20,
         "Capacity": 100,
         "TimeToRestart": 10,
         "_deepnote_index_column": 0
        },
        {
         "AirportID    ": "SVO",
         "TerminalDepID  ": "E",
         "TerminalArrID  ": "D",
         "ProcessingTime  ": 120,
         "QueryCapacity": 20,
         "Capacity": 100,
         "TimeToRestart": 10,
         "_deepnote_index_column": 1
        },
        {
         "AirportID    ": "SVO",
         "TerminalDepID  ": "E",
         "TerminalArrID  ": "B",
         "ProcessingTime  ": 360,
         "QueryCapacity": 10,
         "Capacity": 100,
         "TimeToRestart": 10,
         "_deepnote_index_column": 2
        },
        {
         "AirportID    ": "SVO",
         "TerminalDepID  ": "B",
         "TerminalArrID  ": "E",
         "ProcessingTime  ": 120,
         "QueryCapacity": 20,
         "Capacity": 100,
         "TimeToRestart": 10,
         "_deepnote_index_column": 3
        },
        {
         "AirportID    ": "SVO",
         "TerminalDepID  ": "F",
         "TerminalArrID  ": "E",
         "ProcessingTime  ": 120,
         "QueryCapacity": 20,
         "Capacity": 100,
         "TimeToRestart": 10,
         "_deepnote_index_column": 4
        },
        {
         "AirportID    ": "SVO",
         "TerminalDepID  ": "E",
         "TerminalArrID  ": "F",
         "ProcessingTime  ": 120,
         "QueryCapacity": 20,
         "Capacity": 100,
         "TimeToRestart": 10,
         "_deepnote_index_column": 5
        },
        {
         "AirportID    ": "SVO",
         "TerminalDepID  ": "C",
         "TerminalArrID  ": "B",
         "ProcessingTime  ": 120,
         "QueryCapacity": 20,
         "Capacity": 100,
         "TimeToRestart": 10,
         "_deepnote_index_column": 6
        },
        {
         "AirportID    ": "SVO",
         "TerminalDepID  ": "B",
         "TerminalArrID  ": "C",
         "ProcessingTime  ": 120,
         "QueryCapacity": 20,
         "Capacity": 100,
         "TimeToRestart": 10,
         "_deepnote_index_column": 7
        }
       ],
       "rows_bottom": null
      },
      "text/plain": "  AirportID     TerminalDepID   TerminalArrID    ProcessingTime    \\\n0           SVO               D               E               120   \n1           SVO               E               D               120   \n2           SVO               E               B               360   \n3           SVO               B               E               120   \n4           SVO               F               E               120   \n5           SVO               E               F               120   \n6           SVO               C               B               120   \n7           SVO               B               C               120   \n\n   QueryCapacity  Capacity  TimeToRestart  \n0             20       100             10  \n1             20       100             10  \n2             10       100             10  \n3             20       100             10  \n4             20       100             10  \n5             20       100             10  \n6             20       100             10  \n7             20       100             10  ",
      "text/html": "<div>\n<style scoped>\n    .dataframe tbody tr th:only-of-type {\n        vertical-align: middle;\n    }\n\n    .dataframe tbody tr th {\n        vertical-align: top;\n    }\n\n    .dataframe thead th {\n        text-align: right;\n    }\n</style>\n<table border=\"1\" class=\"dataframe\">\n  <thead>\n    <tr style=\"text-align: right;\">\n      <th></th>\n      <th>AirportID</th>\n      <th>TerminalDepID</th>\n      <th>TerminalArrID</th>\n      <th>ProcessingTime</th>\n      <th>QueryCapacity</th>\n      <th>Capacity</th>\n      <th>TimeToRestart</th>\n    </tr>\n  </thead>\n  <tbody>\n    <tr>\n      <th>0</th>\n      <td>SVO</td>\n      <td>D</td>\n      <td>E</td>\n      <td>120</td>\n      <td>20</td>\n      <td>100</td>\n      <td>10</td>\n    </tr>\n    <tr>\n      <th>1</th>\n      <td>SVO</td>\n      <td>E</td>\n      <td>D</td>\n      <td>120</td>\n      <td>20</td>\n      <td>100</td>\n      <td>10</td>\n    </tr>\n    <tr>\n      <th>2</th>\n      <td>SVO</td>\n      <td>E</td>\n      <td>B</td>\n      <td>360</td>\n      <td>10</td>\n      <td>100</td>\n      <td>10</td>\n    </tr>\n    <tr>\n      <th>3</th>\n      <td>SVO</td>\n      <td>B</td>\n      <td>E</td>\n      <td>120</td>\n      <td>20</td>\n      <td>100</td>\n      <td>10</td>\n    </tr>\n    <tr>\n      <th>4</th>\n      <td>SVO</td>\n      <td>F</td>\n      <td>E</td>\n      <td>120</td>\n      <td>20</td>\n      <td>100</td>\n      <td>10</td>\n    </tr>\n    <tr>\n      <th>5</th>\n      <td>SVO</td>\n      <td>E</td>\n      <td>F</td>\n      <td>120</td>\n      <td>20</td>\n      <td>100</td>\n      <td>10</td>\n    </tr>\n    <tr>\n      <th>6</th>\n      <td>SVO</td>\n      <td>C</td>\n      <td>B</td>\n      <td>120</td>\n      <td>20</td>\n      <td>100</td>\n      <td>10</td>\n    </tr>\n    <tr>\n      <th>7</th>\n      <td>SVO</td>\n      <td>B</td>\n      <td>C</td>\n      <td>120</td>\n      <td>20</td>\n      <td>100</td>\n      <td>10</td>\n    </tr>\n  </tbody>\n</table>\n</div>"
     },
     "metadata": {}
    }
   ]
  },
  {
   "cell_type": "code",
   "metadata": {
    "ExecuteTime": {
     "end_time": "2021-04-16T10:04:56.315224Z",
     "start_time": "2021-04-16T10:04:56.302307Z"
    },
    "deepnote_to_be_reexecuted": false,
    "execution_millis": 27,
    "execution_start": 1624936693811,
    "id": "bqGElgaTXMeH",
    "source_hash": "736c665d",
    "tags": [],
    "cell_id": "00006-a0fb0ba4-6273-4303-a72f-393d63557285",
    "deepnote_cell_type": "code"
   },
   "source": "class my_class(object):\n    def __init__(self, sid, p_t, q_cap, capacity, ResT):\n        self.p_t, self.ResT, self.capacity, self.sid, self.q_cap = p_t, ResT, capacity, sid, q_cap\n\nclass TermL(object):\n    def __init__(self, terminal_id, BHS, INBP, OUTBP, TBS, LTTBS):\n        self.BHS, self.terminal_id, self.INBP, self.TBS, self.LTTBS, self.OUTBP = BHS, terminal_id, INBP, TBS, LTTBS, OUTBP\n\ndef get_structures(terminal_id, df): \n    df = df[df['TerminalID']==terminal_id]\n    terms = []\n    for sid in ['BHS', 'INBP', 'OUTBP',\n                         'TBS', 'LTTBS']:\n        valS = df.loc[df['StructureID']==sid, ['ProcessingTime',\n                                                           'QueryCapacity',\n                                                           'Capacity']].values[0]\n        terms.append(my_class(sid, valS[0], valS[1], valS[2], 5))\n    return terms\n\nclass CTT(object):\n    def __init__(self, dep, arr, p_t, q_cap, capacity, ResT):\n        self.q_cap, self.p_t, self.ResT, self.capacity, self.dep, self.arr = q_cap, p_t, ResT, capacity, dep, arr\n\ndef get_terminals(df):\n    term_all = []\n    for terminal_id in df['TerminalID'].unique(): \n        terminal_ = TermL(terminal_id, *get_structures(terminal_id, df))\n        term_all.append(terminal_)\n    return term_all\n\nterm_all = get_terminals(termin_info)",
   "execution_count": null,
   "outputs": []
  },
  {
   "cell_type": "code",
   "metadata": {
    "tags": [],
    "deepnote_to_be_reexecuted": false,
    "source_hash": "b19c4208",
    "execution_start": 1624936693846,
    "execution_millis": 7,
    "colab": {
     "base_uri": "https://localhost:8080/"
    },
    "id": "SySdAEXe2Jzo",
    "outputId": "02504a80-09a9-458c-9622-f0745196a73d",
    "cell_id": "00007-25c6a214-b321-4831-ad4d-9b8cfbf69ae6",
    "deepnote_cell_type": "code"
   },
   "source": "paisterm = [] \nfor p1 in ['B', 'C', 'D', 'E']:\n     for p2 in  ['B', 'C', 'D', 'E'] :\n         print(\"'\",p1+p2, \"'\", sep=\"\")\n",
   "execution_count": null,
   "outputs": [
    {
     "name": "stdout",
     "text": "'BB'\n'BC'\n'BD'\n'BE'\n'CB'\n'CC'\n'CD'\n'CE'\n'DB'\n'DC'\n'DD'\n'DE'\n'EB'\n'EC'\n'ED'\n'EE'\n",
     "output_type": "stream"
    }
   ]
  },
  {
   "cell_type": "code",
   "metadata": {
    "ExecuteTime": {
     "end_time": "2021-04-16T10:04:57.964422Z",
     "start_time": "2021-04-16T10:04:57.954777Z"
    },
    "deepnote_to_be_reexecuted": false,
    "execution_millis": 2,
    "execution_start": 1624936693859,
    "id": "agzsdQN-XMeJ",
    "source_hash": "b035c81b",
    "tags": [],
    "cell_id": "00008-2127e1a0-64b4-4abb-a3a4-baec303079ca",
    "deepnote_cell_type": "code"
   },
   "source": "CTT_NS = CTT(\"N\", \"S\", 360, 20, 100, 10)\nCTT_SN = CTT(\"S\", \"N\", 360, 20, 100, 10)\n\nCTT_BN = CTT(\"B\", \"N\", 0, 100000000, 100000000, 0)\nCTT_NB = CTT(\"N\", \"B\", 0, 100000000, 100000000, 0)\nCTT_CN = CTT(\"C\", \"N\", 0, 100000000, 100000000, 0)\nCTT_NC = CTT(\"N\", \"C\", 0, 100000000, 100000000, 0)\n\nCTT_DS = CTT(\"D\", \"S\", 0, 100000000, 100000000, 0)\nCTT_SD = CTT(\"S\", \"D\", 0, 100000000, 100000000, 0)\nCTT_ES = CTT(\"E\", \"S\", 0, 100000000, 100000000, 0)\nCTT_SE = CTT(\"S\", \"E\", 0, 100000000, 100000000, 0)\n\n\n\nCTT_dict = {\"NS\": CTT_NS, \"SN\": CTT_SN,\n             'BN': CTT_BN, 'NB': CTT_NB, 'CN': CTT_CN, 'NC': CTT_NC,\n             'DS': CTT_DS, 'SD': CTT_SD, 'ES': CTT_ES, 'SE': CTT_SE}\n\nCTT_convert = {\n    'BC': 'BN', 'NC': 'NC', \n    'CB': 'CN', 'NB': 'NB',\n    'DE': 'DS', 'SE': 'SE',\n    'ED': 'ES', 'SD': 'SD',\n    'BD': 'BN', 'ND': 'NS', 'SD': 'SD',\n    'BE': 'BN', 'NE': 'NS', 'SE': 'SE',\n    'CD': 'CN', 'ND': 'NS', 'SD': 'SD',\n    'CE': 'CN', 'NE': 'NS', 'SE': 'SE',\n    'DB': 'DS', 'SB': 'SN', 'NB': 'NB',\n    'EB': 'ES', 'SB': 'SN', 'NB': 'NB',\n    'DC': 'DS', 'SC': 'SN', 'NC': 'NC',\n    'EC': 'ES', 'SC': 'SN', 'NC': 'NC'}",
   "execution_count": null,
   "outputs": []
  },
  {
   "cell_type": "code",
   "metadata": {
    "ExecuteTime": {
     "end_time": "2021-04-16T10:04:58.832292Z",
     "start_time": "2021-04-16T10:04:58.805092Z"
    },
    "deepnote_to_be_reexecuted": false,
    "execution_millis": 37,
    "execution_start": 1624936693905,
    "id": "r3XufQgzXMeK",
    "source_hash": "a1099621",
    "tags": [],
    "colab": {
     "base_uri": "https://localhost:8080/",
     "height": 1000
    },
    "outputId": "08747267-46b7-47fb-8e27-ca13d95bf7a5",
    "cell_id": "00010-cb15e7b4-9c96-48ad-9943-e9d8a166f335",
    "deepnote_cell_type": "code"
   },
   "source": "#lug_d = pd.read_csv(\"result2019.csv\") # 69420\nlug_d = pd.read_csv(\"debug_set.csv\") #delete\n\nlug_d.drop('Unnamed: 0', axis=1, inplace=True)\nlug_d = lug_d[(lug_d.isTransit == 1) & (lug_d.DepartureTerminal != 'F') & (lug_d.ArrTerminal != 'F')].drop_duplicates(subset='TagID', keep=\"last\")\nlug_d",
   "execution_count": null,
   "outputs": [
    {
     "output_type": "execute_result",
     "execution_count": 8,
     "data": {
      "application/vnd.deepnote.dataframe.v2+json": {
       "row_count": 60,
       "column_count": 10,
       "columns": [
        {
         "name": "TagID",
         "dtype": "int64",
         "stats": {
          "unique_count": 60,
          "nan_count": 0,
          "min": "1",
          "max": "60",
          "histogram": [
           {
            "bin_start": 1,
            "bin_end": 6.9,
            "count": 6
           },
           {
            "bin_start": 6.9,
            "bin_end": 12.8,
            "count": 6
           },
           {
            "bin_start": 12.8,
            "bin_end": 18.700000000000003,
            "count": 6
           },
           {
            "bin_start": 18.700000000000003,
            "bin_end": 24.6,
            "count": 6
           },
           {
            "bin_start": 24.6,
            "bin_end": 30.5,
            "count": 6
           },
           {
            "bin_start": 30.5,
            "bin_end": 36.400000000000006,
            "count": 6
           },
           {
            "bin_start": 36.400000000000006,
            "bin_end": 42.300000000000004,
            "count": 6
           },
           {
            "bin_start": 42.300000000000004,
            "bin_end": 48.2,
            "count": 6
           },
           {
            "bin_start": 48.2,
            "bin_end": 54.1,
            "count": 6
           },
           {
            "bin_start": 54.1,
            "bin_end": 60,
            "count": 6
           }
          ]
         }
        },
        {
         "name": "AirportID",
         "dtype": "object",
         "stats": {
          "unique_count": 1,
          "nan_count": 0,
          "categories": [
           {
            "name": "SVO",
            "count": 60
           }
          ]
         }
        },
        {
         "name": "isTransit",
         "dtype": "int64",
         "stats": {
          "unique_count": 1,
          "nan_count": 0,
          "min": "1",
          "max": "1",
          "histogram": [
           {
            "bin_start": 0.5,
            "bin_end": 0.6,
            "count": 0
           },
           {
            "bin_start": 0.6,
            "bin_end": 0.7,
            "count": 0
           },
           {
            "bin_start": 0.7,
            "bin_end": 0.8,
            "count": 0
           },
           {
            "bin_start": 0.8,
            "bin_end": 0.9,
            "count": 0
           },
           {
            "bin_start": 0.9,
            "bin_end": 1,
            "count": 0
           },
           {
            "bin_start": 1,
            "bin_end": 1.1,
            "count": 60
           },
           {
            "bin_start": 1.1,
            "bin_end": 1.2000000000000002,
            "count": 0
           },
           {
            "bin_start": 1.2000000000000002,
            "bin_end": 1.3,
            "count": 0
           },
           {
            "bin_start": 1.3,
            "bin_end": 1.4,
            "count": 0
           },
           {
            "bin_start": 1.4,
            "bin_end": 1.5,
            "count": 0
           }
          ]
         }
        },
        {
         "name": "ArrFlNum",
         "dtype": "object",
         "stats": {
          "unique_count": 15,
          "nan_count": 0,
          "categories": [
           {
            "name": "SU2015",
            "count": 11
           },
           {
            "name": "SU1445",
            "count": 9
           },
           {
            "name": "13 others",
            "count": 40
           }
          ]
         }
        },
        {
         "name": "DepFlNum",
         "dtype": "object",
         "stats": {
          "unique_count": 28,
          "nan_count": 0,
          "categories": [
           {
            "name": "SU1306",
            "count": 6
           },
           {
            "name": "SU1522",
            "count": 6
           },
           {
            "name": "26 others",
            "count": 48
           }
          ]
         }
        },
        {
         "name": "ArrDateTime",
         "dtype": "object",
         "stats": {
          "unique_count": 3,
          "nan_count": 0,
          "categories": [
           {
            "name": "30.12.19 21:15:00",
            "count": 55
           },
           {
            "name": "22.12.19 20:40:00",
            "count": 4
           },
           {
            "name": "22.12.19 20:45:00",
            "count": 1
           }
          ]
         }
        },
        {
         "name": "DepDateTime",
         "dtype": "object",
         "stats": {
          "unique_count": 5,
          "nan_count": 0,
          "categories": [
           {
            "name": "30.12.19 23:15:00",
            "count": 55
           },
           {
            "name": "23.12.19 02:30:00",
            "count": 2
           },
           {
            "name": "3 others",
            "count": 3
           }
          ]
         }
        },
        {
         "name": "ArrTerminal",
         "dtype": "object",
         "stats": {
          "unique_count": 3,
          "nan_count": 0,
          "categories": [
           {
            "name": "B",
            "count": 37
           },
           {
            "name": "D",
            "count": 20
           },
           {
            "name": "E",
            "count": 3
           }
          ]
         }
        },
        {
         "name": "DepartureTerminal",
         "dtype": "object",
         "stats": {
          "unique_count": 3,
          "nan_count": 0,
          "categories": [
           {
            "name": "B",
            "count": 58
           },
           {
            "name": "C",
            "count": 1
           },
           {
            "name": "D",
            "count": 1
           }
          ]
         }
        },
        {
         "name": "Status",
         "dtype": "int64",
         "stats": {
          "unique_count": 1,
          "nan_count": 0,
          "min": "0",
          "max": "0",
          "histogram": [
           {
            "bin_start": -0.5,
            "bin_end": -0.4,
            "count": 0
           },
           {
            "bin_start": -0.4,
            "bin_end": -0.3,
            "count": 0
           },
           {
            "bin_start": -0.3,
            "bin_end": -0.19999999999999996,
            "count": 0
           },
           {
            "bin_start": -0.19999999999999996,
            "bin_end": -0.09999999999999998,
            "count": 0
           },
           {
            "bin_start": -0.09999999999999998,
            "bin_end": 0,
            "count": 0
           },
           {
            "bin_start": 0,
            "bin_end": 0.10000000000000009,
            "count": 60
           },
           {
            "bin_start": 0.10000000000000009,
            "bin_end": 0.20000000000000007,
            "count": 0
           },
           {
            "bin_start": 0.20000000000000007,
            "bin_end": 0.30000000000000004,
            "count": 0
           },
           {
            "bin_start": 0.30000000000000004,
            "bin_end": 0.4,
            "count": 0
           },
           {
            "bin_start": 0.4,
            "bin_end": 0.5,
            "count": 0
           }
          ]
         }
        },
        {
         "name": "_deepnote_index_column",
         "dtype": "int64"
        }
       ],
       "rows_top": [
        {
         "TagID": 1,
         "AirportID": "SVO",
         "isTransit": 1,
         "ArrFlNum": "SU1625",
         "DepFlNum": "SU2060",
         "ArrDateTime": "22.12.19 20:40:00",
         "DepDateTime": "23.12.19 09:55:00",
         "ArrTerminal": "B",
         "DepartureTerminal": "C",
         "Status": 0,
         "_deepnote_index_column": 0
        },
        {
         "TagID": 2,
         "AirportID": "SVO",
         "isTransit": 1,
         "ArrFlNum": "LO677",
         "DepFlNum": "SU1408",
         "ArrDateTime": "22.12.19 20:40:00",
         "DepDateTime": "23.12.19 00:30:00",
         "ArrTerminal": "E",
         "DepartureTerminal": "B",
         "Status": 0,
         "_deepnote_index_column": 1
        },
        {
         "TagID": 3,
         "AirportID": "SVO",
         "isTransit": 1,
         "ArrFlNum": "SU1359",
         "DepFlNum": "SU1166",
         "ArrDateTime": "22.12.19 20:40:00",
         "DepDateTime": "23.12.19 02:30:00",
         "ArrTerminal": "B",
         "DepartureTerminal": "B",
         "Status": 0,
         "_deepnote_index_column": 2
        },
        {
         "TagID": 4,
         "AirportID": "SVO",
         "isTransit": 1,
         "ArrFlNum": "SU1359",
         "DepFlNum": "SU1166",
         "ArrDateTime": "22.12.19 20:40:00",
         "DepDateTime": "23.12.19 02:30:00",
         "ArrTerminal": "B",
         "DepartureTerminal": "D",
         "Status": 0,
         "_deepnote_index_column": 3
        },
        {
         "TagID": 5,
         "AirportID": "SVO",
         "isTransit": 1,
         "ArrFlNum": "SU2357",
         "DepFlNum": "SU1306",
         "ArrDateTime": "22.12.19 20:45:00",
         "DepDateTime": "23.12.19 11:05:00",
         "ArrTerminal": "E",
         "DepartureTerminal": "B",
         "Status": 0,
         "_deepnote_index_column": 4
        },
        {
         "TagID": 6,
         "AirportID": "SVO",
         "isTransit": 1,
         "ArrFlNum": "SU1331",
         "DepFlNum": "SU1106",
         "ArrDateTime": "30.12.19 21:15:00",
         "DepDateTime": "30.12.19 23:15:00",
         "ArrTerminal": "B",
         "DepartureTerminal": "B",
         "Status": 0,
         "_deepnote_index_column": 5
        },
        {
         "TagID": 7,
         "AirportID": "SVO",
         "isTransit": 1,
         "ArrFlNum": "SU2357",
         "DepFlNum": "SU1852",
         "ArrDateTime": "30.12.19 21:15:00",
         "DepDateTime": "30.12.19 23:15:00",
         "ArrTerminal": "E",
         "DepartureTerminal": "B",
         "Status": 0,
         "_deepnote_index_column": 6
        },
        {
         "TagID": 8,
         "AirportID": "SVO",
         "isTransit": 1,
         "ArrFlNum": "SU1375",
         "DepFlNum": "SU1522",
         "ArrDateTime": "30.12.19 21:15:00",
         "DepDateTime": "30.12.19 23:15:00",
         "ArrTerminal": "B",
         "DepartureTerminal": "B",
         "Status": 0,
         "_deepnote_index_column": 7
        },
        {
         "TagID": 9,
         "AirportID": "SVO",
         "isTransit": 1,
         "ArrFlNum": "SU1375",
         "DepFlNum": "SU1382",
         "ArrDateTime": "30.12.19 21:15:00",
         "DepDateTime": "30.12.19 23:15:00",
         "ArrTerminal": "B",
         "DepartureTerminal": "B",
         "Status": 0,
         "_deepnote_index_column": 8
        },
        {
         "TagID": 10,
         "AirportID": "SVO",
         "isTransit": 1,
         "ArrFlNum": "SU1375",
         "DepFlNum": "SU100",
         "ArrDateTime": "30.12.19 21:15:00",
         "DepDateTime": "30.12.19 23:15:00",
         "ArrTerminal": "B",
         "DepartureTerminal": "B",
         "Status": 0,
         "_deepnote_index_column": 9
        },
        {
         "TagID": 11,
         "AirportID": "SVO",
         "isTransit": 1,
         "ArrFlNum": "SU1375",
         "DepFlNum": "SU1874",
         "ArrDateTime": "30.12.19 21:15:00",
         "DepDateTime": "30.12.19 23:15:00",
         "ArrTerminal": "B",
         "DepartureTerminal": "B",
         "Status": 0,
         "_deepnote_index_column": 10
        },
        {
         "TagID": 12,
         "AirportID": "SVO",
         "isTransit": 1,
         "ArrFlNum": "SU1375",
         "DepFlNum": "FV6167",
         "ArrDateTime": "30.12.19 21:15:00",
         "DepDateTime": "30.12.19 23:15:00",
         "ArrTerminal": "B",
         "DepartureTerminal": "B",
         "Status": 0,
         "_deepnote_index_column": 11
        },
        {
         "TagID": 13,
         "AirportID": "SVO",
         "isTransit": 1,
         "ArrFlNum": "SU1375",
         "DepFlNum": "SU2684",
         "ArrDateTime": "30.12.19 21:15:00",
         "DepDateTime": "30.12.19 23:15:00",
         "ArrTerminal": "B",
         "DepartureTerminal": "B",
         "Status": 0,
         "_deepnote_index_column": 12
        },
        {
         "TagID": 14,
         "AirportID": "SVO",
         "isTransit": 1,
         "ArrFlNum": "SU2133",
         "DepFlNum": "SU1306",
         "ArrDateTime": "30.12.19 21:15:00",
         "DepDateTime": "30.12.19 23:15:00",
         "ArrTerminal": "D",
         "DepartureTerminal": "B",
         "Status": 0,
         "_deepnote_index_column": 13
        },
        {
         "TagID": 15,
         "AirportID": "SVO",
         "isTransit": 1,
         "ArrFlNum": "SU2133",
         "DepFlNum": "SU1306",
         "ArrDateTime": "30.12.19 21:15:00",
         "DepDateTime": "30.12.19 23:15:00",
         "ArrTerminal": "D",
         "DepartureTerminal": "B",
         "Status": 0,
         "_deepnote_index_column": 14
        },
        {
         "TagID": 16,
         "AirportID": "SVO",
         "isTransit": 1,
         "ArrFlNum": "SU1507",
         "DepFlNum": "SU1522",
         "ArrDateTime": "30.12.19 21:15:00",
         "DepDateTime": "30.12.19 23:15:00",
         "ArrTerminal": "B",
         "DepartureTerminal": "B",
         "Status": 0,
         "_deepnote_index_column": 15
        },
        {
         "TagID": 17,
         "AirportID": "SVO",
         "isTransit": 1,
         "ArrFlNum": "SU1507",
         "DepFlNum": "SU2454",
         "ArrDateTime": "30.12.19 21:15:00",
         "DepDateTime": "30.12.19 23:15:00",
         "ArrTerminal": "B",
         "DepartureTerminal": "B",
         "Status": 0,
         "_deepnote_index_column": 16
        },
        {
         "TagID": 18,
         "AirportID": "SVO",
         "isTransit": 1,
         "ArrFlNum": "SU1507",
         "DepFlNum": "SU1522",
         "ArrDateTime": "30.12.19 21:15:00",
         "DepDateTime": "30.12.19 23:15:00",
         "ArrTerminal": "B",
         "DepartureTerminal": "B",
         "Status": 0,
         "_deepnote_index_column": 17
        },
        {
         "TagID": 19,
         "AirportID": "SVO",
         "isTransit": 1,
         "ArrFlNum": "SU1507",
         "DepFlNum": "SU1522",
         "ArrDateTime": "30.12.19 21:15:00",
         "DepDateTime": "30.12.19 23:15:00",
         "ArrTerminal": "B",
         "DepartureTerminal": "B",
         "Status": 0,
         "_deepnote_index_column": 18
        },
        {
         "TagID": 20,
         "AirportID": "SVO",
         "isTransit": 1,
         "ArrFlNum": "SU1507",
         "DepFlNum": "SU1522",
         "ArrDateTime": "30.12.19 21:15:00",
         "DepDateTime": "30.12.19 23:15:00",
         "ArrTerminal": "B",
         "DepartureTerminal": "B",
         "Status": 0,
         "_deepnote_index_column": 19
        },
        {
         "TagID": 21,
         "AirportID": "SVO",
         "isTransit": 1,
         "ArrFlNum": "SU1175",
         "DepFlNum": "SU2658",
         "ArrDateTime": "30.12.19 21:15:00",
         "DepDateTime": "30.12.19 23:15:00",
         "ArrTerminal": "B",
         "DepartureTerminal": "B",
         "Status": 0,
         "_deepnote_index_column": 20
        },
        {
         "TagID": 22,
         "AirportID": "SVO",
         "isTransit": 1,
         "ArrFlNum": "SU1445",
         "DepFlNum": "SU1234",
         "ArrDateTime": "30.12.19 21:15:00",
         "DepDateTime": "30.12.19 23:15:00",
         "ArrTerminal": "B",
         "DepartureTerminal": "B",
         "Status": 0,
         "_deepnote_index_column": 21
        },
        {
         "TagID": 23,
         "AirportID": "SVO",
         "isTransit": 1,
         "ArrFlNum": "SU1445",
         "DepFlNum": "SU1052",
         "ArrDateTime": "30.12.19 21:15:00",
         "DepDateTime": "30.12.19 23:15:00",
         "ArrTerminal": "B",
         "DepartureTerminal": "B",
         "Status": 0,
         "_deepnote_index_column": 22
        },
        {
         "TagID": 24,
         "AirportID": "SVO",
         "isTransit": 1,
         "ArrFlNum": "SU1445",
         "DepFlNum": "SU2618",
         "ArrDateTime": "30.12.19 21:15:00",
         "DepDateTime": "30.12.19 23:15:00",
         "ArrTerminal": "B",
         "DepartureTerminal": "B",
         "Status": 0,
         "_deepnote_index_column": 23
        },
        {
         "TagID": 25,
         "AirportID": "SVO",
         "isTransit": 1,
         "ArrFlNum": "SU1445",
         "DepFlNum": "SU1052",
         "ArrDateTime": "30.12.19 21:15:00",
         "DepDateTime": "30.12.19 23:15:00",
         "ArrTerminal": "B",
         "DepartureTerminal": "B",
         "Status": 0,
         "_deepnote_index_column": 24
        },
        {
         "TagID": 26,
         "AirportID": "SVO",
         "isTransit": 1,
         "ArrFlNum": "SU1175",
         "DepFlNum": "SU1852",
         "ArrDateTime": "30.12.19 21:15:00",
         "DepDateTime": "30.12.19 23:15:00",
         "ArrTerminal": "B",
         "DepartureTerminal": "B",
         "Status": 0,
         "_deepnote_index_column": 25
        },
        {
         "TagID": 27,
         "AirportID": "SVO",
         "isTransit": 1,
         "ArrFlNum": "SU1445",
         "DepFlNum": "FV6167",
         "ArrDateTime": "30.12.19 21:15:00",
         "DepDateTime": "30.12.19 23:15:00",
         "ArrTerminal": "B",
         "DepartureTerminal": "B",
         "Status": 0,
         "_deepnote_index_column": 26
        },
        {
         "TagID": 28,
         "AirportID": "SVO",
         "isTransit": 1,
         "ArrFlNum": "SU1175",
         "DepFlNum": "SU1382",
         "ArrDateTime": "30.12.19 21:15:00",
         "DepDateTime": "30.12.19 23:15:00",
         "ArrTerminal": "B",
         "DepartureTerminal": "B",
         "Status": 0,
         "_deepnote_index_column": 27
        },
        {
         "TagID": 29,
         "AirportID": "SVO",
         "isTransit": 1,
         "ArrFlNum": "SU1445",
         "DepFlNum": "SU1052",
         "ArrDateTime": "30.12.19 21:15:00",
         "DepDateTime": "30.12.19 23:15:00",
         "ArrTerminal": "B",
         "DepartureTerminal": "B",
         "Status": 0,
         "_deepnote_index_column": 28
        },
        {
         "TagID": 30,
         "AirportID": "SVO",
         "isTransit": 1,
         "ArrFlNum": "SU1175",
         "DepFlNum": "SU1334",
         "ArrDateTime": "30.12.19 21:15:00",
         "DepDateTime": "30.12.19 23:15:00",
         "ArrTerminal": "B",
         "DepartureTerminal": "B",
         "Status": 0,
         "_deepnote_index_column": 29
        },
        {
         "TagID": 31,
         "AirportID": "SVO",
         "isTransit": 1,
         "ArrFlNum": "SU1445",
         "DepFlNum": "FV6167",
         "ArrDateTime": "30.12.19 21:15:00",
         "DepDateTime": "30.12.19 23:15:00",
         "ArrTerminal": "B",
         "DepartureTerminal": "B",
         "Status": 0,
         "_deepnote_index_column": 30
        },
        {
         "TagID": 32,
         "AirportID": "SVO",
         "isTransit": 1,
         "ArrFlNum": "SU1445",
         "DepFlNum": "FV6167",
         "ArrDateTime": "30.12.19 21:15:00",
         "DepDateTime": "30.12.19 23:15:00",
         "ArrTerminal": "B",
         "DepartureTerminal": "B",
         "Status": 0,
         "_deepnote_index_column": 31
        },
        {
         "TagID": 33,
         "AirportID": "SVO",
         "isTransit": 1,
         "ArrFlNum": "SU1445",
         "DepFlNum": "SU1206",
         "ArrDateTime": "30.12.19 21:15:00",
         "DepDateTime": "30.12.19 23:15:00",
         "ArrTerminal": "B",
         "DepartureTerminal": "B",
         "Status": 0,
         "_deepnote_index_column": 32
        },
        {
         "TagID": 34,
         "AirportID": "SVO",
         "isTransit": 1,
         "ArrFlNum": "SU1259",
         "DepFlNum": "SU1382",
         "ArrDateTime": "30.12.19 21:15:00",
         "DepDateTime": "30.12.19 23:15:00",
         "ArrTerminal": "B",
         "DepartureTerminal": "B",
         "Status": 0,
         "_deepnote_index_column": 33
        },
        {
         "TagID": 35,
         "AirportID": "SVO",
         "isTransit": 1,
         "ArrFlNum": "SU521",
         "DepFlNum": "SU1536",
         "ArrDateTime": "30.12.19 21:15:00",
         "DepDateTime": "30.12.19 23:15:00",
         "ArrTerminal": "D",
         "DepartureTerminal": "B",
         "Status": 0,
         "_deepnote_index_column": 34
        },
        {
         "TagID": 36,
         "AirportID": "SVO",
         "isTransit": 1,
         "ArrFlNum": "SU521",
         "DepFlNum": "SU1838",
         "ArrDateTime": "30.12.19 21:15:00",
         "DepDateTime": "30.12.19 23:15:00",
         "ArrTerminal": "D",
         "DepartureTerminal": "B",
         "Status": 0,
         "_deepnote_index_column": 35
        },
        {
         "TagID": 37,
         "AirportID": "SVO",
         "isTransit": 1,
         "ArrFlNum": "SU1249",
         "DepFlNum": "SU1522",
         "ArrDateTime": "30.12.19 21:15:00",
         "DepDateTime": "30.12.19 23:15:00",
         "ArrTerminal": "B",
         "DepartureTerminal": "B",
         "Status": 0,
         "_deepnote_index_column": 36
        },
        {
         "TagID": 38,
         "AirportID": "SVO",
         "isTransit": 1,
         "ArrFlNum": "SU521",
         "DepFlNum": "SU1852",
         "ArrDateTime": "30.12.19 21:15:00",
         "DepDateTime": "30.12.19 23:15:00",
         "ArrTerminal": "D",
         "DepartureTerminal": "B",
         "Status": 0,
         "_deepnote_index_column": 37
        },
        {
         "TagID": 39,
         "AirportID": "SVO",
         "isTransit": 1,
         "ArrFlNum": "SU1249",
         "DepFlNum": "SU1638",
         "ArrDateTime": "30.12.19 21:15:00",
         "DepDateTime": "30.12.19 23:15:00",
         "ArrTerminal": "B",
         "DepartureTerminal": "B",
         "Status": 0,
         "_deepnote_index_column": 38
        },
        {
         "TagID": 40,
         "AirportID": "SVO",
         "isTransit": 1,
         "ArrFlNum": "SU1249",
         "DepFlNum": "SU2402",
         "ArrDateTime": "30.12.19 21:15:00",
         "DepDateTime": "30.12.19 23:15:00",
         "ArrTerminal": "B",
         "DepartureTerminal": "B",
         "Status": 0,
         "_deepnote_index_column": 39
        },
        {
         "TagID": 41,
         "AirportID": "SVO",
         "isTransit": 1,
         "ArrFlNum": "SU1249",
         "DepFlNum": "SU100",
         "ArrDateTime": "30.12.19 21:15:00",
         "DepDateTime": "30.12.19 23:15:00",
         "ArrTerminal": "B",
         "DepartureTerminal": "B",
         "Status": 0,
         "_deepnote_index_column": 40
        },
        {
         "TagID": 42,
         "AirportID": "SVO",
         "isTransit": 1,
         "ArrFlNum": "SU1249",
         "DepFlNum": "SU100",
         "ArrDateTime": "30.12.19 21:15:00",
         "DepDateTime": "30.12.19 23:15:00",
         "ArrTerminal": "B",
         "DepartureTerminal": "B",
         "Status": 0,
         "_deepnote_index_column": 41
        },
        {
         "TagID": 43,
         "AirportID": "SVO",
         "isTransit": 1,
         "ArrFlNum": "SU1249",
         "DepFlNum": "SU100",
         "ArrDateTime": "30.12.19 21:15:00",
         "DepDateTime": "30.12.19 23:15:00",
         "ArrTerminal": "B",
         "DepartureTerminal": "B",
         "Status": 0,
         "_deepnote_index_column": 42
        },
        {
         "TagID": 44,
         "AirportID": "SVO",
         "isTransit": 1,
         "ArrFlNum": "SU1249",
         "DepFlNum": "SU1108",
         "ArrDateTime": "30.12.19 21:15:00",
         "DepDateTime": "30.12.19 23:15:00",
         "ArrTerminal": "B",
         "DepartureTerminal": "B",
         "Status": 0,
         "_deepnote_index_column": 43
        },
        {
         "TagID": 45,
         "AirportID": "SVO",
         "isTransit": 1,
         "ArrFlNum": "SU521",
         "DepFlNum": "SU1852",
         "ArrDateTime": "30.12.19 21:15:00",
         "DepDateTime": "30.12.19 23:15:00",
         "ArrTerminal": "D",
         "DepartureTerminal": "B",
         "Status": 0,
         "_deepnote_index_column": 44
        },
        {
         "TagID": 46,
         "AirportID": "SVO",
         "isTransit": 1,
         "ArrFlNum": "SU1249",
         "DepFlNum": "SU1306",
         "ArrDateTime": "30.12.19 21:15:00",
         "DepDateTime": "30.12.19 23:15:00",
         "ArrTerminal": "B",
         "DepartureTerminal": "B",
         "Status": 0,
         "_deepnote_index_column": 45
        },
        {
         "TagID": 47,
         "AirportID": "SVO",
         "isTransit": 1,
         "ArrFlNum": "SU521",
         "DepFlNum": "SU1852",
         "ArrDateTime": "30.12.19 21:15:00",
         "DepDateTime": "30.12.19 23:15:00",
         "ArrTerminal": "D",
         "DepartureTerminal": "B",
         "Status": 0,
         "_deepnote_index_column": 46
        },
        {
         "TagID": 48,
         "AirportID": "SVO",
         "isTransit": 1,
         "ArrFlNum": "SU2143",
         "DepFlNum": "SU1428",
         "ArrDateTime": "30.12.19 21:15:00",
         "DepDateTime": "30.12.19 23:15:00",
         "ArrTerminal": "D",
         "DepartureTerminal": "B",
         "Status": 0,
         "_deepnote_index_column": 47
        },
        {
         "TagID": 49,
         "AirportID": "SVO",
         "isTransit": 1,
         "ArrFlNum": "SU2143",
         "DepFlNum": "SU1428",
         "ArrDateTime": "30.12.19 21:15:00",
         "DepDateTime": "30.12.19 23:15:00",
         "ArrTerminal": "D",
         "DepartureTerminal": "B",
         "Status": 0,
         "_deepnote_index_column": 48
        },
        {
         "TagID": 50,
         "AirportID": "SVO",
         "isTransit": 1,
         "ArrFlNum": "SU2015",
         "DepFlNum": "SU1306",
         "ArrDateTime": "30.12.19 21:15:00",
         "DepDateTime": "30.12.19 23:15:00",
         "ArrTerminal": "D",
         "DepartureTerminal": "B",
         "Status": 0,
         "_deepnote_index_column": 49
        },
        {
         "TagID": 51,
         "AirportID": "SVO",
         "isTransit": 1,
         "ArrFlNum": "SU2015",
         "DepFlNum": "SU1372",
         "ArrDateTime": "30.12.19 21:15:00",
         "DepDateTime": "30.12.19 23:15:00",
         "ArrTerminal": "D",
         "DepartureTerminal": "B",
         "Status": 0,
         "_deepnote_index_column": 50
        },
        {
         "TagID": 52,
         "AirportID": "SVO",
         "isTransit": 1,
         "ArrFlNum": "SU2015",
         "DepFlNum": "SU1638",
         "ArrDateTime": "30.12.19 21:15:00",
         "DepDateTime": "30.12.19 23:15:00",
         "ArrTerminal": "D",
         "DepartureTerminal": "B",
         "Status": 0,
         "_deepnote_index_column": 51
        },
        {
         "TagID": 53,
         "AirportID": "SVO",
         "isTransit": 1,
         "ArrFlNum": "SU2015",
         "DepFlNum": "SU1112",
         "ArrDateTime": "30.12.19 21:15:00",
         "DepDateTime": "30.12.19 23:15:00",
         "ArrTerminal": "D",
         "DepartureTerminal": "B",
         "Status": 0,
         "_deepnote_index_column": 52
        },
        {
         "TagID": 54,
         "AirportID": "SVO",
         "isTransit": 1,
         "ArrFlNum": "SU2015",
         "DepFlNum": "SU1424",
         "ArrDateTime": "30.12.19 21:15:00",
         "DepDateTime": "30.12.19 23:15:00",
         "ArrTerminal": "D",
         "DepartureTerminal": "B",
         "Status": 0,
         "_deepnote_index_column": 53
        },
        {
         "TagID": 55,
         "AirportID": "SVO",
         "isTransit": 1,
         "ArrFlNum": "SU2015",
         "DepFlNum": "SU1306",
         "ArrDateTime": "30.12.19 21:15:00",
         "DepDateTime": "30.12.19 23:15:00",
         "ArrTerminal": "D",
         "DepartureTerminal": "B",
         "Status": 0,
         "_deepnote_index_column": 54
        },
        {
         "TagID": 56,
         "AirportID": "SVO",
         "isTransit": 1,
         "ArrFlNum": "SU2015",
         "DepFlNum": "SU1638",
         "ArrDateTime": "30.12.19 21:15:00",
         "DepDateTime": "30.12.19 23:15:00",
         "ArrTerminal": "D",
         "DepartureTerminal": "B",
         "Status": 0,
         "_deepnote_index_column": 55
        },
        {
         "TagID": 57,
         "AirportID": "SVO",
         "isTransit": 1,
         "ArrFlNum": "SU2015",
         "DepFlNum": "SU1424",
         "ArrDateTime": "30.12.19 21:15:00",
         "DepDateTime": "30.12.19 23:15:00",
         "ArrTerminal": "D",
         "DepartureTerminal": "B",
         "Status": 0,
         "_deepnote_index_column": 56
        },
        {
         "TagID": 58,
         "AirportID": "SVO",
         "isTransit": 1,
         "ArrFlNum": "SU2015",
         "DepFlNum": "SU1334",
         "ArrDateTime": "30.12.19 21:15:00",
         "DepDateTime": "30.12.19 23:15:00",
         "ArrTerminal": "D",
         "DepartureTerminal": "B",
         "Status": 0,
         "_deepnote_index_column": 57
        },
        {
         "TagID": 59,
         "AirportID": "SVO",
         "isTransit": 1,
         "ArrFlNum": "SU2015",
         "DepFlNum": "SU1372",
         "ArrDateTime": "30.12.19 21:15:00",
         "DepDateTime": "30.12.19 23:15:00",
         "ArrTerminal": "D",
         "DepartureTerminal": "B",
         "Status": 0,
         "_deepnote_index_column": 58
        },
        {
         "TagID": 60,
         "AirportID": "SVO",
         "isTransit": 1,
         "ArrFlNum": "SU2015",
         "DepFlNum": "SU1372",
         "ArrDateTime": "30.12.19 21:15:00",
         "DepDateTime": "30.12.19 23:15:00",
         "ArrTerminal": "D",
         "DepartureTerminal": "B",
         "Status": 0,
         "_deepnote_index_column": 59
        }
       ],
       "rows_bottom": null
      },
      "text/plain": "    TagID AirportID  isTransit ArrFlNum DepFlNum        ArrDateTime  \\\n0       1       SVO          1   SU1625   SU2060  22.12.19 20:40:00   \n1       2       SVO          1    LO677   SU1408  22.12.19 20:40:00   \n2       3       SVO          1   SU1359   SU1166  22.12.19 20:40:00   \n3       4       SVO          1   SU1359   SU1166  22.12.19 20:40:00   \n4       5       SVO          1   SU2357   SU1306  22.12.19 20:45:00   \n5       6       SVO          1   SU1331   SU1106  30.12.19 21:15:00   \n6       7       SVO          1   SU2357   SU1852  30.12.19 21:15:00   \n7       8       SVO          1   SU1375   SU1522  30.12.19 21:15:00   \n8       9       SVO          1   SU1375   SU1382  30.12.19 21:15:00   \n9      10       SVO          1   SU1375    SU100  30.12.19 21:15:00   \n10     11       SVO          1   SU1375   SU1874  30.12.19 21:15:00   \n11     12       SVO          1   SU1375   FV6167  30.12.19 21:15:00   \n12     13       SVO          1   SU1375   SU2684  30.12.19 21:15:00   \n13     14       SVO          1   SU2133   SU1306  30.12.19 21:15:00   \n14     15       SVO          1   SU2133   SU1306  30.12.19 21:15:00   \n15     16       SVO          1   SU1507   SU1522  30.12.19 21:15:00   \n16     17       SVO          1   SU1507   SU2454  30.12.19 21:15:00   \n17     18       SVO          1   SU1507   SU1522  30.12.19 21:15:00   \n18     19       SVO          1   SU1507   SU1522  30.12.19 21:15:00   \n19     20       SVO          1   SU1507   SU1522  30.12.19 21:15:00   \n20     21       SVO          1   SU1175   SU2658  30.12.19 21:15:00   \n21     22       SVO          1   SU1445   SU1234  30.12.19 21:15:00   \n22     23       SVO          1   SU1445   SU1052  30.12.19 21:15:00   \n23     24       SVO          1   SU1445   SU2618  30.12.19 21:15:00   \n24     25       SVO          1   SU1445   SU1052  30.12.19 21:15:00   \n25     26       SVO          1   SU1175   SU1852  30.12.19 21:15:00   \n26     27       SVO          1   SU1445   FV6167  30.12.19 21:15:00   \n27     28       SVO          1   SU1175   SU1382  30.12.19 21:15:00   \n28     29       SVO          1   SU1445   SU1052  30.12.19 21:15:00   \n29     30       SVO          1   SU1175   SU1334  30.12.19 21:15:00   \n30     31       SVO          1   SU1445   FV6167  30.12.19 21:15:00   \n31     32       SVO          1   SU1445   FV6167  30.12.19 21:15:00   \n32     33       SVO          1   SU1445   SU1206  30.12.19 21:15:00   \n33     34       SVO          1   SU1259   SU1382  30.12.19 21:15:00   \n34     35       SVO          1    SU521   SU1536  30.12.19 21:15:00   \n35     36       SVO          1    SU521   SU1838  30.12.19 21:15:00   \n36     37       SVO          1   SU1249   SU1522  30.12.19 21:15:00   \n37     38       SVO          1    SU521   SU1852  30.12.19 21:15:00   \n38     39       SVO          1   SU1249   SU1638  30.12.19 21:15:00   \n39     40       SVO          1   SU1249   SU2402  30.12.19 21:15:00   \n40     41       SVO          1   SU1249    SU100  30.12.19 21:15:00   \n41     42       SVO          1   SU1249    SU100  30.12.19 21:15:00   \n42     43       SVO          1   SU1249    SU100  30.12.19 21:15:00   \n43     44       SVO          1   SU1249   SU1108  30.12.19 21:15:00   \n44     45       SVO          1    SU521   SU1852  30.12.19 21:15:00   \n45     46       SVO          1   SU1249   SU1306  30.12.19 21:15:00   \n46     47       SVO          1    SU521   SU1852  30.12.19 21:15:00   \n47     48       SVO          1   SU2143   SU1428  30.12.19 21:15:00   \n48     49       SVO          1   SU2143   SU1428  30.12.19 21:15:00   \n49     50       SVO          1   SU2015   SU1306  30.12.19 21:15:00   \n50     51       SVO          1   SU2015   SU1372  30.12.19 21:15:00   \n51     52       SVO          1   SU2015   SU1638  30.12.19 21:15:00   \n52     53       SVO          1   SU2015   SU1112  30.12.19 21:15:00   \n53     54       SVO          1   SU2015   SU1424  30.12.19 21:15:00   \n54     55       SVO          1   SU2015   SU1306  30.12.19 21:15:00   \n55     56       SVO          1   SU2015   SU1638  30.12.19 21:15:00   \n56     57       SVO          1   SU2015   SU1424  30.12.19 21:15:00   \n57     58       SVO          1   SU2015   SU1334  30.12.19 21:15:00   \n58     59       SVO          1   SU2015   SU1372  30.12.19 21:15:00   \n59     60       SVO          1   SU2015   SU1372  30.12.19 21:15:00   \n\n          DepDateTime ArrTerminal DepartureTerminal  Status  \n0   23.12.19 09:55:00           B                 C       0  \n1   23.12.19 00:30:00           E                 B       0  \n2   23.12.19 02:30:00           B                 B       0  \n3   23.12.19 02:30:00           B                 D       0  \n4   23.12.19 11:05:00           E                 B       0  \n5   30.12.19 23:15:00           B                 B       0  \n6   30.12.19 23:15:00           E                 B       0  \n7   30.12.19 23:15:00           B                 B       0  \n8   30.12.19 23:15:00           B                 B       0  \n9   30.12.19 23:15:00           B                 B       0  \n10  30.12.19 23:15:00           B                 B       0  \n11  30.12.19 23:15:00           B                 B       0  \n12  30.12.19 23:15:00           B                 B       0  \n13  30.12.19 23:15:00           D                 B       0  \n14  30.12.19 23:15:00           D                 B       0  \n15  30.12.19 23:15:00           B                 B       0  \n16  30.12.19 23:15:00           B                 B       0  \n17  30.12.19 23:15:00           B                 B       0  \n18  30.12.19 23:15:00           B                 B       0  \n19  30.12.19 23:15:00           B                 B       0  \n20  30.12.19 23:15:00           B                 B       0  \n21  30.12.19 23:15:00           B                 B       0  \n22  30.12.19 23:15:00           B                 B       0  \n23  30.12.19 23:15:00           B                 B       0  \n24  30.12.19 23:15:00           B                 B       0  \n25  30.12.19 23:15:00           B                 B       0  \n26  30.12.19 23:15:00           B                 B       0  \n27  30.12.19 23:15:00           B                 B       0  \n28  30.12.19 23:15:00           B                 B       0  \n29  30.12.19 23:15:00           B                 B       0  \n30  30.12.19 23:15:00           B                 B       0  \n31  30.12.19 23:15:00           B                 B       0  \n32  30.12.19 23:15:00           B                 B       0  \n33  30.12.19 23:15:00           B                 B       0  \n34  30.12.19 23:15:00           D                 B       0  \n35  30.12.19 23:15:00           D                 B       0  \n36  30.12.19 23:15:00           B                 B       0  \n37  30.12.19 23:15:00           D                 B       0  \n38  30.12.19 23:15:00           B                 B       0  \n39  30.12.19 23:15:00           B                 B       0  \n40  30.12.19 23:15:00           B                 B       0  \n41  30.12.19 23:15:00           B                 B       0  \n42  30.12.19 23:15:00           B                 B       0  \n43  30.12.19 23:15:00           B                 B       0  \n44  30.12.19 23:15:00           D                 B       0  \n45  30.12.19 23:15:00           B                 B       0  \n46  30.12.19 23:15:00           D                 B       0  \n47  30.12.19 23:15:00           D                 B       0  \n48  30.12.19 23:15:00           D                 B       0  \n49  30.12.19 23:15:00           D                 B       0  \n50  30.12.19 23:15:00           D                 B       0  \n51  30.12.19 23:15:00           D                 B       0  \n52  30.12.19 23:15:00           D                 B       0  \n53  30.12.19 23:15:00           D                 B       0  \n54  30.12.19 23:15:00           D                 B       0  \n55  30.12.19 23:15:00           D                 B       0  \n56  30.12.19 23:15:00           D                 B       0  \n57  30.12.19 23:15:00           D                 B       0  \n58  30.12.19 23:15:00           D                 B       0  \n59  30.12.19 23:15:00           D                 B       0  ",
      "text/html": "<div>\n<style scoped>\n    .dataframe tbody tr th:only-of-type {\n        vertical-align: middle;\n    }\n\n    .dataframe tbody tr th {\n        vertical-align: top;\n    }\n\n    .dataframe thead th {\n        text-align: right;\n    }\n</style>\n<table border=\"1\" class=\"dataframe\">\n  <thead>\n    <tr style=\"text-align: right;\">\n      <th></th>\n      <th>TagID</th>\n      <th>AirportID</th>\n      <th>isTransit</th>\n      <th>ArrFlNum</th>\n      <th>DepFlNum</th>\n      <th>ArrDateTime</th>\n      <th>DepDateTime</th>\n      <th>ArrTerminal</th>\n      <th>DepartureTerminal</th>\n      <th>Status</th>\n    </tr>\n  </thead>\n  <tbody>\n    <tr>\n      <th>0</th>\n      <td>1</td>\n      <td>SVO</td>\n      <td>1</td>\n      <td>SU1625</td>\n      <td>SU2060</td>\n      <td>22.12.19 20:40:00</td>\n      <td>23.12.19 09:55:00</td>\n      <td>B</td>\n      <td>C</td>\n      <td>0</td>\n    </tr>\n    <tr>\n      <th>1</th>\n      <td>2</td>\n      <td>SVO</td>\n      <td>1</td>\n      <td>LO677</td>\n      <td>SU1408</td>\n      <td>22.12.19 20:40:00</td>\n      <td>23.12.19 00:30:00</td>\n      <td>E</td>\n      <td>B</td>\n      <td>0</td>\n    </tr>\n    <tr>\n      <th>2</th>\n      <td>3</td>\n      <td>SVO</td>\n      <td>1</td>\n      <td>SU1359</td>\n      <td>SU1166</td>\n      <td>22.12.19 20:40:00</td>\n      <td>23.12.19 02:30:00</td>\n      <td>B</td>\n      <td>B</td>\n      <td>0</td>\n    </tr>\n    <tr>\n      <th>3</th>\n      <td>4</td>\n      <td>SVO</td>\n      <td>1</td>\n      <td>SU1359</td>\n      <td>SU1166</td>\n      <td>22.12.19 20:40:00</td>\n      <td>23.12.19 02:30:00</td>\n      <td>B</td>\n      <td>D</td>\n      <td>0</td>\n    </tr>\n    <tr>\n      <th>4</th>\n      <td>5</td>\n      <td>SVO</td>\n      <td>1</td>\n      <td>SU2357</td>\n      <td>SU1306</td>\n      <td>22.12.19 20:45:00</td>\n      <td>23.12.19 11:05:00</td>\n      <td>E</td>\n      <td>B</td>\n      <td>0</td>\n    </tr>\n    <tr>\n      <th>5</th>\n      <td>6</td>\n      <td>SVO</td>\n      <td>1</td>\n      <td>SU1331</td>\n      <td>SU1106</td>\n      <td>30.12.19 21:15:00</td>\n      <td>30.12.19 23:15:00</td>\n      <td>B</td>\n      <td>B</td>\n      <td>0</td>\n    </tr>\n    <tr>\n      <th>6</th>\n      <td>7</td>\n      <td>SVO</td>\n      <td>1</td>\n      <td>SU2357</td>\n      <td>SU1852</td>\n      <td>30.12.19 21:15:00</td>\n      <td>30.12.19 23:15:00</td>\n      <td>E</td>\n      <td>B</td>\n      <td>0</td>\n    </tr>\n    <tr>\n      <th>7</th>\n      <td>8</td>\n      <td>SVO</td>\n      <td>1</td>\n      <td>SU1375</td>\n      <td>SU1522</td>\n      <td>30.12.19 21:15:00</td>\n      <td>30.12.19 23:15:00</td>\n      <td>B</td>\n      <td>B</td>\n      <td>0</td>\n    </tr>\n    <tr>\n      <th>8</th>\n      <td>9</td>\n      <td>SVO</td>\n      <td>1</td>\n      <td>SU1375</td>\n      <td>SU1382</td>\n      <td>30.12.19 21:15:00</td>\n      <td>30.12.19 23:15:00</td>\n      <td>B</td>\n      <td>B</td>\n      <td>0</td>\n    </tr>\n    <tr>\n      <th>9</th>\n      <td>10</td>\n      <td>SVO</td>\n      <td>1</td>\n      <td>SU1375</td>\n      <td>SU100</td>\n      <td>30.12.19 21:15:00</td>\n      <td>30.12.19 23:15:00</td>\n      <td>B</td>\n      <td>B</td>\n      <td>0</td>\n    </tr>\n    <tr>\n      <th>10</th>\n      <td>11</td>\n      <td>SVO</td>\n      <td>1</td>\n      <td>SU1375</td>\n      <td>SU1874</td>\n      <td>30.12.19 21:15:00</td>\n      <td>30.12.19 23:15:00</td>\n      <td>B</td>\n      <td>B</td>\n      <td>0</td>\n    </tr>\n    <tr>\n      <th>11</th>\n      <td>12</td>\n      <td>SVO</td>\n      <td>1</td>\n      <td>SU1375</td>\n      <td>FV6167</td>\n      <td>30.12.19 21:15:00</td>\n      <td>30.12.19 23:15:00</td>\n      <td>B</td>\n      <td>B</td>\n      <td>0</td>\n    </tr>\n    <tr>\n      <th>12</th>\n      <td>13</td>\n      <td>SVO</td>\n      <td>1</td>\n      <td>SU1375</td>\n      <td>SU2684</td>\n      <td>30.12.19 21:15:00</td>\n      <td>30.12.19 23:15:00</td>\n      <td>B</td>\n      <td>B</td>\n      <td>0</td>\n    </tr>\n    <tr>\n      <th>13</th>\n      <td>14</td>\n      <td>SVO</td>\n      <td>1</td>\n      <td>SU2133</td>\n      <td>SU1306</td>\n      <td>30.12.19 21:15:00</td>\n      <td>30.12.19 23:15:00</td>\n      <td>D</td>\n      <td>B</td>\n      <td>0</td>\n    </tr>\n    <tr>\n      <th>14</th>\n      <td>15</td>\n      <td>SVO</td>\n      <td>1</td>\n      <td>SU2133</td>\n      <td>SU1306</td>\n      <td>30.12.19 21:15:00</td>\n      <td>30.12.19 23:15:00</td>\n      <td>D</td>\n      <td>B</td>\n      <td>0</td>\n    </tr>\n    <tr>\n      <th>15</th>\n      <td>16</td>\n      <td>SVO</td>\n      <td>1</td>\n      <td>SU1507</td>\n      <td>SU1522</td>\n      <td>30.12.19 21:15:00</td>\n      <td>30.12.19 23:15:00</td>\n      <td>B</td>\n      <td>B</td>\n      <td>0</td>\n    </tr>\n    <tr>\n      <th>16</th>\n      <td>17</td>\n      <td>SVO</td>\n      <td>1</td>\n      <td>SU1507</td>\n      <td>SU2454</td>\n      <td>30.12.19 21:15:00</td>\n      <td>30.12.19 23:15:00</td>\n      <td>B</td>\n      <td>B</td>\n      <td>0</td>\n    </tr>\n    <tr>\n      <th>17</th>\n      <td>18</td>\n      <td>SVO</td>\n      <td>1</td>\n      <td>SU1507</td>\n      <td>SU1522</td>\n      <td>30.12.19 21:15:00</td>\n      <td>30.12.19 23:15:00</td>\n      <td>B</td>\n      <td>B</td>\n      <td>0</td>\n    </tr>\n    <tr>\n      <th>18</th>\n      <td>19</td>\n      <td>SVO</td>\n      <td>1</td>\n      <td>SU1507</td>\n      <td>SU1522</td>\n      <td>30.12.19 21:15:00</td>\n      <td>30.12.19 23:15:00</td>\n      <td>B</td>\n      <td>B</td>\n      <td>0</td>\n    </tr>\n    <tr>\n      <th>19</th>\n      <td>20</td>\n      <td>SVO</td>\n      <td>1</td>\n      <td>SU1507</td>\n      <td>SU1522</td>\n      <td>30.12.19 21:15:00</td>\n      <td>30.12.19 23:15:00</td>\n      <td>B</td>\n      <td>B</td>\n      <td>0</td>\n    </tr>\n    <tr>\n      <th>20</th>\n      <td>21</td>\n      <td>SVO</td>\n      <td>1</td>\n      <td>SU1175</td>\n      <td>SU2658</td>\n      <td>30.12.19 21:15:00</td>\n      <td>30.12.19 23:15:00</td>\n      <td>B</td>\n      <td>B</td>\n      <td>0</td>\n    </tr>\n    <tr>\n      <th>21</th>\n      <td>22</td>\n      <td>SVO</td>\n      <td>1</td>\n      <td>SU1445</td>\n      <td>SU1234</td>\n      <td>30.12.19 21:15:00</td>\n      <td>30.12.19 23:15:00</td>\n      <td>B</td>\n      <td>B</td>\n      <td>0</td>\n    </tr>\n    <tr>\n      <th>22</th>\n      <td>23</td>\n      <td>SVO</td>\n      <td>1</td>\n      <td>SU1445</td>\n      <td>SU1052</td>\n      <td>30.12.19 21:15:00</td>\n      <td>30.12.19 23:15:00</td>\n      <td>B</td>\n      <td>B</td>\n      <td>0</td>\n    </tr>\n    <tr>\n      <th>23</th>\n      <td>24</td>\n      <td>SVO</td>\n      <td>1</td>\n      <td>SU1445</td>\n      <td>SU2618</td>\n      <td>30.12.19 21:15:00</td>\n      <td>30.12.19 23:15:00</td>\n      <td>B</td>\n      <td>B</td>\n      <td>0</td>\n    </tr>\n    <tr>\n      <th>24</th>\n      <td>25</td>\n      <td>SVO</td>\n      <td>1</td>\n      <td>SU1445</td>\n      <td>SU1052</td>\n      <td>30.12.19 21:15:00</td>\n      <td>30.12.19 23:15:00</td>\n      <td>B</td>\n      <td>B</td>\n      <td>0</td>\n    </tr>\n    <tr>\n      <th>25</th>\n      <td>26</td>\n      <td>SVO</td>\n      <td>1</td>\n      <td>SU1175</td>\n      <td>SU1852</td>\n      <td>30.12.19 21:15:00</td>\n      <td>30.12.19 23:15:00</td>\n      <td>B</td>\n      <td>B</td>\n      <td>0</td>\n    </tr>\n    <tr>\n      <th>26</th>\n      <td>27</td>\n      <td>SVO</td>\n      <td>1</td>\n      <td>SU1445</td>\n      <td>FV6167</td>\n      <td>30.12.19 21:15:00</td>\n      <td>30.12.19 23:15:00</td>\n      <td>B</td>\n      <td>B</td>\n      <td>0</td>\n    </tr>\n    <tr>\n      <th>27</th>\n      <td>28</td>\n      <td>SVO</td>\n      <td>1</td>\n      <td>SU1175</td>\n      <td>SU1382</td>\n      <td>30.12.19 21:15:00</td>\n      <td>30.12.19 23:15:00</td>\n      <td>B</td>\n      <td>B</td>\n      <td>0</td>\n    </tr>\n    <tr>\n      <th>28</th>\n      <td>29</td>\n      <td>SVO</td>\n      <td>1</td>\n      <td>SU1445</td>\n      <td>SU1052</td>\n      <td>30.12.19 21:15:00</td>\n      <td>30.12.19 23:15:00</td>\n      <td>B</td>\n      <td>B</td>\n      <td>0</td>\n    </tr>\n    <tr>\n      <th>29</th>\n      <td>30</td>\n      <td>SVO</td>\n      <td>1</td>\n      <td>SU1175</td>\n      <td>SU1334</td>\n      <td>30.12.19 21:15:00</td>\n      <td>30.12.19 23:15:00</td>\n      <td>B</td>\n      <td>B</td>\n      <td>0</td>\n    </tr>\n    <tr>\n      <th>30</th>\n      <td>31</td>\n      <td>SVO</td>\n      <td>1</td>\n      <td>SU1445</td>\n      <td>FV6167</td>\n      <td>30.12.19 21:15:00</td>\n      <td>30.12.19 23:15:00</td>\n      <td>B</td>\n      <td>B</td>\n      <td>0</td>\n    </tr>\n    <tr>\n      <th>31</th>\n      <td>32</td>\n      <td>SVO</td>\n      <td>1</td>\n      <td>SU1445</td>\n      <td>FV6167</td>\n      <td>30.12.19 21:15:00</td>\n      <td>30.12.19 23:15:00</td>\n      <td>B</td>\n      <td>B</td>\n      <td>0</td>\n    </tr>\n    <tr>\n      <th>32</th>\n      <td>33</td>\n      <td>SVO</td>\n      <td>1</td>\n      <td>SU1445</td>\n      <td>SU1206</td>\n      <td>30.12.19 21:15:00</td>\n      <td>30.12.19 23:15:00</td>\n      <td>B</td>\n      <td>B</td>\n      <td>0</td>\n    </tr>\n    <tr>\n      <th>33</th>\n      <td>34</td>\n      <td>SVO</td>\n      <td>1</td>\n      <td>SU1259</td>\n      <td>SU1382</td>\n      <td>30.12.19 21:15:00</td>\n      <td>30.12.19 23:15:00</td>\n      <td>B</td>\n      <td>B</td>\n      <td>0</td>\n    </tr>\n    <tr>\n      <th>34</th>\n      <td>35</td>\n      <td>SVO</td>\n      <td>1</td>\n      <td>SU521</td>\n      <td>SU1536</td>\n      <td>30.12.19 21:15:00</td>\n      <td>30.12.19 23:15:00</td>\n      <td>D</td>\n      <td>B</td>\n      <td>0</td>\n    </tr>\n    <tr>\n      <th>35</th>\n      <td>36</td>\n      <td>SVO</td>\n      <td>1</td>\n      <td>SU521</td>\n      <td>SU1838</td>\n      <td>30.12.19 21:15:00</td>\n      <td>30.12.19 23:15:00</td>\n      <td>D</td>\n      <td>B</td>\n      <td>0</td>\n    </tr>\n    <tr>\n      <th>36</th>\n      <td>37</td>\n      <td>SVO</td>\n      <td>1</td>\n      <td>SU1249</td>\n      <td>SU1522</td>\n      <td>30.12.19 21:15:00</td>\n      <td>30.12.19 23:15:00</td>\n      <td>B</td>\n      <td>B</td>\n      <td>0</td>\n    </tr>\n    <tr>\n      <th>37</th>\n      <td>38</td>\n      <td>SVO</td>\n      <td>1</td>\n      <td>SU521</td>\n      <td>SU1852</td>\n      <td>30.12.19 21:15:00</td>\n      <td>30.12.19 23:15:00</td>\n      <td>D</td>\n      <td>B</td>\n      <td>0</td>\n    </tr>\n    <tr>\n      <th>38</th>\n      <td>39</td>\n      <td>SVO</td>\n      <td>1</td>\n      <td>SU1249</td>\n      <td>SU1638</td>\n      <td>30.12.19 21:15:00</td>\n      <td>30.12.19 23:15:00</td>\n      <td>B</td>\n      <td>B</td>\n      <td>0</td>\n    </tr>\n    <tr>\n      <th>39</th>\n      <td>40</td>\n      <td>SVO</td>\n      <td>1</td>\n      <td>SU1249</td>\n      <td>SU2402</td>\n      <td>30.12.19 21:15:00</td>\n      <td>30.12.19 23:15:00</td>\n      <td>B</td>\n      <td>B</td>\n      <td>0</td>\n    </tr>\n    <tr>\n      <th>40</th>\n      <td>41</td>\n      <td>SVO</td>\n      <td>1</td>\n      <td>SU1249</td>\n      <td>SU100</td>\n      <td>30.12.19 21:15:00</td>\n      <td>30.12.19 23:15:00</td>\n      <td>B</td>\n      <td>B</td>\n      <td>0</td>\n    </tr>\n    <tr>\n      <th>41</th>\n      <td>42</td>\n      <td>SVO</td>\n      <td>1</td>\n      <td>SU1249</td>\n      <td>SU100</td>\n      <td>30.12.19 21:15:00</td>\n      <td>30.12.19 23:15:00</td>\n      <td>B</td>\n      <td>B</td>\n      <td>0</td>\n    </tr>\n    <tr>\n      <th>42</th>\n      <td>43</td>\n      <td>SVO</td>\n      <td>1</td>\n      <td>SU1249</td>\n      <td>SU100</td>\n      <td>30.12.19 21:15:00</td>\n      <td>30.12.19 23:15:00</td>\n      <td>B</td>\n      <td>B</td>\n      <td>0</td>\n    </tr>\n    <tr>\n      <th>43</th>\n      <td>44</td>\n      <td>SVO</td>\n      <td>1</td>\n      <td>SU1249</td>\n      <td>SU1108</td>\n      <td>30.12.19 21:15:00</td>\n      <td>30.12.19 23:15:00</td>\n      <td>B</td>\n      <td>B</td>\n      <td>0</td>\n    </tr>\n    <tr>\n      <th>44</th>\n      <td>45</td>\n      <td>SVO</td>\n      <td>1</td>\n      <td>SU521</td>\n      <td>SU1852</td>\n      <td>30.12.19 21:15:00</td>\n      <td>30.12.19 23:15:00</td>\n      <td>D</td>\n      <td>B</td>\n      <td>0</td>\n    </tr>\n    <tr>\n      <th>45</th>\n      <td>46</td>\n      <td>SVO</td>\n      <td>1</td>\n      <td>SU1249</td>\n      <td>SU1306</td>\n      <td>30.12.19 21:15:00</td>\n      <td>30.12.19 23:15:00</td>\n      <td>B</td>\n      <td>B</td>\n      <td>0</td>\n    </tr>\n    <tr>\n      <th>46</th>\n      <td>47</td>\n      <td>SVO</td>\n      <td>1</td>\n      <td>SU521</td>\n      <td>SU1852</td>\n      <td>30.12.19 21:15:00</td>\n      <td>30.12.19 23:15:00</td>\n      <td>D</td>\n      <td>B</td>\n      <td>0</td>\n    </tr>\n    <tr>\n      <th>47</th>\n      <td>48</td>\n      <td>SVO</td>\n      <td>1</td>\n      <td>SU2143</td>\n      <td>SU1428</td>\n      <td>30.12.19 21:15:00</td>\n      <td>30.12.19 23:15:00</td>\n      <td>D</td>\n      <td>B</td>\n      <td>0</td>\n    </tr>\n    <tr>\n      <th>48</th>\n      <td>49</td>\n      <td>SVO</td>\n      <td>1</td>\n      <td>SU2143</td>\n      <td>SU1428</td>\n      <td>30.12.19 21:15:00</td>\n      <td>30.12.19 23:15:00</td>\n      <td>D</td>\n      <td>B</td>\n      <td>0</td>\n    </tr>\n    <tr>\n      <th>49</th>\n      <td>50</td>\n      <td>SVO</td>\n      <td>1</td>\n      <td>SU2015</td>\n      <td>SU1306</td>\n      <td>30.12.19 21:15:00</td>\n      <td>30.12.19 23:15:00</td>\n      <td>D</td>\n      <td>B</td>\n      <td>0</td>\n    </tr>\n    <tr>\n      <th>50</th>\n      <td>51</td>\n      <td>SVO</td>\n      <td>1</td>\n      <td>SU2015</td>\n      <td>SU1372</td>\n      <td>30.12.19 21:15:00</td>\n      <td>30.12.19 23:15:00</td>\n      <td>D</td>\n      <td>B</td>\n      <td>0</td>\n    </tr>\n    <tr>\n      <th>51</th>\n      <td>52</td>\n      <td>SVO</td>\n      <td>1</td>\n      <td>SU2015</td>\n      <td>SU1638</td>\n      <td>30.12.19 21:15:00</td>\n      <td>30.12.19 23:15:00</td>\n      <td>D</td>\n      <td>B</td>\n      <td>0</td>\n    </tr>\n    <tr>\n      <th>52</th>\n      <td>53</td>\n      <td>SVO</td>\n      <td>1</td>\n      <td>SU2015</td>\n      <td>SU1112</td>\n      <td>30.12.19 21:15:00</td>\n      <td>30.12.19 23:15:00</td>\n      <td>D</td>\n      <td>B</td>\n      <td>0</td>\n    </tr>\n    <tr>\n      <th>53</th>\n      <td>54</td>\n      <td>SVO</td>\n      <td>1</td>\n      <td>SU2015</td>\n      <td>SU1424</td>\n      <td>30.12.19 21:15:00</td>\n      <td>30.12.19 23:15:00</td>\n      <td>D</td>\n      <td>B</td>\n      <td>0</td>\n    </tr>\n    <tr>\n      <th>54</th>\n      <td>55</td>\n      <td>SVO</td>\n      <td>1</td>\n      <td>SU2015</td>\n      <td>SU1306</td>\n      <td>30.12.19 21:15:00</td>\n      <td>30.12.19 23:15:00</td>\n      <td>D</td>\n      <td>B</td>\n      <td>0</td>\n    </tr>\n    <tr>\n      <th>55</th>\n      <td>56</td>\n      <td>SVO</td>\n      <td>1</td>\n      <td>SU2015</td>\n      <td>SU1638</td>\n      <td>30.12.19 21:15:00</td>\n      <td>30.12.19 23:15:00</td>\n      <td>D</td>\n      <td>B</td>\n      <td>0</td>\n    </tr>\n    <tr>\n      <th>56</th>\n      <td>57</td>\n      <td>SVO</td>\n      <td>1</td>\n      <td>SU2015</td>\n      <td>SU1424</td>\n      <td>30.12.19 21:15:00</td>\n      <td>30.12.19 23:15:00</td>\n      <td>D</td>\n      <td>B</td>\n      <td>0</td>\n    </tr>\n    <tr>\n      <th>57</th>\n      <td>58</td>\n      <td>SVO</td>\n      <td>1</td>\n      <td>SU2015</td>\n      <td>SU1334</td>\n      <td>30.12.19 21:15:00</td>\n      <td>30.12.19 23:15:00</td>\n      <td>D</td>\n      <td>B</td>\n      <td>0</td>\n    </tr>\n    <tr>\n      <th>58</th>\n      <td>59</td>\n      <td>SVO</td>\n      <td>1</td>\n      <td>SU2015</td>\n      <td>SU1372</td>\n      <td>30.12.19 21:15:00</td>\n      <td>30.12.19 23:15:00</td>\n      <td>D</td>\n      <td>B</td>\n      <td>0</td>\n    </tr>\n    <tr>\n      <th>59</th>\n      <td>60</td>\n      <td>SVO</td>\n      <td>1</td>\n      <td>SU2015</td>\n      <td>SU1372</td>\n      <td>30.12.19 21:15:00</td>\n      <td>30.12.19 23:15:00</td>\n      <td>D</td>\n      <td>B</td>\n      <td>0</td>\n    </tr>\n  </tbody>\n</table>\n</div>"
     },
     "metadata": {}
    }
   ]
  },
  {
   "cell_type": "code",
   "metadata": {
    "deepnote_to_be_reexecuted": false,
    "source_hash": "b0ac7494",
    "execution_start": 1624936693938,
    "execution_millis": 74,
    "colab": {
     "base_uri": "https://localhost:8080/",
     "height": 1000
    },
    "id": "zHzuNYYL2Jzr",
    "outputId": "9bdb05b2-19ce-42c1-9b2f-5c2b792cc98e",
    "cell_id": "00011-2c6302d2-7c44-4069-94c8-953416c25d55",
    "deepnote_cell_type": "code"
   },
   "source": "l_in_d = lug_d.copy()\nl_in_d[[\"ArrDateTime\", \"DepDateTime\"]] = l_in_d[[\"ArrDateTime\", \"DepDateTime\"]].apply(pd.to_datetime, format='%d.%m.%y %H:%M:%S')\nl_in_d[\"ArrDateTime\"], l_in_d[\"DepDateTime\"] = np.where(l_in_d[\"ArrDateTime\"] > l_in_d[\"DepDateTime\"],\n [l_in_d[\"DepDateTime\"], l_in_d[\"ArrDateTime\"]], [l_in_d[\"ArrDateTime\"], l_in_d[\"DepDateTime\"]])\nl_in_d = l_in_d.sort_values(by=['ArrDateTime'])\nl_in_d",
   "execution_count": null,
   "outputs": [
    {
     "output_type": "execute_result",
     "execution_count": 9,
     "data": {
      "application/vnd.deepnote.dataframe.v2+json": {
       "row_count": 60,
       "column_count": 10,
       "columns": [
        {
         "name": "TagID",
         "dtype": "int64",
         "stats": {
          "unique_count": 60,
          "nan_count": 0,
          "min": "1",
          "max": "60",
          "histogram": [
           {
            "bin_start": 1,
            "bin_end": 6.9,
            "count": 6
           },
           {
            "bin_start": 6.9,
            "bin_end": 12.8,
            "count": 6
           },
           {
            "bin_start": 12.8,
            "bin_end": 18.700000000000003,
            "count": 6
           },
           {
            "bin_start": 18.700000000000003,
            "bin_end": 24.6,
            "count": 6
           },
           {
            "bin_start": 24.6,
            "bin_end": 30.5,
            "count": 6
           },
           {
            "bin_start": 30.5,
            "bin_end": 36.400000000000006,
            "count": 6
           },
           {
            "bin_start": 36.400000000000006,
            "bin_end": 42.300000000000004,
            "count": 6
           },
           {
            "bin_start": 42.300000000000004,
            "bin_end": 48.2,
            "count": 6
           },
           {
            "bin_start": 48.2,
            "bin_end": 54.1,
            "count": 6
           },
           {
            "bin_start": 54.1,
            "bin_end": 60,
            "count": 6
           }
          ]
         }
        },
        {
         "name": "AirportID",
         "dtype": "object",
         "stats": {
          "unique_count": 1,
          "nan_count": 0,
          "categories": [
           {
            "name": "SVO",
            "count": 60
           }
          ]
         }
        },
        {
         "name": "isTransit",
         "dtype": "int64",
         "stats": {
          "unique_count": 1,
          "nan_count": 0,
          "min": "1",
          "max": "1",
          "histogram": [
           {
            "bin_start": 0.5,
            "bin_end": 0.6,
            "count": 0
           },
           {
            "bin_start": 0.6,
            "bin_end": 0.7,
            "count": 0
           },
           {
            "bin_start": 0.7,
            "bin_end": 0.8,
            "count": 0
           },
           {
            "bin_start": 0.8,
            "bin_end": 0.9,
            "count": 0
           },
           {
            "bin_start": 0.9,
            "bin_end": 1,
            "count": 0
           },
           {
            "bin_start": 1,
            "bin_end": 1.1,
            "count": 60
           },
           {
            "bin_start": 1.1,
            "bin_end": 1.2000000000000002,
            "count": 0
           },
           {
            "bin_start": 1.2000000000000002,
            "bin_end": 1.3,
            "count": 0
           },
           {
            "bin_start": 1.3,
            "bin_end": 1.4,
            "count": 0
           },
           {
            "bin_start": 1.4,
            "bin_end": 1.5,
            "count": 0
           }
          ]
         }
        },
        {
         "name": "ArrFlNum",
         "dtype": "object",
         "stats": {
          "unique_count": 15,
          "nan_count": 0,
          "categories": [
           {
            "name": "SU2015",
            "count": 11
           },
           {
            "name": "SU1445",
            "count": 9
           },
           {
            "name": "13 others",
            "count": 40
           }
          ]
         }
        },
        {
         "name": "DepFlNum",
         "dtype": "object",
         "stats": {
          "unique_count": 28,
          "nan_count": 0,
          "categories": [
           {
            "name": "SU1306",
            "count": 6
           },
           {
            "name": "SU1522",
            "count": 6
           },
           {
            "name": "26 others",
            "count": 48
           }
          ]
         }
        },
        {
         "name": "ArrDateTime",
         "dtype": "datetime64[ns]",
         "stats": {
          "unique_count": 3,
          "nan_count": 0,
          "min": "2019-12-22 20:40:00",
          "max": "2019-12-30 21:15:00",
          "histogram": [
           {
            "bin_start": 1577047200000000000,
            "bin_end": 1577116530000000000,
            "count": 5
           },
           {
            "bin_start": 1577116530000000000,
            "bin_end": 1577185860000000000,
            "count": 0
           },
           {
            "bin_start": 1577185860000000000,
            "bin_end": 1577255190000000000,
            "count": 0
           },
           {
            "bin_start": 1577255190000000000,
            "bin_end": 1577324520000000000,
            "count": 0
           },
           {
            "bin_start": 1577324520000000000,
            "bin_end": 1577393850000000000,
            "count": 0
           },
           {
            "bin_start": 1577393850000000000,
            "bin_end": 1577463180000000000,
            "count": 0
           },
           {
            "bin_start": 1577463180000000000,
            "bin_end": 1577532510000000000,
            "count": 0
           },
           {
            "bin_start": 1577532510000000000,
            "bin_end": 1577601840000000000,
            "count": 0
           },
           {
            "bin_start": 1577601840000000000,
            "bin_end": 1577671170000000000,
            "count": 0
           },
           {
            "bin_start": 1577671170000000000,
            "bin_end": 1577740500000000000,
            "count": 55
           }
          ]
         }
        },
        {
         "name": "DepDateTime",
         "dtype": "datetime64[ns]",
         "stats": {
          "unique_count": 5,
          "nan_count": 0,
          "min": "2019-12-23 00:30:00",
          "max": "2019-12-30 23:15:00",
          "histogram": [
           {
            "bin_start": 1577061000000000000,
            "bin_end": 1577129670000000000,
            "count": 5
           },
           {
            "bin_start": 1577129670000000000,
            "bin_end": 1577198340000000000,
            "count": 0
           },
           {
            "bin_start": 1577198340000000000,
            "bin_end": 1577267010000000000,
            "count": 0
           },
           {
            "bin_start": 1577267010000000000,
            "bin_end": 1577335680000000000,
            "count": 0
           },
           {
            "bin_start": 1577335680000000000,
            "bin_end": 1577404350000000000,
            "count": 0
           },
           {
            "bin_start": 1577404350000000000,
            "bin_end": 1577473020000000000,
            "count": 0
           },
           {
            "bin_start": 1577473020000000000,
            "bin_end": 1577541690000000000,
            "count": 0
           },
           {
            "bin_start": 1577541690000000000,
            "bin_end": 1577610360000000000,
            "count": 0
           },
           {
            "bin_start": 1577610360000000000,
            "bin_end": 1577679030000000000,
            "count": 0
           },
           {
            "bin_start": 1577679030000000000,
            "bin_end": 1577747700000000000,
            "count": 55
           }
          ]
         }
        },
        {
         "name": "ArrTerminal",
         "dtype": "object",
         "stats": {
          "unique_count": 3,
          "nan_count": 0,
          "categories": [
           {
            "name": "B",
            "count": 37
           },
           {
            "name": "D",
            "count": 20
           },
           {
            "name": "E",
            "count": 3
           }
          ]
         }
        },
        {
         "name": "DepartureTerminal",
         "dtype": "object",
         "stats": {
          "unique_count": 3,
          "nan_count": 0,
          "categories": [
           {
            "name": "B",
            "count": 58
           },
           {
            "name": "C",
            "count": 1
           },
           {
            "name": "D",
            "count": 1
           }
          ]
         }
        },
        {
         "name": "Status",
         "dtype": "int64",
         "stats": {
          "unique_count": 1,
          "nan_count": 0,
          "min": "0",
          "max": "0",
          "histogram": [
           {
            "bin_start": -0.5,
            "bin_end": -0.4,
            "count": 0
           },
           {
            "bin_start": -0.4,
            "bin_end": -0.3,
            "count": 0
           },
           {
            "bin_start": -0.3,
            "bin_end": -0.19999999999999996,
            "count": 0
           },
           {
            "bin_start": -0.19999999999999996,
            "bin_end": -0.09999999999999998,
            "count": 0
           },
           {
            "bin_start": -0.09999999999999998,
            "bin_end": 0,
            "count": 0
           },
           {
            "bin_start": 0,
            "bin_end": 0.10000000000000009,
            "count": 60
           },
           {
            "bin_start": 0.10000000000000009,
            "bin_end": 0.20000000000000007,
            "count": 0
           },
           {
            "bin_start": 0.20000000000000007,
            "bin_end": 0.30000000000000004,
            "count": 0
           },
           {
            "bin_start": 0.30000000000000004,
            "bin_end": 0.4,
            "count": 0
           },
           {
            "bin_start": 0.4,
            "bin_end": 0.5,
            "count": 0
           }
          ]
         }
        },
        {
         "name": "_deepnote_index_column",
         "dtype": "int64"
        }
       ],
       "rows_top": [
        {
         "TagID": 1,
         "AirportID": "SVO",
         "isTransit": 1,
         "ArrFlNum": "SU1625",
         "DepFlNum": "SU2060",
         "ArrDateTime": "2019-12-22T20:40:00.000000",
         "DepDateTime": "2019-12-23T09:55:00.000000",
         "ArrTerminal": "B",
         "DepartureTerminal": "C",
         "Status": 0,
         "_deepnote_index_column": 0
        },
        {
         "TagID": 2,
         "AirportID": "SVO",
         "isTransit": 1,
         "ArrFlNum": "LO677",
         "DepFlNum": "SU1408",
         "ArrDateTime": "2019-12-22T20:40:00.000000",
         "DepDateTime": "2019-12-23T00:30:00.000000",
         "ArrTerminal": "E",
         "DepartureTerminal": "B",
         "Status": 0,
         "_deepnote_index_column": 1
        },
        {
         "TagID": 3,
         "AirportID": "SVO",
         "isTransit": 1,
         "ArrFlNum": "SU1359",
         "DepFlNum": "SU1166",
         "ArrDateTime": "2019-12-22T20:40:00.000000",
         "DepDateTime": "2019-12-23T02:30:00.000000",
         "ArrTerminal": "B",
         "DepartureTerminal": "B",
         "Status": 0,
         "_deepnote_index_column": 2
        },
        {
         "TagID": 4,
         "AirportID": "SVO",
         "isTransit": 1,
         "ArrFlNum": "SU1359",
         "DepFlNum": "SU1166",
         "ArrDateTime": "2019-12-22T20:40:00.000000",
         "DepDateTime": "2019-12-23T02:30:00.000000",
         "ArrTerminal": "B",
         "DepartureTerminal": "D",
         "Status": 0,
         "_deepnote_index_column": 3
        },
        {
         "TagID": 5,
         "AirportID": "SVO",
         "isTransit": 1,
         "ArrFlNum": "SU2357",
         "DepFlNum": "SU1306",
         "ArrDateTime": "2019-12-22T20:45:00.000000",
         "DepDateTime": "2019-12-23T11:05:00.000000",
         "ArrTerminal": "E",
         "DepartureTerminal": "B",
         "Status": 0,
         "_deepnote_index_column": 4
        },
        {
         "TagID": 44,
         "AirportID": "SVO",
         "isTransit": 1,
         "ArrFlNum": "SU1249",
         "DepFlNum": "SU1108",
         "ArrDateTime": "2019-12-30T21:15:00.000000",
         "DepDateTime": "2019-12-30T23:15:00.000000",
         "ArrTerminal": "B",
         "DepartureTerminal": "B",
         "Status": 0,
         "_deepnote_index_column": 43
        },
        {
         "TagID": 43,
         "AirportID": "SVO",
         "isTransit": 1,
         "ArrFlNum": "SU1249",
         "DepFlNum": "SU100",
         "ArrDateTime": "2019-12-30T21:15:00.000000",
         "DepDateTime": "2019-12-30T23:15:00.000000",
         "ArrTerminal": "B",
         "DepartureTerminal": "B",
         "Status": 0,
         "_deepnote_index_column": 42
        },
        {
         "TagID": 42,
         "AirportID": "SVO",
         "isTransit": 1,
         "ArrFlNum": "SU1249",
         "DepFlNum": "SU100",
         "ArrDateTime": "2019-12-30T21:15:00.000000",
         "DepDateTime": "2019-12-30T23:15:00.000000",
         "ArrTerminal": "B",
         "DepartureTerminal": "B",
         "Status": 0,
         "_deepnote_index_column": 41
        },
        {
         "TagID": 41,
         "AirportID": "SVO",
         "isTransit": 1,
         "ArrFlNum": "SU1249",
         "DepFlNum": "SU100",
         "ArrDateTime": "2019-12-30T21:15:00.000000",
         "DepDateTime": "2019-12-30T23:15:00.000000",
         "ArrTerminal": "B",
         "DepartureTerminal": "B",
         "Status": 0,
         "_deepnote_index_column": 40
        },
        {
         "TagID": 40,
         "AirportID": "SVO",
         "isTransit": 1,
         "ArrFlNum": "SU1249",
         "DepFlNum": "SU2402",
         "ArrDateTime": "2019-12-30T21:15:00.000000",
         "DepDateTime": "2019-12-30T23:15:00.000000",
         "ArrTerminal": "B",
         "DepartureTerminal": "B",
         "Status": 0,
         "_deepnote_index_column": 39
        },
        {
         "TagID": 38,
         "AirportID": "SVO",
         "isTransit": 1,
         "ArrFlNum": "SU521",
         "DepFlNum": "SU1852",
         "ArrDateTime": "2019-12-30T21:15:00.000000",
         "DepDateTime": "2019-12-30T23:15:00.000000",
         "ArrTerminal": "D",
         "DepartureTerminal": "B",
         "Status": 0,
         "_deepnote_index_column": 37
        },
        {
         "TagID": 45,
         "AirportID": "SVO",
         "isTransit": 1,
         "ArrFlNum": "SU521",
         "DepFlNum": "SU1852",
         "ArrDateTime": "2019-12-30T21:15:00.000000",
         "DepDateTime": "2019-12-30T23:15:00.000000",
         "ArrTerminal": "D",
         "DepartureTerminal": "B",
         "Status": 0,
         "_deepnote_index_column": 44
        },
        {
         "TagID": 37,
         "AirportID": "SVO",
         "isTransit": 1,
         "ArrFlNum": "SU1249",
         "DepFlNum": "SU1522",
         "ArrDateTime": "2019-12-30T21:15:00.000000",
         "DepDateTime": "2019-12-30T23:15:00.000000",
         "ArrTerminal": "B",
         "DepartureTerminal": "B",
         "Status": 0,
         "_deepnote_index_column": 36
        },
        {
         "TagID": 36,
         "AirportID": "SVO",
         "isTransit": 1,
         "ArrFlNum": "SU521",
         "DepFlNum": "SU1838",
         "ArrDateTime": "2019-12-30T21:15:00.000000",
         "DepDateTime": "2019-12-30T23:15:00.000000",
         "ArrTerminal": "D",
         "DepartureTerminal": "B",
         "Status": 0,
         "_deepnote_index_column": 35
        },
        {
         "TagID": 35,
         "AirportID": "SVO",
         "isTransit": 1,
         "ArrFlNum": "SU521",
         "DepFlNum": "SU1536",
         "ArrDateTime": "2019-12-30T21:15:00.000000",
         "DepDateTime": "2019-12-30T23:15:00.000000",
         "ArrTerminal": "D",
         "DepartureTerminal": "B",
         "Status": 0,
         "_deepnote_index_column": 34
        },
        {
         "TagID": 39,
         "AirportID": "SVO",
         "isTransit": 1,
         "ArrFlNum": "SU1249",
         "DepFlNum": "SU1638",
         "ArrDateTime": "2019-12-30T21:15:00.000000",
         "DepDateTime": "2019-12-30T23:15:00.000000",
         "ArrTerminal": "B",
         "DepartureTerminal": "B",
         "Status": 0,
         "_deepnote_index_column": 38
        },
        {
         "TagID": 46,
         "AirportID": "SVO",
         "isTransit": 1,
         "ArrFlNum": "SU1249",
         "DepFlNum": "SU1306",
         "ArrDateTime": "2019-12-30T21:15:00.000000",
         "DepDateTime": "2019-12-30T23:15:00.000000",
         "ArrTerminal": "B",
         "DepartureTerminal": "B",
         "Status": 0,
         "_deepnote_index_column": 45
        },
        {
         "TagID": 48,
         "AirportID": "SVO",
         "isTransit": 1,
         "ArrFlNum": "SU2143",
         "DepFlNum": "SU1428",
         "ArrDateTime": "2019-12-30T21:15:00.000000",
         "DepDateTime": "2019-12-30T23:15:00.000000",
         "ArrTerminal": "D",
         "DepartureTerminal": "B",
         "Status": 0,
         "_deepnote_index_column": 47
        },
        {
         "TagID": 34,
         "AirportID": "SVO",
         "isTransit": 1,
         "ArrFlNum": "SU1259",
         "DepFlNum": "SU1382",
         "ArrDateTime": "2019-12-30T21:15:00.000000",
         "DepDateTime": "2019-12-30T23:15:00.000000",
         "ArrTerminal": "B",
         "DepartureTerminal": "B",
         "Status": 0,
         "_deepnote_index_column": 33
        },
        {
         "TagID": 49,
         "AirportID": "SVO",
         "isTransit": 1,
         "ArrFlNum": "SU2143",
         "DepFlNum": "SU1428",
         "ArrDateTime": "2019-12-30T21:15:00.000000",
         "DepDateTime": "2019-12-30T23:15:00.000000",
         "ArrTerminal": "D",
         "DepartureTerminal": "B",
         "Status": 0,
         "_deepnote_index_column": 48
        },
        {
         "TagID": 50,
         "AirportID": "SVO",
         "isTransit": 1,
         "ArrFlNum": "SU2015",
         "DepFlNum": "SU1306",
         "ArrDateTime": "2019-12-30T21:15:00.000000",
         "DepDateTime": "2019-12-30T23:15:00.000000",
         "ArrTerminal": "D",
         "DepartureTerminal": "B",
         "Status": 0,
         "_deepnote_index_column": 49
        },
        {
         "TagID": 51,
         "AirportID": "SVO",
         "isTransit": 1,
         "ArrFlNum": "SU2015",
         "DepFlNum": "SU1372",
         "ArrDateTime": "2019-12-30T21:15:00.000000",
         "DepDateTime": "2019-12-30T23:15:00.000000",
         "ArrTerminal": "D",
         "DepartureTerminal": "B",
         "Status": 0,
         "_deepnote_index_column": 50
        },
        {
         "TagID": 52,
         "AirportID": "SVO",
         "isTransit": 1,
         "ArrFlNum": "SU2015",
         "DepFlNum": "SU1638",
         "ArrDateTime": "2019-12-30T21:15:00.000000",
         "DepDateTime": "2019-12-30T23:15:00.000000",
         "ArrTerminal": "D",
         "DepartureTerminal": "B",
         "Status": 0,
         "_deepnote_index_column": 51
        },
        {
         "TagID": 53,
         "AirportID": "SVO",
         "isTransit": 1,
         "ArrFlNum": "SU2015",
         "DepFlNum": "SU1112",
         "ArrDateTime": "2019-12-30T21:15:00.000000",
         "DepDateTime": "2019-12-30T23:15:00.000000",
         "ArrTerminal": "D",
         "DepartureTerminal": "B",
         "Status": 0,
         "_deepnote_index_column": 52
        },
        {
         "TagID": 54,
         "AirportID": "SVO",
         "isTransit": 1,
         "ArrFlNum": "SU2015",
         "DepFlNum": "SU1424",
         "ArrDateTime": "2019-12-30T21:15:00.000000",
         "DepDateTime": "2019-12-30T23:15:00.000000",
         "ArrTerminal": "D",
         "DepartureTerminal": "B",
         "Status": 0,
         "_deepnote_index_column": 53
        },
        {
         "TagID": 55,
         "AirportID": "SVO",
         "isTransit": 1,
         "ArrFlNum": "SU2015",
         "DepFlNum": "SU1306",
         "ArrDateTime": "2019-12-30T21:15:00.000000",
         "DepDateTime": "2019-12-30T23:15:00.000000",
         "ArrTerminal": "D",
         "DepartureTerminal": "B",
         "Status": 0,
         "_deepnote_index_column": 54
        },
        {
         "TagID": 56,
         "AirportID": "SVO",
         "isTransit": 1,
         "ArrFlNum": "SU2015",
         "DepFlNum": "SU1638",
         "ArrDateTime": "2019-12-30T21:15:00.000000",
         "DepDateTime": "2019-12-30T23:15:00.000000",
         "ArrTerminal": "D",
         "DepartureTerminal": "B",
         "Status": 0,
         "_deepnote_index_column": 55
        },
        {
         "TagID": 57,
         "AirportID": "SVO",
         "isTransit": 1,
         "ArrFlNum": "SU2015",
         "DepFlNum": "SU1424",
         "ArrDateTime": "2019-12-30T21:15:00.000000",
         "DepDateTime": "2019-12-30T23:15:00.000000",
         "ArrTerminal": "D",
         "DepartureTerminal": "B",
         "Status": 0,
         "_deepnote_index_column": 56
        },
        {
         "TagID": 58,
         "AirportID": "SVO",
         "isTransit": 1,
         "ArrFlNum": "SU2015",
         "DepFlNum": "SU1334",
         "ArrDateTime": "2019-12-30T21:15:00.000000",
         "DepDateTime": "2019-12-30T23:15:00.000000",
         "ArrTerminal": "D",
         "DepartureTerminal": "B",
         "Status": 0,
         "_deepnote_index_column": 57
        },
        {
         "TagID": 47,
         "AirportID": "SVO",
         "isTransit": 1,
         "ArrFlNum": "SU521",
         "DepFlNum": "SU1852",
         "ArrDateTime": "2019-12-30T21:15:00.000000",
         "DepDateTime": "2019-12-30T23:15:00.000000",
         "ArrTerminal": "D",
         "DepartureTerminal": "B",
         "Status": 0,
         "_deepnote_index_column": 46
        },
        {
         "TagID": 33,
         "AirportID": "SVO",
         "isTransit": 1,
         "ArrFlNum": "SU1445",
         "DepFlNum": "SU1206",
         "ArrDateTime": "2019-12-30T21:15:00.000000",
         "DepDateTime": "2019-12-30T23:15:00.000000",
         "ArrTerminal": "B",
         "DepartureTerminal": "B",
         "Status": 0,
         "_deepnote_index_column": 32
        },
        {
         "TagID": 30,
         "AirportID": "SVO",
         "isTransit": 1,
         "ArrFlNum": "SU1175",
         "DepFlNum": "SU1334",
         "ArrDateTime": "2019-12-30T21:15:00.000000",
         "DepDateTime": "2019-12-30T23:15:00.000000",
         "ArrTerminal": "B",
         "DepartureTerminal": "B",
         "Status": 0,
         "_deepnote_index_column": 29
        },
        {
         "TagID": 31,
         "AirportID": "SVO",
         "isTransit": 1,
         "ArrFlNum": "SU1445",
         "DepFlNum": "FV6167",
         "ArrDateTime": "2019-12-30T21:15:00.000000",
         "DepDateTime": "2019-12-30T23:15:00.000000",
         "ArrTerminal": "B",
         "DepartureTerminal": "B",
         "Status": 0,
         "_deepnote_index_column": 30
        },
        {
         "TagID": 6,
         "AirportID": "SVO",
         "isTransit": 1,
         "ArrFlNum": "SU1331",
         "DepFlNum": "SU1106",
         "ArrDateTime": "2019-12-30T21:15:00.000000",
         "DepDateTime": "2019-12-30T23:15:00.000000",
         "ArrTerminal": "B",
         "DepartureTerminal": "B",
         "Status": 0,
         "_deepnote_index_column": 5
        },
        {
         "TagID": 7,
         "AirportID": "SVO",
         "isTransit": 1,
         "ArrFlNum": "SU2357",
         "DepFlNum": "SU1852",
         "ArrDateTime": "2019-12-30T21:15:00.000000",
         "DepDateTime": "2019-12-30T23:15:00.000000",
         "ArrTerminal": "E",
         "DepartureTerminal": "B",
         "Status": 0,
         "_deepnote_index_column": 6
        },
        {
         "TagID": 8,
         "AirportID": "SVO",
         "isTransit": 1,
         "ArrFlNum": "SU1375",
         "DepFlNum": "SU1522",
         "ArrDateTime": "2019-12-30T21:15:00.000000",
         "DepDateTime": "2019-12-30T23:15:00.000000",
         "ArrTerminal": "B",
         "DepartureTerminal": "B",
         "Status": 0,
         "_deepnote_index_column": 7
        },
        {
         "TagID": 9,
         "AirportID": "SVO",
         "isTransit": 1,
         "ArrFlNum": "SU1375",
         "DepFlNum": "SU1382",
         "ArrDateTime": "2019-12-30T21:15:00.000000",
         "DepDateTime": "2019-12-30T23:15:00.000000",
         "ArrTerminal": "B",
         "DepartureTerminal": "B",
         "Status": 0,
         "_deepnote_index_column": 8
        },
        {
         "TagID": 10,
         "AirportID": "SVO",
         "isTransit": 1,
         "ArrFlNum": "SU1375",
         "DepFlNum": "SU100",
         "ArrDateTime": "2019-12-30T21:15:00.000000",
         "DepDateTime": "2019-12-30T23:15:00.000000",
         "ArrTerminal": "B",
         "DepartureTerminal": "B",
         "Status": 0,
         "_deepnote_index_column": 9
        },
        {
         "TagID": 11,
         "AirportID": "SVO",
         "isTransit": 1,
         "ArrFlNum": "SU1375",
         "DepFlNum": "SU1874",
         "ArrDateTime": "2019-12-30T21:15:00.000000",
         "DepDateTime": "2019-12-30T23:15:00.000000",
         "ArrTerminal": "B",
         "DepartureTerminal": "B",
         "Status": 0,
         "_deepnote_index_column": 10
        },
        {
         "TagID": 12,
         "AirportID": "SVO",
         "isTransit": 1,
         "ArrFlNum": "SU1375",
         "DepFlNum": "FV6167",
         "ArrDateTime": "2019-12-30T21:15:00.000000",
         "DepDateTime": "2019-12-30T23:15:00.000000",
         "ArrTerminal": "B",
         "DepartureTerminal": "B",
         "Status": 0,
         "_deepnote_index_column": 11
        },
        {
         "TagID": 13,
         "AirportID": "SVO",
         "isTransit": 1,
         "ArrFlNum": "SU1375",
         "DepFlNum": "SU2684",
         "ArrDateTime": "2019-12-30T21:15:00.000000",
         "DepDateTime": "2019-12-30T23:15:00.000000",
         "ArrTerminal": "B",
         "DepartureTerminal": "B",
         "Status": 0,
         "_deepnote_index_column": 12
        },
        {
         "TagID": 14,
         "AirportID": "SVO",
         "isTransit": 1,
         "ArrFlNum": "SU2133",
         "DepFlNum": "SU1306",
         "ArrDateTime": "2019-12-30T21:15:00.000000",
         "DepDateTime": "2019-12-30T23:15:00.000000",
         "ArrTerminal": "D",
         "DepartureTerminal": "B",
         "Status": 0,
         "_deepnote_index_column": 13
        },
        {
         "TagID": 15,
         "AirportID": "SVO",
         "isTransit": 1,
         "ArrFlNum": "SU2133",
         "DepFlNum": "SU1306",
         "ArrDateTime": "2019-12-30T21:15:00.000000",
         "DepDateTime": "2019-12-30T23:15:00.000000",
         "ArrTerminal": "D",
         "DepartureTerminal": "B",
         "Status": 0,
         "_deepnote_index_column": 14
        },
        {
         "TagID": 16,
         "AirportID": "SVO",
         "isTransit": 1,
         "ArrFlNum": "SU1507",
         "DepFlNum": "SU1522",
         "ArrDateTime": "2019-12-30T21:15:00.000000",
         "DepDateTime": "2019-12-30T23:15:00.000000",
         "ArrTerminal": "B",
         "DepartureTerminal": "B",
         "Status": 0,
         "_deepnote_index_column": 15
        },
        {
         "TagID": 17,
         "AirportID": "SVO",
         "isTransit": 1,
         "ArrFlNum": "SU1507",
         "DepFlNum": "SU2454",
         "ArrDateTime": "2019-12-30T21:15:00.000000",
         "DepDateTime": "2019-12-30T23:15:00.000000",
         "ArrTerminal": "B",
         "DepartureTerminal": "B",
         "Status": 0,
         "_deepnote_index_column": 16
        },
        {
         "TagID": 18,
         "AirportID": "SVO",
         "isTransit": 1,
         "ArrFlNum": "SU1507",
         "DepFlNum": "SU1522",
         "ArrDateTime": "2019-12-30T21:15:00.000000",
         "DepDateTime": "2019-12-30T23:15:00.000000",
         "ArrTerminal": "B",
         "DepartureTerminal": "B",
         "Status": 0,
         "_deepnote_index_column": 17
        },
        {
         "TagID": 19,
         "AirportID": "SVO",
         "isTransit": 1,
         "ArrFlNum": "SU1507",
         "DepFlNum": "SU1522",
         "ArrDateTime": "2019-12-30T21:15:00.000000",
         "DepDateTime": "2019-12-30T23:15:00.000000",
         "ArrTerminal": "B",
         "DepartureTerminal": "B",
         "Status": 0,
         "_deepnote_index_column": 18
        },
        {
         "TagID": 20,
         "AirportID": "SVO",
         "isTransit": 1,
         "ArrFlNum": "SU1507",
         "DepFlNum": "SU1522",
         "ArrDateTime": "2019-12-30T21:15:00.000000",
         "DepDateTime": "2019-12-30T23:15:00.000000",
         "ArrTerminal": "B",
         "DepartureTerminal": "B",
         "Status": 0,
         "_deepnote_index_column": 19
        },
        {
         "TagID": 21,
         "AirportID": "SVO",
         "isTransit": 1,
         "ArrFlNum": "SU1175",
         "DepFlNum": "SU2658",
         "ArrDateTime": "2019-12-30T21:15:00.000000",
         "DepDateTime": "2019-12-30T23:15:00.000000",
         "ArrTerminal": "B",
         "DepartureTerminal": "B",
         "Status": 0,
         "_deepnote_index_column": 20
        },
        {
         "TagID": 22,
         "AirportID": "SVO",
         "isTransit": 1,
         "ArrFlNum": "SU1445",
         "DepFlNum": "SU1234",
         "ArrDateTime": "2019-12-30T21:15:00.000000",
         "DepDateTime": "2019-12-30T23:15:00.000000",
         "ArrTerminal": "B",
         "DepartureTerminal": "B",
         "Status": 0,
         "_deepnote_index_column": 21
        },
        {
         "TagID": 23,
         "AirportID": "SVO",
         "isTransit": 1,
         "ArrFlNum": "SU1445",
         "DepFlNum": "SU1052",
         "ArrDateTime": "2019-12-30T21:15:00.000000",
         "DepDateTime": "2019-12-30T23:15:00.000000",
         "ArrTerminal": "B",
         "DepartureTerminal": "B",
         "Status": 0,
         "_deepnote_index_column": 22
        },
        {
         "TagID": 24,
         "AirportID": "SVO",
         "isTransit": 1,
         "ArrFlNum": "SU1445",
         "DepFlNum": "SU2618",
         "ArrDateTime": "2019-12-30T21:15:00.000000",
         "DepDateTime": "2019-12-30T23:15:00.000000",
         "ArrTerminal": "B",
         "DepartureTerminal": "B",
         "Status": 0,
         "_deepnote_index_column": 23
        },
        {
         "TagID": 25,
         "AirportID": "SVO",
         "isTransit": 1,
         "ArrFlNum": "SU1445",
         "DepFlNum": "SU1052",
         "ArrDateTime": "2019-12-30T21:15:00.000000",
         "DepDateTime": "2019-12-30T23:15:00.000000",
         "ArrTerminal": "B",
         "DepartureTerminal": "B",
         "Status": 0,
         "_deepnote_index_column": 24
        },
        {
         "TagID": 26,
         "AirportID": "SVO",
         "isTransit": 1,
         "ArrFlNum": "SU1175",
         "DepFlNum": "SU1852",
         "ArrDateTime": "2019-12-30T21:15:00.000000",
         "DepDateTime": "2019-12-30T23:15:00.000000",
         "ArrTerminal": "B",
         "DepartureTerminal": "B",
         "Status": 0,
         "_deepnote_index_column": 25
        },
        {
         "TagID": 27,
         "AirportID": "SVO",
         "isTransit": 1,
         "ArrFlNum": "SU1445",
         "DepFlNum": "FV6167",
         "ArrDateTime": "2019-12-30T21:15:00.000000",
         "DepDateTime": "2019-12-30T23:15:00.000000",
         "ArrTerminal": "B",
         "DepartureTerminal": "B",
         "Status": 0,
         "_deepnote_index_column": 26
        },
        {
         "TagID": 28,
         "AirportID": "SVO",
         "isTransit": 1,
         "ArrFlNum": "SU1175",
         "DepFlNum": "SU1382",
         "ArrDateTime": "2019-12-30T21:15:00.000000",
         "DepDateTime": "2019-12-30T23:15:00.000000",
         "ArrTerminal": "B",
         "DepartureTerminal": "B",
         "Status": 0,
         "_deepnote_index_column": 27
        },
        {
         "TagID": 29,
         "AirportID": "SVO",
         "isTransit": 1,
         "ArrFlNum": "SU1445",
         "DepFlNum": "SU1052",
         "ArrDateTime": "2019-12-30T21:15:00.000000",
         "DepDateTime": "2019-12-30T23:15:00.000000",
         "ArrTerminal": "B",
         "DepartureTerminal": "B",
         "Status": 0,
         "_deepnote_index_column": 28
        },
        {
         "TagID": 59,
         "AirportID": "SVO",
         "isTransit": 1,
         "ArrFlNum": "SU2015",
         "DepFlNum": "SU1372",
         "ArrDateTime": "2019-12-30T21:15:00.000000",
         "DepDateTime": "2019-12-30T23:15:00.000000",
         "ArrTerminal": "D",
         "DepartureTerminal": "B",
         "Status": 0,
         "_deepnote_index_column": 58
        },
        {
         "TagID": 32,
         "AirportID": "SVO",
         "isTransit": 1,
         "ArrFlNum": "SU1445",
         "DepFlNum": "FV6167",
         "ArrDateTime": "2019-12-30T21:15:00.000000",
         "DepDateTime": "2019-12-30T23:15:00.000000",
         "ArrTerminal": "B",
         "DepartureTerminal": "B",
         "Status": 0,
         "_deepnote_index_column": 31
        },
        {
         "TagID": 60,
         "AirportID": "SVO",
         "isTransit": 1,
         "ArrFlNum": "SU2015",
         "DepFlNum": "SU1372",
         "ArrDateTime": "2019-12-30T21:15:00.000000",
         "DepDateTime": "2019-12-30T23:15:00.000000",
         "ArrTerminal": "D",
         "DepartureTerminal": "B",
         "Status": 0,
         "_deepnote_index_column": 59
        }
       ],
       "rows_bottom": null
      },
      "text/plain": "    TagID AirportID  isTransit ArrFlNum DepFlNum         ArrDateTime  \\\n0       1       SVO          1   SU1625   SU2060 2019-12-22 20:40:00   \n1       2       SVO          1    LO677   SU1408 2019-12-22 20:40:00   \n2       3       SVO          1   SU1359   SU1166 2019-12-22 20:40:00   \n3       4       SVO          1   SU1359   SU1166 2019-12-22 20:40:00   \n4       5       SVO          1   SU2357   SU1306 2019-12-22 20:45:00   \n43     44       SVO          1   SU1249   SU1108 2019-12-30 21:15:00   \n42     43       SVO          1   SU1249    SU100 2019-12-30 21:15:00   \n41     42       SVO          1   SU1249    SU100 2019-12-30 21:15:00   \n40     41       SVO          1   SU1249    SU100 2019-12-30 21:15:00   \n39     40       SVO          1   SU1249   SU2402 2019-12-30 21:15:00   \n37     38       SVO          1    SU521   SU1852 2019-12-30 21:15:00   \n44     45       SVO          1    SU521   SU1852 2019-12-30 21:15:00   \n36     37       SVO          1   SU1249   SU1522 2019-12-30 21:15:00   \n35     36       SVO          1    SU521   SU1838 2019-12-30 21:15:00   \n34     35       SVO          1    SU521   SU1536 2019-12-30 21:15:00   \n38     39       SVO          1   SU1249   SU1638 2019-12-30 21:15:00   \n45     46       SVO          1   SU1249   SU1306 2019-12-30 21:15:00   \n47     48       SVO          1   SU2143   SU1428 2019-12-30 21:15:00   \n33     34       SVO          1   SU1259   SU1382 2019-12-30 21:15:00   \n48     49       SVO          1   SU2143   SU1428 2019-12-30 21:15:00   \n49     50       SVO          1   SU2015   SU1306 2019-12-30 21:15:00   \n50     51       SVO          1   SU2015   SU1372 2019-12-30 21:15:00   \n51     52       SVO          1   SU2015   SU1638 2019-12-30 21:15:00   \n52     53       SVO          1   SU2015   SU1112 2019-12-30 21:15:00   \n53     54       SVO          1   SU2015   SU1424 2019-12-30 21:15:00   \n54     55       SVO          1   SU2015   SU1306 2019-12-30 21:15:00   \n55     56       SVO          1   SU2015   SU1638 2019-12-30 21:15:00   \n56     57       SVO          1   SU2015   SU1424 2019-12-30 21:15:00   \n57     58       SVO          1   SU2015   SU1334 2019-12-30 21:15:00   \n46     47       SVO          1    SU521   SU1852 2019-12-30 21:15:00   \n32     33       SVO          1   SU1445   SU1206 2019-12-30 21:15:00   \n29     30       SVO          1   SU1175   SU1334 2019-12-30 21:15:00   \n30     31       SVO          1   SU1445   FV6167 2019-12-30 21:15:00   \n5       6       SVO          1   SU1331   SU1106 2019-12-30 21:15:00   \n6       7       SVO          1   SU2357   SU1852 2019-12-30 21:15:00   \n7       8       SVO          1   SU1375   SU1522 2019-12-30 21:15:00   \n8       9       SVO          1   SU1375   SU1382 2019-12-30 21:15:00   \n9      10       SVO          1   SU1375    SU100 2019-12-30 21:15:00   \n10     11       SVO          1   SU1375   SU1874 2019-12-30 21:15:00   \n11     12       SVO          1   SU1375   FV6167 2019-12-30 21:15:00   \n12     13       SVO          1   SU1375   SU2684 2019-12-30 21:15:00   \n13     14       SVO          1   SU2133   SU1306 2019-12-30 21:15:00   \n14     15       SVO          1   SU2133   SU1306 2019-12-30 21:15:00   \n15     16       SVO          1   SU1507   SU1522 2019-12-30 21:15:00   \n16     17       SVO          1   SU1507   SU2454 2019-12-30 21:15:00   \n17     18       SVO          1   SU1507   SU1522 2019-12-30 21:15:00   \n18     19       SVO          1   SU1507   SU1522 2019-12-30 21:15:00   \n19     20       SVO          1   SU1507   SU1522 2019-12-30 21:15:00   \n20     21       SVO          1   SU1175   SU2658 2019-12-30 21:15:00   \n21     22       SVO          1   SU1445   SU1234 2019-12-30 21:15:00   \n22     23       SVO          1   SU1445   SU1052 2019-12-30 21:15:00   \n23     24       SVO          1   SU1445   SU2618 2019-12-30 21:15:00   \n24     25       SVO          1   SU1445   SU1052 2019-12-30 21:15:00   \n25     26       SVO          1   SU1175   SU1852 2019-12-30 21:15:00   \n26     27       SVO          1   SU1445   FV6167 2019-12-30 21:15:00   \n27     28       SVO          1   SU1175   SU1382 2019-12-30 21:15:00   \n28     29       SVO          1   SU1445   SU1052 2019-12-30 21:15:00   \n58     59       SVO          1   SU2015   SU1372 2019-12-30 21:15:00   \n31     32       SVO          1   SU1445   FV6167 2019-12-30 21:15:00   \n59     60       SVO          1   SU2015   SU1372 2019-12-30 21:15:00   \n\n           DepDateTime ArrTerminal DepartureTerminal  Status  \n0  2019-12-23 09:55:00           B                 C       0  \n1  2019-12-23 00:30:00           E                 B       0  \n2  2019-12-23 02:30:00           B                 B       0  \n3  2019-12-23 02:30:00           B                 D       0  \n4  2019-12-23 11:05:00           E                 B       0  \n43 2019-12-30 23:15:00           B                 B       0  \n42 2019-12-30 23:15:00           B                 B       0  \n41 2019-12-30 23:15:00           B                 B       0  \n40 2019-12-30 23:15:00           B                 B       0  \n39 2019-12-30 23:15:00           B                 B       0  \n37 2019-12-30 23:15:00           D                 B       0  \n44 2019-12-30 23:15:00           D                 B       0  \n36 2019-12-30 23:15:00           B                 B       0  \n35 2019-12-30 23:15:00           D                 B       0  \n34 2019-12-30 23:15:00           D                 B       0  \n38 2019-12-30 23:15:00           B                 B       0  \n45 2019-12-30 23:15:00           B                 B       0  \n47 2019-12-30 23:15:00           D                 B       0  \n33 2019-12-30 23:15:00           B                 B       0  \n48 2019-12-30 23:15:00           D                 B       0  \n49 2019-12-30 23:15:00           D                 B       0  \n50 2019-12-30 23:15:00           D                 B       0  \n51 2019-12-30 23:15:00           D                 B       0  \n52 2019-12-30 23:15:00           D                 B       0  \n53 2019-12-30 23:15:00           D                 B       0  \n54 2019-12-30 23:15:00           D                 B       0  \n55 2019-12-30 23:15:00           D                 B       0  \n56 2019-12-30 23:15:00           D                 B       0  \n57 2019-12-30 23:15:00           D                 B       0  \n46 2019-12-30 23:15:00           D                 B       0  \n32 2019-12-30 23:15:00           B                 B       0  \n29 2019-12-30 23:15:00           B                 B       0  \n30 2019-12-30 23:15:00           B                 B       0  \n5  2019-12-30 23:15:00           B                 B       0  \n6  2019-12-30 23:15:00           E                 B       0  \n7  2019-12-30 23:15:00           B                 B       0  \n8  2019-12-30 23:15:00           B                 B       0  \n9  2019-12-30 23:15:00           B                 B       0  \n10 2019-12-30 23:15:00           B                 B       0  \n11 2019-12-30 23:15:00           B                 B       0  \n12 2019-12-30 23:15:00           B                 B       0  \n13 2019-12-30 23:15:00           D                 B       0  \n14 2019-12-30 23:15:00           D                 B       0  \n15 2019-12-30 23:15:00           B                 B       0  \n16 2019-12-30 23:15:00           B                 B       0  \n17 2019-12-30 23:15:00           B                 B       0  \n18 2019-12-30 23:15:00           B                 B       0  \n19 2019-12-30 23:15:00           B                 B       0  \n20 2019-12-30 23:15:00           B                 B       0  \n21 2019-12-30 23:15:00           B                 B       0  \n22 2019-12-30 23:15:00           B                 B       0  \n23 2019-12-30 23:15:00           B                 B       0  \n24 2019-12-30 23:15:00           B                 B       0  \n25 2019-12-30 23:15:00           B                 B       0  \n26 2019-12-30 23:15:00           B                 B       0  \n27 2019-12-30 23:15:00           B                 B       0  \n28 2019-12-30 23:15:00           B                 B       0  \n58 2019-12-30 23:15:00           D                 B       0  \n31 2019-12-30 23:15:00           B                 B       0  \n59 2019-12-30 23:15:00           D                 B       0  ",
      "text/html": "<div>\n<style scoped>\n    .dataframe tbody tr th:only-of-type {\n        vertical-align: middle;\n    }\n\n    .dataframe tbody tr th {\n        vertical-align: top;\n    }\n\n    .dataframe thead th {\n        text-align: right;\n    }\n</style>\n<table border=\"1\" class=\"dataframe\">\n  <thead>\n    <tr style=\"text-align: right;\">\n      <th></th>\n      <th>TagID</th>\n      <th>AirportID</th>\n      <th>isTransit</th>\n      <th>ArrFlNum</th>\n      <th>DepFlNum</th>\n      <th>ArrDateTime</th>\n      <th>DepDateTime</th>\n      <th>ArrTerminal</th>\n      <th>DepartureTerminal</th>\n      <th>Status</th>\n    </tr>\n  </thead>\n  <tbody>\n    <tr>\n      <th>0</th>\n      <td>1</td>\n      <td>SVO</td>\n      <td>1</td>\n      <td>SU1625</td>\n      <td>SU2060</td>\n      <td>2019-12-22 20:40:00</td>\n      <td>2019-12-23 09:55:00</td>\n      <td>B</td>\n      <td>C</td>\n      <td>0</td>\n    </tr>\n    <tr>\n      <th>1</th>\n      <td>2</td>\n      <td>SVO</td>\n      <td>1</td>\n      <td>LO677</td>\n      <td>SU1408</td>\n      <td>2019-12-22 20:40:00</td>\n      <td>2019-12-23 00:30:00</td>\n      <td>E</td>\n      <td>B</td>\n      <td>0</td>\n    </tr>\n    <tr>\n      <th>2</th>\n      <td>3</td>\n      <td>SVO</td>\n      <td>1</td>\n      <td>SU1359</td>\n      <td>SU1166</td>\n      <td>2019-12-22 20:40:00</td>\n      <td>2019-12-23 02:30:00</td>\n      <td>B</td>\n      <td>B</td>\n      <td>0</td>\n    </tr>\n    <tr>\n      <th>3</th>\n      <td>4</td>\n      <td>SVO</td>\n      <td>1</td>\n      <td>SU1359</td>\n      <td>SU1166</td>\n      <td>2019-12-22 20:40:00</td>\n      <td>2019-12-23 02:30:00</td>\n      <td>B</td>\n      <td>D</td>\n      <td>0</td>\n    </tr>\n    <tr>\n      <th>4</th>\n      <td>5</td>\n      <td>SVO</td>\n      <td>1</td>\n      <td>SU2357</td>\n      <td>SU1306</td>\n      <td>2019-12-22 20:45:00</td>\n      <td>2019-12-23 11:05:00</td>\n      <td>E</td>\n      <td>B</td>\n      <td>0</td>\n    </tr>\n    <tr>\n      <th>43</th>\n      <td>44</td>\n      <td>SVO</td>\n      <td>1</td>\n      <td>SU1249</td>\n      <td>SU1108</td>\n      <td>2019-12-30 21:15:00</td>\n      <td>2019-12-30 23:15:00</td>\n      <td>B</td>\n      <td>B</td>\n      <td>0</td>\n    </tr>\n    <tr>\n      <th>42</th>\n      <td>43</td>\n      <td>SVO</td>\n      <td>1</td>\n      <td>SU1249</td>\n      <td>SU100</td>\n      <td>2019-12-30 21:15:00</td>\n      <td>2019-12-30 23:15:00</td>\n      <td>B</td>\n      <td>B</td>\n      <td>0</td>\n    </tr>\n    <tr>\n      <th>41</th>\n      <td>42</td>\n      <td>SVO</td>\n      <td>1</td>\n      <td>SU1249</td>\n      <td>SU100</td>\n      <td>2019-12-30 21:15:00</td>\n      <td>2019-12-30 23:15:00</td>\n      <td>B</td>\n      <td>B</td>\n      <td>0</td>\n    </tr>\n    <tr>\n      <th>40</th>\n      <td>41</td>\n      <td>SVO</td>\n      <td>1</td>\n      <td>SU1249</td>\n      <td>SU100</td>\n      <td>2019-12-30 21:15:00</td>\n      <td>2019-12-30 23:15:00</td>\n      <td>B</td>\n      <td>B</td>\n      <td>0</td>\n    </tr>\n    <tr>\n      <th>39</th>\n      <td>40</td>\n      <td>SVO</td>\n      <td>1</td>\n      <td>SU1249</td>\n      <td>SU2402</td>\n      <td>2019-12-30 21:15:00</td>\n      <td>2019-12-30 23:15:00</td>\n      <td>B</td>\n      <td>B</td>\n      <td>0</td>\n    </tr>\n    <tr>\n      <th>37</th>\n      <td>38</td>\n      <td>SVO</td>\n      <td>1</td>\n      <td>SU521</td>\n      <td>SU1852</td>\n      <td>2019-12-30 21:15:00</td>\n      <td>2019-12-30 23:15:00</td>\n      <td>D</td>\n      <td>B</td>\n      <td>0</td>\n    </tr>\n    <tr>\n      <th>44</th>\n      <td>45</td>\n      <td>SVO</td>\n      <td>1</td>\n      <td>SU521</td>\n      <td>SU1852</td>\n      <td>2019-12-30 21:15:00</td>\n      <td>2019-12-30 23:15:00</td>\n      <td>D</td>\n      <td>B</td>\n      <td>0</td>\n    </tr>\n    <tr>\n      <th>36</th>\n      <td>37</td>\n      <td>SVO</td>\n      <td>1</td>\n      <td>SU1249</td>\n      <td>SU1522</td>\n      <td>2019-12-30 21:15:00</td>\n      <td>2019-12-30 23:15:00</td>\n      <td>B</td>\n      <td>B</td>\n      <td>0</td>\n    </tr>\n    <tr>\n      <th>35</th>\n      <td>36</td>\n      <td>SVO</td>\n      <td>1</td>\n      <td>SU521</td>\n      <td>SU1838</td>\n      <td>2019-12-30 21:15:00</td>\n      <td>2019-12-30 23:15:00</td>\n      <td>D</td>\n      <td>B</td>\n      <td>0</td>\n    </tr>\n    <tr>\n      <th>34</th>\n      <td>35</td>\n      <td>SVO</td>\n      <td>1</td>\n      <td>SU521</td>\n      <td>SU1536</td>\n      <td>2019-12-30 21:15:00</td>\n      <td>2019-12-30 23:15:00</td>\n      <td>D</td>\n      <td>B</td>\n      <td>0</td>\n    </tr>\n    <tr>\n      <th>38</th>\n      <td>39</td>\n      <td>SVO</td>\n      <td>1</td>\n      <td>SU1249</td>\n      <td>SU1638</td>\n      <td>2019-12-30 21:15:00</td>\n      <td>2019-12-30 23:15:00</td>\n      <td>B</td>\n      <td>B</td>\n      <td>0</td>\n    </tr>\n    <tr>\n      <th>45</th>\n      <td>46</td>\n      <td>SVO</td>\n      <td>1</td>\n      <td>SU1249</td>\n      <td>SU1306</td>\n      <td>2019-12-30 21:15:00</td>\n      <td>2019-12-30 23:15:00</td>\n      <td>B</td>\n      <td>B</td>\n      <td>0</td>\n    </tr>\n    <tr>\n      <th>47</th>\n      <td>48</td>\n      <td>SVO</td>\n      <td>1</td>\n      <td>SU2143</td>\n      <td>SU1428</td>\n      <td>2019-12-30 21:15:00</td>\n      <td>2019-12-30 23:15:00</td>\n      <td>D</td>\n      <td>B</td>\n      <td>0</td>\n    </tr>\n    <tr>\n      <th>33</th>\n      <td>34</td>\n      <td>SVO</td>\n      <td>1</td>\n      <td>SU1259</td>\n      <td>SU1382</td>\n      <td>2019-12-30 21:15:00</td>\n      <td>2019-12-30 23:15:00</td>\n      <td>B</td>\n      <td>B</td>\n      <td>0</td>\n    </tr>\n    <tr>\n      <th>48</th>\n      <td>49</td>\n      <td>SVO</td>\n      <td>1</td>\n      <td>SU2143</td>\n      <td>SU1428</td>\n      <td>2019-12-30 21:15:00</td>\n      <td>2019-12-30 23:15:00</td>\n      <td>D</td>\n      <td>B</td>\n      <td>0</td>\n    </tr>\n    <tr>\n      <th>49</th>\n      <td>50</td>\n      <td>SVO</td>\n      <td>1</td>\n      <td>SU2015</td>\n      <td>SU1306</td>\n      <td>2019-12-30 21:15:00</td>\n      <td>2019-12-30 23:15:00</td>\n      <td>D</td>\n      <td>B</td>\n      <td>0</td>\n    </tr>\n    <tr>\n      <th>50</th>\n      <td>51</td>\n      <td>SVO</td>\n      <td>1</td>\n      <td>SU2015</td>\n      <td>SU1372</td>\n      <td>2019-12-30 21:15:00</td>\n      <td>2019-12-30 23:15:00</td>\n      <td>D</td>\n      <td>B</td>\n      <td>0</td>\n    </tr>\n    <tr>\n      <th>51</th>\n      <td>52</td>\n      <td>SVO</td>\n      <td>1</td>\n      <td>SU2015</td>\n      <td>SU1638</td>\n      <td>2019-12-30 21:15:00</td>\n      <td>2019-12-30 23:15:00</td>\n      <td>D</td>\n      <td>B</td>\n      <td>0</td>\n    </tr>\n    <tr>\n      <th>52</th>\n      <td>53</td>\n      <td>SVO</td>\n      <td>1</td>\n      <td>SU2015</td>\n      <td>SU1112</td>\n      <td>2019-12-30 21:15:00</td>\n      <td>2019-12-30 23:15:00</td>\n      <td>D</td>\n      <td>B</td>\n      <td>0</td>\n    </tr>\n    <tr>\n      <th>53</th>\n      <td>54</td>\n      <td>SVO</td>\n      <td>1</td>\n      <td>SU2015</td>\n      <td>SU1424</td>\n      <td>2019-12-30 21:15:00</td>\n      <td>2019-12-30 23:15:00</td>\n      <td>D</td>\n      <td>B</td>\n      <td>0</td>\n    </tr>\n    <tr>\n      <th>54</th>\n      <td>55</td>\n      <td>SVO</td>\n      <td>1</td>\n      <td>SU2015</td>\n      <td>SU1306</td>\n      <td>2019-12-30 21:15:00</td>\n      <td>2019-12-30 23:15:00</td>\n      <td>D</td>\n      <td>B</td>\n      <td>0</td>\n    </tr>\n    <tr>\n      <th>55</th>\n      <td>56</td>\n      <td>SVO</td>\n      <td>1</td>\n      <td>SU2015</td>\n      <td>SU1638</td>\n      <td>2019-12-30 21:15:00</td>\n      <td>2019-12-30 23:15:00</td>\n      <td>D</td>\n      <td>B</td>\n      <td>0</td>\n    </tr>\n    <tr>\n      <th>56</th>\n      <td>57</td>\n      <td>SVO</td>\n      <td>1</td>\n      <td>SU2015</td>\n      <td>SU1424</td>\n      <td>2019-12-30 21:15:00</td>\n      <td>2019-12-30 23:15:00</td>\n      <td>D</td>\n      <td>B</td>\n      <td>0</td>\n    </tr>\n    <tr>\n      <th>57</th>\n      <td>58</td>\n      <td>SVO</td>\n      <td>1</td>\n      <td>SU2015</td>\n      <td>SU1334</td>\n      <td>2019-12-30 21:15:00</td>\n      <td>2019-12-30 23:15:00</td>\n      <td>D</td>\n      <td>B</td>\n      <td>0</td>\n    </tr>\n    <tr>\n      <th>46</th>\n      <td>47</td>\n      <td>SVO</td>\n      <td>1</td>\n      <td>SU521</td>\n      <td>SU1852</td>\n      <td>2019-12-30 21:15:00</td>\n      <td>2019-12-30 23:15:00</td>\n      <td>D</td>\n      <td>B</td>\n      <td>0</td>\n    </tr>\n    <tr>\n      <th>32</th>\n      <td>33</td>\n      <td>SVO</td>\n      <td>1</td>\n      <td>SU1445</td>\n      <td>SU1206</td>\n      <td>2019-12-30 21:15:00</td>\n      <td>2019-12-30 23:15:00</td>\n      <td>B</td>\n      <td>B</td>\n      <td>0</td>\n    </tr>\n    <tr>\n      <th>29</th>\n      <td>30</td>\n      <td>SVO</td>\n      <td>1</td>\n      <td>SU1175</td>\n      <td>SU1334</td>\n      <td>2019-12-30 21:15:00</td>\n      <td>2019-12-30 23:15:00</td>\n      <td>B</td>\n      <td>B</td>\n      <td>0</td>\n    </tr>\n    <tr>\n      <th>30</th>\n      <td>31</td>\n      <td>SVO</td>\n      <td>1</td>\n      <td>SU1445</td>\n      <td>FV6167</td>\n      <td>2019-12-30 21:15:00</td>\n      <td>2019-12-30 23:15:00</td>\n      <td>B</td>\n      <td>B</td>\n      <td>0</td>\n    </tr>\n    <tr>\n      <th>5</th>\n      <td>6</td>\n      <td>SVO</td>\n      <td>1</td>\n      <td>SU1331</td>\n      <td>SU1106</td>\n      <td>2019-12-30 21:15:00</td>\n      <td>2019-12-30 23:15:00</td>\n      <td>B</td>\n      <td>B</td>\n      <td>0</td>\n    </tr>\n    <tr>\n      <th>6</th>\n      <td>7</td>\n      <td>SVO</td>\n      <td>1</td>\n      <td>SU2357</td>\n      <td>SU1852</td>\n      <td>2019-12-30 21:15:00</td>\n      <td>2019-12-30 23:15:00</td>\n      <td>E</td>\n      <td>B</td>\n      <td>0</td>\n    </tr>\n    <tr>\n      <th>7</th>\n      <td>8</td>\n      <td>SVO</td>\n      <td>1</td>\n      <td>SU1375</td>\n      <td>SU1522</td>\n      <td>2019-12-30 21:15:00</td>\n      <td>2019-12-30 23:15:00</td>\n      <td>B</td>\n      <td>B</td>\n      <td>0</td>\n    </tr>\n    <tr>\n      <th>8</th>\n      <td>9</td>\n      <td>SVO</td>\n      <td>1</td>\n      <td>SU1375</td>\n      <td>SU1382</td>\n      <td>2019-12-30 21:15:00</td>\n      <td>2019-12-30 23:15:00</td>\n      <td>B</td>\n      <td>B</td>\n      <td>0</td>\n    </tr>\n    <tr>\n      <th>9</th>\n      <td>10</td>\n      <td>SVO</td>\n      <td>1</td>\n      <td>SU1375</td>\n      <td>SU100</td>\n      <td>2019-12-30 21:15:00</td>\n      <td>2019-12-30 23:15:00</td>\n      <td>B</td>\n      <td>B</td>\n      <td>0</td>\n    </tr>\n    <tr>\n      <th>10</th>\n      <td>11</td>\n      <td>SVO</td>\n      <td>1</td>\n      <td>SU1375</td>\n      <td>SU1874</td>\n      <td>2019-12-30 21:15:00</td>\n      <td>2019-12-30 23:15:00</td>\n      <td>B</td>\n      <td>B</td>\n      <td>0</td>\n    </tr>\n    <tr>\n      <th>11</th>\n      <td>12</td>\n      <td>SVO</td>\n      <td>1</td>\n      <td>SU1375</td>\n      <td>FV6167</td>\n      <td>2019-12-30 21:15:00</td>\n      <td>2019-12-30 23:15:00</td>\n      <td>B</td>\n      <td>B</td>\n      <td>0</td>\n    </tr>\n    <tr>\n      <th>12</th>\n      <td>13</td>\n      <td>SVO</td>\n      <td>1</td>\n      <td>SU1375</td>\n      <td>SU2684</td>\n      <td>2019-12-30 21:15:00</td>\n      <td>2019-12-30 23:15:00</td>\n      <td>B</td>\n      <td>B</td>\n      <td>0</td>\n    </tr>\n    <tr>\n      <th>13</th>\n      <td>14</td>\n      <td>SVO</td>\n      <td>1</td>\n      <td>SU2133</td>\n      <td>SU1306</td>\n      <td>2019-12-30 21:15:00</td>\n      <td>2019-12-30 23:15:00</td>\n      <td>D</td>\n      <td>B</td>\n      <td>0</td>\n    </tr>\n    <tr>\n      <th>14</th>\n      <td>15</td>\n      <td>SVO</td>\n      <td>1</td>\n      <td>SU2133</td>\n      <td>SU1306</td>\n      <td>2019-12-30 21:15:00</td>\n      <td>2019-12-30 23:15:00</td>\n      <td>D</td>\n      <td>B</td>\n      <td>0</td>\n    </tr>\n    <tr>\n      <th>15</th>\n      <td>16</td>\n      <td>SVO</td>\n      <td>1</td>\n      <td>SU1507</td>\n      <td>SU1522</td>\n      <td>2019-12-30 21:15:00</td>\n      <td>2019-12-30 23:15:00</td>\n      <td>B</td>\n      <td>B</td>\n      <td>0</td>\n    </tr>\n    <tr>\n      <th>16</th>\n      <td>17</td>\n      <td>SVO</td>\n      <td>1</td>\n      <td>SU1507</td>\n      <td>SU2454</td>\n      <td>2019-12-30 21:15:00</td>\n      <td>2019-12-30 23:15:00</td>\n      <td>B</td>\n      <td>B</td>\n      <td>0</td>\n    </tr>\n    <tr>\n      <th>17</th>\n      <td>18</td>\n      <td>SVO</td>\n      <td>1</td>\n      <td>SU1507</td>\n      <td>SU1522</td>\n      <td>2019-12-30 21:15:00</td>\n      <td>2019-12-30 23:15:00</td>\n      <td>B</td>\n      <td>B</td>\n      <td>0</td>\n    </tr>\n    <tr>\n      <th>18</th>\n      <td>19</td>\n      <td>SVO</td>\n      <td>1</td>\n      <td>SU1507</td>\n      <td>SU1522</td>\n      <td>2019-12-30 21:15:00</td>\n      <td>2019-12-30 23:15:00</td>\n      <td>B</td>\n      <td>B</td>\n      <td>0</td>\n    </tr>\n    <tr>\n      <th>19</th>\n      <td>20</td>\n      <td>SVO</td>\n      <td>1</td>\n      <td>SU1507</td>\n      <td>SU1522</td>\n      <td>2019-12-30 21:15:00</td>\n      <td>2019-12-30 23:15:00</td>\n      <td>B</td>\n      <td>B</td>\n      <td>0</td>\n    </tr>\n    <tr>\n      <th>20</th>\n      <td>21</td>\n      <td>SVO</td>\n      <td>1</td>\n      <td>SU1175</td>\n      <td>SU2658</td>\n      <td>2019-12-30 21:15:00</td>\n      <td>2019-12-30 23:15:00</td>\n      <td>B</td>\n      <td>B</td>\n      <td>0</td>\n    </tr>\n    <tr>\n      <th>21</th>\n      <td>22</td>\n      <td>SVO</td>\n      <td>1</td>\n      <td>SU1445</td>\n      <td>SU1234</td>\n      <td>2019-12-30 21:15:00</td>\n      <td>2019-12-30 23:15:00</td>\n      <td>B</td>\n      <td>B</td>\n      <td>0</td>\n    </tr>\n    <tr>\n      <th>22</th>\n      <td>23</td>\n      <td>SVO</td>\n      <td>1</td>\n      <td>SU1445</td>\n      <td>SU1052</td>\n      <td>2019-12-30 21:15:00</td>\n      <td>2019-12-30 23:15:00</td>\n      <td>B</td>\n      <td>B</td>\n      <td>0</td>\n    </tr>\n    <tr>\n      <th>23</th>\n      <td>24</td>\n      <td>SVO</td>\n      <td>1</td>\n      <td>SU1445</td>\n      <td>SU2618</td>\n      <td>2019-12-30 21:15:00</td>\n      <td>2019-12-30 23:15:00</td>\n      <td>B</td>\n      <td>B</td>\n      <td>0</td>\n    </tr>\n    <tr>\n      <th>24</th>\n      <td>25</td>\n      <td>SVO</td>\n      <td>1</td>\n      <td>SU1445</td>\n      <td>SU1052</td>\n      <td>2019-12-30 21:15:00</td>\n      <td>2019-12-30 23:15:00</td>\n      <td>B</td>\n      <td>B</td>\n      <td>0</td>\n    </tr>\n    <tr>\n      <th>25</th>\n      <td>26</td>\n      <td>SVO</td>\n      <td>1</td>\n      <td>SU1175</td>\n      <td>SU1852</td>\n      <td>2019-12-30 21:15:00</td>\n      <td>2019-12-30 23:15:00</td>\n      <td>B</td>\n      <td>B</td>\n      <td>0</td>\n    </tr>\n    <tr>\n      <th>26</th>\n      <td>27</td>\n      <td>SVO</td>\n      <td>1</td>\n      <td>SU1445</td>\n      <td>FV6167</td>\n      <td>2019-12-30 21:15:00</td>\n      <td>2019-12-30 23:15:00</td>\n      <td>B</td>\n      <td>B</td>\n      <td>0</td>\n    </tr>\n    <tr>\n      <th>27</th>\n      <td>28</td>\n      <td>SVO</td>\n      <td>1</td>\n      <td>SU1175</td>\n      <td>SU1382</td>\n      <td>2019-12-30 21:15:00</td>\n      <td>2019-12-30 23:15:00</td>\n      <td>B</td>\n      <td>B</td>\n      <td>0</td>\n    </tr>\n    <tr>\n      <th>28</th>\n      <td>29</td>\n      <td>SVO</td>\n      <td>1</td>\n      <td>SU1445</td>\n      <td>SU1052</td>\n      <td>2019-12-30 21:15:00</td>\n      <td>2019-12-30 23:15:00</td>\n      <td>B</td>\n      <td>B</td>\n      <td>0</td>\n    </tr>\n    <tr>\n      <th>58</th>\n      <td>59</td>\n      <td>SVO</td>\n      <td>1</td>\n      <td>SU2015</td>\n      <td>SU1372</td>\n      <td>2019-12-30 21:15:00</td>\n      <td>2019-12-30 23:15:00</td>\n      <td>D</td>\n      <td>B</td>\n      <td>0</td>\n    </tr>\n    <tr>\n      <th>31</th>\n      <td>32</td>\n      <td>SVO</td>\n      <td>1</td>\n      <td>SU1445</td>\n      <td>FV6167</td>\n      <td>2019-12-30 21:15:00</td>\n      <td>2019-12-30 23:15:00</td>\n      <td>B</td>\n      <td>B</td>\n      <td>0</td>\n    </tr>\n    <tr>\n      <th>59</th>\n      <td>60</td>\n      <td>SVO</td>\n      <td>1</td>\n      <td>SU2015</td>\n      <td>SU1372</td>\n      <td>2019-12-30 21:15:00</td>\n      <td>2019-12-30 23:15:00</td>\n      <td>D</td>\n      <td>B</td>\n      <td>0</td>\n    </tr>\n  </tbody>\n</table>\n</div>"
     },
     "metadata": {}
    }
   ]
  },
  {
   "cell_type": "code",
   "metadata": {
    "tags": [],
    "deepnote_to_be_reexecuted": false,
    "source_hash": "cb1615a5",
    "execution_start": 1624936694029,
    "execution_millis": 0,
    "id": "ZTxy3SKs2Jzs",
    "cell_id": "00012-736820b5-c337-4da3-ad3f-700e14cdf36a",
    "deepnote_cell_type": "code"
   },
   "source": "if False: \n    l_in_d = l_in_d[l_in_d.ArrTerminal != l_in_d.DepartureTerminal]",
   "execution_count": null,
   "outputs": []
  },
  {
   "cell_type": "code",
   "metadata": {
    "ExecuteTime": {
     "end_time": "2021-04-16T10:05:00.033544Z",
     "start_time": "2021-04-16T10:05:00.018050Z"
    },
    "deepnote_to_be_reexecuted": false,
    "execution_millis": 1,
    "execution_start": 1624936694029,
    "id": "Mk7yvquTXMeL",
    "source_hash": "93741093",
    "tags": [],
    "cell_id": "00013-efb7cdb1-667b-4525-8800-0077b27ee637",
    "deepnote_cell_type": "code"
   },
   "source": "class Sim_class(object):\n    def __init__(self, name, main_resource, buffer_resource, q_r, p_t, ResT):\n        self.q_r, self.name, self.ResT, self.full_cap, self.full_q, self.buffer_resource, self.p_t, self.main_resource = q_r, name, ResT, False, False, buffer_resource, p_t, main_resource\n\ndef cont_iter(on_term, name, main_info):\n    if name == 'CTT': return str_dic[(on_term, 'CTT_'+CTT_convert[on_term + main_info['DepartureTerminal']])]\n    else: return str_dic[(on_term, name)]\n\ndef ins_entry(event_type, terminal, system, tag_id=0, FlNum=\"NA\", time=None):\n    if time != None: datetime = time\n    else: datetime = start_time + timedelta(seconds=float(env.now))\n    row = { 'eventTypeID': event_type, 'TagID': tag_id, 'TerminalID': terminal, 'SystemID': system, 'FlNum': FlNum, 'DateTime': datetime}\n    logs_to_save.append(row)",
   "execution_count": null,
   "outputs": []
  },
  {
   "cell_type": "code",
   "metadata": {
    "ExecuteTime": {
     "end_time": "2021-04-16T18:00:51.377606Z",
     "start_time": "2021-04-16T18:00:51.320288Z"
    },
    "deepnote_to_be_reexecuted": false,
    "execution_millis": 2,
    "execution_start": 1624936694030,
    "id": "iX2DAQQjXMeM",
    "source_hash": "bf4f4d65",
    "tags": [],
    "cell_id": "00014-0353b8be-f217-43a1-a923-641ab72560e6",
    "deepnote_cell_type": "code"
   },
   "source": "def next_pos(env, tag_id, on_term, name):\n    main_info = all_bag_dic[tag_id]\n    New_it = cont_iter(on_term, name, main_info)\n    struct_info = len(New_it.q_r.queue) > 0 and not New_it.full_q\n    if struct_info or struct_info == None:\n        New_it.full_q = True \n        ins_entry('M001', on_term, New_it.name, tag_id=tag_id)\n    queue_req = New_it.q_r.request()\n    ins_entry('B002', on_term, New_it.name, tag_id=tag_id)\n    yield queue_req\n    if len(New_it.q_r.queue) == 0 and New_it.full_q: \n        New_it.full_q = False\n        ins_entry('M002', on_term, New_it.name, tag_id=tag_id)\n    next_req = New_it.main_resource.request()\n    yield next_req\n    buffer_req = New_it.buffer_resource.request()\n    yield buffer_req\n    New_it.q_r.release(queue_req)\n    yield env.timeout(New_it.ResT)\n    New_it.buffer_resource.release(buffer_req)\n    ins_entry('B001', on_term, New_it.name, tag_id=tag_id)\n    yield env.timeout(New_it.p_t)\n    if name in ['LTTBS', \n                'TBS']:\n        if New_it.main_resource.count == New_it.main_resource.capacity and not New_it.full_cap:\n            New_it.full_cap = True \n            ins_entry('M003', on_term,\n                     New_it.name,\n                     tag_id=tag_id)\n        elif New_it.main_resource.count < New_it.main_resource.capacity and New_it.full_cap:\n            New_it.full_cap = False\n            ins_entry('M004', \n                     on_term, \n                     New_it.name,\n                     tag_id=tag_id)\n        await_time = main_info['DepDateTime'] - start_time - timedelta(seconds=float(env.now)) - timedelta(hours=2)\n        if await_time.total_seconds() > 0: yield env.timeout(await_time.seconds)\n    New_it.main_resource.release(next_req)",
   "execution_count": null,
   "outputs": []
  },
  {
   "cell_type": "code",
   "metadata": {
    "ExecuteTime": {
     "end_time": "2021-04-16T18:00:52.181794Z",
     "start_time": "2021-04-16T18:00:52.097034Z"
    },
    "deepnote_to_be_reexecuted": false,
    "execution_millis": 5,
    "execution_start": 1624936694036,
    "id": "wU2qPuGwXMeM",
    "source_hash": "e4c3de23",
    "tags": [],
    "cell_id": "00015-e6371011-6a4a-439c-9e90-5cb1769868ec",
    "deepnote_cell_type": "code"
   },
   "source": "def do_bagging(env, tag_id):\n    now_on = 'aircraft'\n    main_info = all_bag_dic[tag_id]\n    on_term = main_info['on_term']\n    while 1:\n        if now_on == 'aircraft': now_on = 'INBP'\n        elif now_on == 'INBP': now_on = 'BHS'\n        elif now_on == 'BHS':\n            if on_term == main_info['DepartureTerminal']:\n                if main_info['DepDateTime'] <= (start_time + timedelta(seconds=float(env.now)) + timedelta(hours=2) ): now_on = 'OUTBP'\n                elif main_info['DepDateTime'] <= (start_time + timedelta(seconds=float(env.now)) + timedelta(hours=4) ): now_on = 'TBS'\n                else: now_on = 'LTTBS'\n            else: now_on = 'CTT'\n        elif now_on in ['CTT', 'TBS', 'LTTBS']: now_on = 'BHS'\n        elif now_on == 'OUTBP': break\n        yield env.process(next_pos(env, tag_id, on_term, name=now_on))\n        if now_on == 'CTT': on_term = CTT_convert[on_term + main_info['DepartureTerminal']][-1]\n\n    if main_info['DepDateTime'] < start_time + timedelta(seconds=float(env.now)):\n        ins_entry('M005', on_term, 'NA', tag_id=tag_id, FlNum=main_info['DepFlNum'])\n        diff = start_time + timedelta(seconds=float(env.now)) - main_info['DepDateTime']\n        laters.append(diff)\n        case_late(diff, main_info)\n    else:\n        ins_entry('B003', on_term, 'NA', tag_id=tag_id, FlNum=main_info['DepFlNum'])\n        ins_entry('B004', on_term, 'NA', tag_id=tag_id, FlNum=main_info['DepFlNum'])",
   "execution_count": null,
   "outputs": []
  },
  {
   "cell_type": "code",
   "metadata": {
    "tags": [],
    "deepnote_to_be_reexecuted": false,
    "source_hash": "df7680cb",
    "execution_start": 1624936694046,
    "execution_millis": 3,
    "id": "NCvMR3DJ2Jzu",
    "cell_id": "00016-7b8c4cdd-2be5-4b7f-b37e-b0e21e24fa96",
    "deepnote_cell_type": "code"
   },
   "source": "late_enties = [] \ndef case_late(diff, main_info):\n    global late_enties\n    curr_loss = {   \"DepDateTime\":  main_info['DepDateTime'],\n                    \"ArrDateTime\": main_info['ArrDateTime'],\n                    \"ArrTerminal\": main_info[\"ArrTerminal\"],\n                    \"DepartureTerminal\": main_info[\"DepartureTerminal\"],\n                    \"TimeDifference\": diff,\n                    \"TagID\": main_info['TagID'],\n                     \"ArrFlNum\": main_info['ArrFlNum'],\n                    \"DepFlNum\": main_info['DepFlNum']}\n\n    late_enties.append(curr_loss)",
   "execution_count": null,
   "outputs": []
  },
  {
   "cell_type": "code",
   "metadata": {
    "ExecuteTime": {
     "end_time": "2021-04-16T18:00:52.634495Z",
     "start_time": "2021-04-16T18:00:52.620331Z"
    },
    "deepnote_to_be_reexecuted": false,
    "execution_millis": 3,
    "execution_start": 1624936694055,
    "id": "lGXiRZPsXMeN",
    "source_hash": "535e8624",
    "tags": [],
    "cell_id": "00017-e57f23ab-4bac-401b-8768-81c4dde4d296",
    "deepnote_cell_type": "code"
   },
   "source": "def pack_bag(df):\n    for index, row in df.iterrows():\n        if row['ArrDateTime'] > start_time + timedelta(seconds=float(env.now)): yield env.timeout((row['ArrDateTime'] - start_time - timedelta(seconds=float(env.now))).seconds)   \n        if (row['ArrFlNum'], row['ArrDateTime']) not in procc_arr:\n            procc_arr.add((row['ArrFlNum'], row['ArrDateTime']))\n            ins_entry('A001', row['ArrTerminal'], 'NA', FlNum=row['ArrFlNum'])\n        if (row['DepFlNum'], row['DepDateTime']) not in procc_dep:\n            procc_dep.add((row['DepFlNum'], row['DepDateTime']))\n            ins_entry('A002', row['DepartureTerminal'], 'NA', FlNum=row['DepFlNum'], time=row['DepDateTime'])\n        row['on_term'] = row['ArrTerminal']\n        all_bag_dic[row['TagID']] = row\n        env.process(do_bagging(env, row['TagID']))",
   "execution_count": null,
   "outputs": []
  },
  {
   "cell_type": "code",
   "metadata": {
    "tags": [],
    "deepnote_to_be_reexecuted": false,
    "source_hash": "5ff0215f",
    "execution_start": 1624936694078,
    "execution_millis": 210,
    "id": "pyTnnYOo2Jzu",
    "cell_id": "00018-aee07f42-52d0-4eef-ab05-5aee40ca6953",
    "deepnote_cell_type": "code"
   },
   "source": "env = simpy.Environment()\nstr_dic = {}\nlogs_to_save = []\nall_bag_dic = {}\nstart_time = l_in_d['ArrDateTime'].min()\nprocc_arr = set()\nprocc_dep = set()\nlaters = []\n\n\nfor t in term_all:\n    for s in [t.INBP, t.BHS,\n                   t.TBS, t.LTTBS, t.OUTBP]:\n        str_dic[(t.terminal_id,\n                        s.sid)] = Sim_class(\n            name=s.sid, \n            main_resource=simpy.Resource(env, \n                                         capacity=s.capacity), \n            buffer_resource=simpy.Resource(env, capacity=1), \n            q_r=simpy.Resource(env, \n                                          capacity=s.q_cap),\n            p_t=s.p_t,\n            ResT=s.ResT,\n        )\nfor key, val in CTT_dict.items():\n    str_dic[(key[0], f'CTT_{key}')] = Sim_class(\n            name=f'CTT_{key}',\n            main_resource=simpy.Resource(env, \n                                         capacity=val.capacity), \n            buffer_resource=simpy.Resource(env, capacity=1), \n            q_r=simpy.Resource(env,\n                                          capacity=val.q_cap),\n            p_t=val.p_t,\n            ResT=val.ResT,\n    )\nenv.process(pack_bag(l_in_d))\nenv.run()\n\nlogs_df = pd.DataFrame(logs_to_save)\nlogs_df.sort_values(['DateTime', 'TagID'], inplace=True, ignore_index=True)\nlogs_df['eventID'] = logs_df.index + 1\ncols = list(logs_df.columns)\ncols = [cols[-1]] + cols[:-1]\nlogs_df = logs_df[cols]",
   "execution_count": null,
   "outputs": []
  },
  {
   "cell_type": "code",
   "metadata": {
    "deepnote_to_be_reexecuted": false,
    "execution_millis": 2,
    "execution_start": 1624936694294,
    "source_hash": "49fef90",
    "tags": [],
    "id": "XjKeQvWo2Jzw",
    "cell_id": "00020-388044c2-2de8-4d97-905c-7a650e4b00a8",
    "deepnote_cell_type": "code"
   },
   "source": "def inst(x):\n    i = 10\n    return x[:i] +\"T\"+x[i+1:]",
   "execution_count": null,
   "outputs": []
  },
  {
   "cell_type": "code",
   "metadata": {
    "deepnote_to_be_reexecuted": false,
    "execution_millis": 9,
    "execution_start": 1624936694318,
    "source_hash": "471043a4",
    "tags": [],
    "id": "1pX6Zrov2Jzw",
    "cell_id": "00021-cd5e4aa1-986a-4da7-8346-63972b0a0746",
    "deepnote_cell_type": "code"
   },
   "source": "\nlogs_df['DateTime'] = logs_df['DateTime'].apply(str)\nlogs_df['DateTime'] = logs_df['DateTime'].apply(inst)",
   "execution_count": null,
   "outputs": []
  },
  {
   "cell_type": "code",
   "metadata": {
    "deepnote_to_be_reexecuted": false,
    "execution_millis": 2,
    "execution_start": 1624936694328,
    "source_hash": "194aeee6",
    "tags": [],
    "id": "KZ1_Txar2Jzw",
    "cell_id": "00022-2e24af83-1fd3-430f-b062-ca0e14797d9e",
    "deepnote_cell_type": "code"
   },
   "source": "logs_df = logs_df[['eventID', 'TagID',\n 'DateTime',\n 'SystemID',\n 'eventTypeID',\n 'TerminalID',\n 'FlNum']]",
   "execution_count": null,
   "outputs": []
  },
  {
   "cell_type": "code",
   "metadata": {
    "deepnote_to_be_reexecuted": false,
    "execution_millis": 4,
    "execution_start": 1624936694333,
    "source_hash": "1ff56205",
    "tags": [],
    "id": "wY4hAnT52Jzw",
    "cell_id": "00023-8dded9be-a54f-41ea-a94c-86a7e9d50800",
    "deepnote_cell_type": "code"
   },
   "source": "#logs_df = logs_df.rename({'TerminalID':'Terminal'})\n",
   "execution_count": null,
   "outputs": []
  },
  {
   "cell_type": "code",
   "metadata": {
    "deepnote_to_be_reexecuted": false,
    "execution_millis": 1,
    "execution_start": 1624936694379,
    "source_hash": "51fe4e75",
    "tags": [],
    "id": "BbvtRIAz2Jzw",
    "cell_id": "00024-cd3e63b7-c8d5-4ed7-b717-6986fda4ac67",
    "deepnote_cell_type": "code"
   },
   "source": "oldn = ['BHS', 'INBP', 'OUTBP', 'TBS', 'LTTBS', 'CTT']\nnewn = ['SORTER', \"TRIN\", \"CAR\", \"EBS\", \"LBS\", \"STATION\"]\nlogs_df = logs_df.replace(oldn, newn)",
   "execution_count": null,
   "outputs": []
  },
  {
   "cell_type": "code",
   "metadata": {
    "deepnote_to_be_reexecuted": false,
    "execution_millis": 1,
    "execution_start": 1624936694380,
    "source_hash": "156c2508",
    "tags": [],
    "id": "6npUmC-_2Jzw",
    "cell_id": "00025-d354284e-84a0-4b76-a195-dccf69b77f6f",
    "deepnote_cell_type": "code"
   },
   "source": "logs_df.TagID = logs_df.TagID.replace(0, ' ')",
   "execution_count": null,
   "outputs": []
  },
  {
   "cell_type": "code",
   "metadata": {
    "tags": [],
    "deepnote_to_be_reexecuted": false,
    "source_hash": "60d73226",
    "execution_start": 1624936694382,
    "execution_millis": 0,
    "id": "u99Uvqld2Jzw",
    "cell_id": "00026-d3c8012f-6798-49b5-a2bc-892d559e5994",
    "deepnote_cell_type": "code"
   },
   "source": "mask = ( (logs_df.TerminalID == 'S') | (logs_df.TerminalID == 'N'))  & (logs_df.SystemID == \"SORTER\")\nlogs_df.loc[mask, 'SystemID'] = 'STATION'",
   "execution_count": null,
   "outputs": []
  },
  {
   "cell_type": "code",
   "metadata": {
    "tags": [],
    "deepnote_to_be_reexecuted": false,
    "source_hash": "f74c0dd",
    "execution_start": 1624936694383,
    "execution_millis": 5,
    "id": "a9CwyZXT2Jzx",
    "cell_id": "00027-45a2d5f2-f3e2-4d91-b02d-b94cdb88e0d8",
    "deepnote_cell_type": "code"
   },
   "source": "to_del = ['CTT_BN', 'CTT_NB',  'CTT_CN', 'CTT_NC', 'CTT_DS', 'CTT_SD', 'CTT_ES',  'CTT_SE']\nmaskdrop1 = logs_df.SystemID.isin(to_del)\nlogs_df = logs_df.drop(logs_df.loc[maskdrop1].index)",
   "execution_count": null,
   "outputs": []
  },
  {
   "cell_type": "code",
   "metadata": {
    "tags": [],
    "deepnote_to_be_reexecuted": false,
    "source_hash": "b49ddef0",
    "execution_start": 1624936694392,
    "execution_millis": 2,
    "id": "46ZRQXAu2Jzx",
    "cell_id": "00028-ee44336b-3596-4a53-b20f-5f44c712d634",
    "deepnote_cell_type": "code"
   },
   "source": "mask1 = (logs_df.SystemID.isin(['CTT_NS', 'CTT_SN']) )\nlogs_df.loc[mask1, 'TerminalID'] = 'NA'",
   "execution_count": null,
   "outputs": []
  },
  {
   "cell_type": "code",
   "metadata": {
    "tags": [],
    "deepnote_to_be_reexecuted": false,
    "source_hash": "cf25d3d1",
    "execution_start": 1624936694435,
    "execution_millis": 6,
    "colab": {
     "base_uri": "https://localhost:8080/",
     "height": 80
    },
    "id": "9S2yYD6k2Jzx",
    "outputId": "d4123630-de0d-48b1-a7a1-9e519e8a5b3e",
    "cell_id": "00029-ecff7545-cd67-4ab9-a761-757d36fe62fa",
    "deepnote_cell_type": "code"
   },
   "source": "logs_df.loc[logs_df.shape[0]:logs_df.shape[0]]",
   "execution_count": null,
   "outputs": [
    {
     "output_type": "execute_result",
     "execution_count": 26,
     "data": {
      "application/vnd.deepnote.dataframe.v2+json": {
       "row_count": 1,
       "column_count": 7,
       "columns": [
        {
         "name": "eventID",
         "dtype": "int64",
         "stats": {
          "unique_count": 1,
          "nan_count": 0,
          "min": "2518",
          "max": "2518",
          "histogram": [
           {
            "bin_start": 2517.5,
            "bin_end": 2517.6,
            "count": 0
           },
           {
            "bin_start": 2517.6,
            "bin_end": 2517.7,
            "count": 0
           },
           {
            "bin_start": 2517.7,
            "bin_end": 2517.8,
            "count": 0
           },
           {
            "bin_start": 2517.8,
            "bin_end": 2517.9,
            "count": 0
           },
           {
            "bin_start": 2517.9,
            "bin_end": 2518,
            "count": 0
           },
           {
            "bin_start": 2518,
            "bin_end": 2518.1,
            "count": 1
           },
           {
            "bin_start": 2518.1,
            "bin_end": 2518.2,
            "count": 0
           },
           {
            "bin_start": 2518.2,
            "bin_end": 2518.3,
            "count": 0
           },
           {
            "bin_start": 2518.3,
            "bin_end": 2518.4,
            "count": 0
           },
           {
            "bin_start": 2518.4,
            "bin_end": 2518.5,
            "count": 0
           }
          ]
         }
        },
        {
         "name": "TagID",
         "dtype": "object",
         "stats": {
          "unique_count": 1,
          "nan_count": 0,
          "categories": [
           {
            "name": "21",
            "count": 1
           }
          ]
         }
        },
        {
         "name": "DateTime",
         "dtype": "object",
         "stats": {
          "unique_count": 1,
          "nan_count": 0,
          "categories": [
           {
            "name": "2019-12-30T21:23:10",
            "count": 1
           }
          ]
         }
        },
        {
         "name": "SystemID",
         "dtype": "object",
         "stats": {
          "unique_count": 1,
          "nan_count": 0,
          "categories": [
           {
            "name": "NA",
            "count": 1
           }
          ]
         }
        },
        {
         "name": "eventTypeID",
         "dtype": "object",
         "stats": {
          "unique_count": 1,
          "nan_count": 0,
          "categories": [
           {
            "name": "B003",
            "count": 1
           }
          ]
         }
        },
        {
         "name": "TerminalID",
         "dtype": "object",
         "stats": {
          "unique_count": 1,
          "nan_count": 0,
          "categories": [
           {
            "name": "B",
            "count": 1
           }
          ]
         }
        },
        {
         "name": "FlNum",
         "dtype": "object",
         "stats": {
          "unique_count": 1,
          "nan_count": 0,
          "categories": [
           {
            "name": "SU2658",
            "count": 1
           }
          ]
         }
        },
        {
         "name": "_deepnote_index_column",
         "dtype": "int64"
        }
       ],
       "rows_top": [
        {
         "eventID": 2518,
         "TagID": "21",
         "DateTime": "2019-12-30T21:23:10",
         "SystemID": "NA",
         "eventTypeID": "B003",
         "TerminalID": "B",
         "FlNum": "SU2658",
         "_deepnote_index_column": 2517
        }
       ],
       "rows_bottom": null
      },
      "text/plain": "      eventID TagID             DateTime SystemID eventTypeID TerminalID  \\\n2517     2518    21  2019-12-30T21:23:10       NA        B003          B   \n\n       FlNum  \n2517  SU2658  ",
      "text/html": "<div>\n<style scoped>\n    .dataframe tbody tr th:only-of-type {\n        vertical-align: middle;\n    }\n\n    .dataframe tbody tr th {\n        vertical-align: top;\n    }\n\n    .dataframe thead th {\n        text-align: right;\n    }\n</style>\n<table border=\"1\" class=\"dataframe\">\n  <thead>\n    <tr style=\"text-align: right;\">\n      <th></th>\n      <th>eventID</th>\n      <th>TagID</th>\n      <th>DateTime</th>\n      <th>SystemID</th>\n      <th>eventTypeID</th>\n      <th>TerminalID</th>\n      <th>FlNum</th>\n    </tr>\n  </thead>\n  <tbody>\n    <tr>\n      <th>2517</th>\n      <td>2518</td>\n      <td>21</td>\n      <td>2019-12-30T21:23:10</td>\n      <td>NA</td>\n      <td>B003</td>\n      <td>B</td>\n      <td>SU2658</td>\n    </tr>\n  </tbody>\n</table>\n</div>"
     },
     "metadata": {}
    }
   ]
  },
  {
   "cell_type": "code",
   "metadata": {
    "tags": [],
    "deepnote_to_be_reexecuted": false,
    "source_hash": "57f5826b",
    "execution_start": 1624936694436,
    "execution_millis": 0,
    "id": "Ql8_lItm2Jzx",
    "cell_id": "00030-4a3f901b-66c9-4bae-aa45-3fe08da3e29d",
    "deepnote_cell_type": "code"
   },
   "source": "arr_dep_diff = procc_arr - procc_dep\narr_dep_diff = list(arr_dep_diff)\narr_dep_diff = sorted(arr_dep_diff, key= lambda x: x[1])\n#arr_dep_diff",
   "execution_count": null,
   "outputs": []
  },
  {
   "cell_type": "code",
   "metadata": {
    "tags": [],
    "deepnote_to_be_reexecuted": false,
    "source_hash": "fef3d63f",
    "execution_start": 1624936694446,
    "execution_millis": 2,
    "id": "JOph5ily2Jzx",
    "cell_id": "00031-63acfd76-5a7f-4e43-9656-156a7476332f",
    "deepnote_cell_type": "code"
   },
   "source": "# l_in_d\n",
   "execution_count": null,
   "outputs": []
  },
  {
   "cell_type": "code",
   "metadata": {
    "tags": [],
    "deepnote_to_be_reexecuted": false,
    "source_hash": "6699aac",
    "execution_start": 1624936694455,
    "execution_millis": 34566233,
    "id": "Iefxahrc2Jzx",
    "cell_id": "00032-a2ac594a-8e00-4362-924d-73afde7f07e4",
    "deepnote_cell_type": "code"
   },
   "source": "maskNS = logs_df.SystemID.isin(['CTT_NS'])\nmaskSN = logs_df.SystemID.isin(['CTT_SN']) \nlogs_df.loc[maskNS, 'TerminalID'] = 'N-S'\nlogs_df.loc[maskSN, 'TerminalID'] = 'S-N'\nlogs_df.loc[maskNS, 'SystemID'] = 'CTT'\nlogs_df.loc[maskSN, 'SystemID'] = 'CTT'",
   "execution_count": null,
   "outputs": []
  },
  {
   "cell_type": "code",
   "metadata": {
    "tags": [],
    "deepnote_to_be_reexecuted": false,
    "source_hash": "843ce38b",
    "execution_start": 1624936694461,
    "execution_millis": 34566221,
    "id": "f8QFS5lL2Jzx",
    "cell_id": "00033-a048fe67-6f55-4143-95e7-3347f05a450b",
    "deepnote_cell_type": "code"
   },
   "source": "logs_df.TagID = logs_df.TagID.replace(' ', \"NA\")",
   "execution_count": null,
   "outputs": []
  },
  {
   "cell_type": "code",
   "metadata": {
    "tags": [],
    "deepnote_to_be_reexecuted": false,
    "source_hash": "b846ceed",
    "execution_start": 1624936694506,
    "execution_millis": 34566203,
    "id": "ZY2xmHjO2Jzy",
    "cell_id": "00034-483f3053-2013-4d6d-b96a-d117d7312ee1",
    "deepnote_cell_type": "code"
   },
   "source": "# logs_df[logs_df.eventTypeID != 'B002']",
   "execution_count": null,
   "outputs": []
  },
  {
   "cell_type": "code",
   "metadata": {
    "deepnote_to_be_reexecuted": false,
    "execution_millis": 22,
    "execution_start": 1624936694506,
    "source_hash": "45502e44",
    "tags": [],
    "colab": {
     "base_uri": "https://localhost:8080/",
     "height": 421
    },
    "id": "Zj7VYk8c2Jzy",
    "outputId": "8ead6b2e-cf1f-4f3b-ac9f-ee833021ae10",
    "cell_id": "00035-af278239-1873-4b10-a991-188a36e23124",
    "deepnote_cell_type": "code"
   },
   "source": "logs_df",
   "execution_count": null,
   "outputs": [
    {
     "output_type": "execute_result",
     "execution_count": 32,
     "data": {
      "application/vnd.deepnote.dataframe.v2+json": {
       "row_count": 2517,
       "column_count": 7,
       "columns": [
        {
         "name": "eventID",
         "dtype": "int64",
         "stats": {
          "unique_count": 2517,
          "nan_count": 0,
          "min": "1",
          "max": "2617",
          "histogram": [
           {
            "bin_start": 1,
            "bin_end": 262.6,
            "count": 246
           },
           {
            "bin_start": 262.6,
            "bin_end": 524.2,
            "count": 220
           },
           {
            "bin_start": 524.2,
            "bin_end": 785.8000000000001,
            "count": 219
           },
           {
            "bin_start": 785.8000000000001,
            "bin_end": 1047.4,
            "count": 262
           },
           {
            "bin_start": 1047.4,
            "bin_end": 1309,
            "count": 261
           },
           {
            "bin_start": 1309,
            "bin_end": 1570.6000000000001,
            "count": 262
           },
           {
            "bin_start": 1570.6000000000001,
            "bin_end": 1832.2000000000003,
            "count": 262
           },
           {
            "bin_start": 1832.2000000000003,
            "bin_end": 2093.8,
            "count": 261
           },
           {
            "bin_start": 2093.8,
            "bin_end": 2355.4,
            "count": 262
           },
           {
            "bin_start": 2355.4,
            "bin_end": 2617,
            "count": 262
           }
          ]
         }
        },
        {
         "name": "TagID",
         "dtype": "object",
         "stats": {
          "unique_count": 61,
          "nan_count": 0,
          "categories": [
           {
            "name": "50",
            "count": 56
           },
           {
            "name": "60",
            "count": 56
           },
           {
            "name": "59 others",
            "count": 2405
           }
          ]
         }
        },
        {
         "name": "DateTime",
         "dtype": "object",
         "stats": {
          "unique_count": 1158,
          "nan_count": 0,
          "categories": [
           {
            "name": "2019-12-22T21:15:00",
            "count": 67
           },
           {
            "name": "2019-12-23T21:15:00",
            "count": 56
           },
           {
            "name": "1156 others",
            "count": 2394
           }
          ]
         }
        },
        {
         "name": "SystemID",
         "dtype": "object",
         "stats": {
          "unique_count": 8,
          "nan_count": 0,
          "categories": [
           {
            "name": "SORTER",
            "count": 1076
           },
           {
            "name": "LBS",
            "count": 888
           },
           {
            "name": "6 others",
            "count": 553
           }
          ]
         }
        },
        {
         "name": "eventTypeID",
         "dtype": "object",
         "stats": {
          "unique_count": 8,
          "nan_count": 0,
          "categories": [
           {
            "name": "B002",
            "count": 1168
           },
           {
            "name": "B001",
            "count": 1168
           },
           {
            "name": "6 others",
            "count": 181
           }
          ]
         }
        },
        {
         "name": "TerminalID",
         "dtype": "object",
         "stats": {
          "unique_count": 8,
          "nan_count": 0,
          "categories": [
           {
            "name": "B",
            "count": 2251
           },
           {
            "name": "D",
            "count": 94
           },
           {
            "name": "6 others",
            "count": 172
           }
          ]
         }
        },
        {
         "name": "FlNum",
         "dtype": "object",
         "stats": {
          "unique_count": 44,
          "nan_count": 0,
          "categories": [
           {
            "name": "NA",
            "count": 2352
           },
           {
            "name": "SU1306",
            "count": 14
           },
           {
            "name": "42 others",
            "count": 151
           }
          ]
         }
        },
        {
         "name": "_deepnote_index_column",
         "dtype": "int64"
        }
       ],
       "rows_top": [
        {
         "eventID": 1,
         "TagID": "NA",
         "DateTime": "2019-12-22T20:40:00",
         "SystemID": "NA",
         "eventTypeID": "A001",
         "TerminalID": "B",
         "FlNum": "SU1625",
         "_deepnote_index_column": 0
        },
        {
         "eventID": 2,
         "TagID": "NA",
         "DateTime": "2019-12-22T20:40:00",
         "SystemID": "NA",
         "eventTypeID": "A001",
         "TerminalID": "E",
         "FlNum": "LO677",
         "_deepnote_index_column": 1
        },
        {
         "eventID": 3,
         "TagID": "NA",
         "DateTime": "2019-12-22T20:40:00",
         "SystemID": "NA",
         "eventTypeID": "A001",
         "TerminalID": "B",
         "FlNum": "SU1359",
         "_deepnote_index_column": 2
        },
        {
         "eventID": 4,
         "TagID": "1",
         "DateTime": "2019-12-22T20:40:00",
         "SystemID": "TRIN",
         "eventTypeID": "B002",
         "TerminalID": "B",
         "FlNum": "NA",
         "_deepnote_index_column": 3
        },
        {
         "eventID": 5,
         "TagID": "2",
         "DateTime": "2019-12-22T20:40:00",
         "SystemID": "TRIN",
         "eventTypeID": "B002",
         "TerminalID": "E",
         "FlNum": "NA",
         "_deepnote_index_column": 4
        },
        {
         "eventID": 6,
         "TagID": "3",
         "DateTime": "2019-12-22T20:40:00",
         "SystemID": "TRIN",
         "eventTypeID": "B002",
         "TerminalID": "B",
         "FlNum": "NA",
         "_deepnote_index_column": 5
        },
        {
         "eventID": 7,
         "TagID": "4",
         "DateTime": "2019-12-22T20:40:00",
         "SystemID": "TRIN",
         "eventTypeID": "B002",
         "TerminalID": "B",
         "FlNum": "NA",
         "_deepnote_index_column": 6
        },
        {
         "eventID": 8,
         "TagID": "1",
         "DateTime": "2019-12-22T20:40:05",
         "SystemID": "TRIN",
         "eventTypeID": "B001",
         "TerminalID": "B",
         "FlNum": "NA",
         "_deepnote_index_column": 7
        },
        {
         "eventID": 9,
         "TagID": "2",
         "DateTime": "2019-12-22T20:40:05",
         "SystemID": "TRIN",
         "eventTypeID": "B001",
         "TerminalID": "E",
         "FlNum": "NA",
         "_deepnote_index_column": 8
        },
        {
         "eventID": 10,
         "TagID": "3",
         "DateTime": "2019-12-22T20:40:10",
         "SystemID": "TRIN",
         "eventTypeID": "B001",
         "TerminalID": "B",
         "FlNum": "NA",
         "_deepnote_index_column": 9
        },
        {
         "eventID": 11,
         "TagID": "4",
         "DateTime": "2019-12-22T20:40:15",
         "SystemID": "TRIN",
         "eventTypeID": "B001",
         "TerminalID": "B",
         "FlNum": "NA",
         "_deepnote_index_column": 10
        },
        {
         "eventID": 12,
         "TagID": "1",
         "DateTime": "2019-12-22T20:42:05",
         "SystemID": "SORTER",
         "eventTypeID": "B002",
         "TerminalID": "B",
         "FlNum": "NA",
         "_deepnote_index_column": 11
        },
        {
         "eventID": 13,
         "TagID": "2",
         "DateTime": "2019-12-22T20:42:05",
         "SystemID": "SORTER",
         "eventTypeID": "B002",
         "TerminalID": "E",
         "FlNum": "NA",
         "_deepnote_index_column": 12
        },
        {
         "eventID": 14,
         "TagID": "1",
         "DateTime": "2019-12-22T20:42:10",
         "SystemID": "SORTER",
         "eventTypeID": "B001",
         "TerminalID": "B",
         "FlNum": "NA",
         "_deepnote_index_column": 13
        },
        {
         "eventID": 15,
         "TagID": "2",
         "DateTime": "2019-12-22T20:42:10",
         "SystemID": "SORTER",
         "eventTypeID": "B001",
         "TerminalID": "E",
         "FlNum": "NA",
         "_deepnote_index_column": 14
        },
        {
         "eventID": 16,
         "TagID": "3",
         "DateTime": "2019-12-22T20:42:10",
         "SystemID": "SORTER",
         "eventTypeID": "B002",
         "TerminalID": "B",
         "FlNum": "NA",
         "_deepnote_index_column": 15
        },
        {
         "eventID": 17,
         "TagID": "3",
         "DateTime": "2019-12-22T20:42:15",
         "SystemID": "SORTER",
         "eventTypeID": "B001",
         "TerminalID": "B",
         "FlNum": "NA",
         "_deepnote_index_column": 16
        },
        {
         "eventID": 18,
         "TagID": "4",
         "DateTime": "2019-12-22T20:42:15",
         "SystemID": "SORTER",
         "eventTypeID": "B002",
         "TerminalID": "B",
         "FlNum": "NA",
         "_deepnote_index_column": 17
        },
        {
         "eventID": 19,
         "TagID": "4",
         "DateTime": "2019-12-22T20:42:20",
         "SystemID": "SORTER",
         "eventTypeID": "B001",
         "TerminalID": "B",
         "FlNum": "NA",
         "_deepnote_index_column": 18
        },
        {
         "eventID": 20,
         "TagID": "NA",
         "DateTime": "2019-12-22T20:45:00",
         "SystemID": "NA",
         "eventTypeID": "A001",
         "TerminalID": "E",
         "FlNum": "SU2357",
         "_deepnote_index_column": 19
        },
        {
         "eventID": 21,
         "TagID": "5",
         "DateTime": "2019-12-22T20:45:00",
         "SystemID": "TRIN",
         "eventTypeID": "B002",
         "TerminalID": "E",
         "FlNum": "NA",
         "_deepnote_index_column": 20
        },
        {
         "eventID": 22,
         "TagID": "5",
         "DateTime": "2019-12-22T20:45:05",
         "SystemID": "TRIN",
         "eventTypeID": "B001",
         "TerminalID": "E",
         "FlNum": "NA",
         "_deepnote_index_column": 21
        },
        {
         "eventID": 25,
         "TagID": "1",
         "DateTime": "2019-12-22T20:46:10",
         "SystemID": "STATION",
         "eventTypeID": "B002",
         "TerminalID": "N",
         "FlNum": "NA",
         "_deepnote_index_column": 24
        },
        {
         "eventID": 28,
         "TagID": "2",
         "DateTime": "2019-12-22T20:46:10",
         "SystemID": "STATION",
         "eventTypeID": "B002",
         "TerminalID": "S",
         "FlNum": "NA",
         "_deepnote_index_column": 27
        },
        {
         "eventID": 29,
         "TagID": "1",
         "DateTime": "2019-12-22T20:46:15",
         "SystemID": "STATION",
         "eventTypeID": "B001",
         "TerminalID": "N",
         "FlNum": "NA",
         "_deepnote_index_column": 28
        },
        {
         "eventID": 30,
         "TagID": "2",
         "DateTime": "2019-12-22T20:46:15",
         "SystemID": "STATION",
         "eventTypeID": "B001",
         "TerminalID": "S",
         "FlNum": "NA",
         "_deepnote_index_column": 29
        },
        {
         "eventID": 31,
         "TagID": "3",
         "DateTime": "2019-12-22T20:46:15",
         "SystemID": "LBS",
         "eventTypeID": "B002",
         "TerminalID": "B",
         "FlNum": "NA",
         "_deepnote_index_column": 30
        },
        {
         "eventID": 32,
         "TagID": "3",
         "DateTime": "2019-12-22T20:46:20",
         "SystemID": "LBS",
         "eventTypeID": "B001",
         "TerminalID": "B",
         "FlNum": "NA",
         "_deepnote_index_column": 31
        },
        {
         "eventID": 35,
         "TagID": "4",
         "DateTime": "2019-12-22T20:46:20",
         "SystemID": "STATION",
         "eventTypeID": "B002",
         "TerminalID": "N",
         "FlNum": "NA",
         "_deepnote_index_column": 34
        },
        {
         "eventID": 36,
         "TagID": "4",
         "DateTime": "2019-12-22T20:46:25",
         "SystemID": "STATION",
         "eventTypeID": "B001",
         "TerminalID": "N",
         "FlNum": "NA",
         "_deepnote_index_column": 35
        },
        {
         "eventID": 37,
         "TagID": "5",
         "DateTime": "2019-12-22T20:47:05",
         "SystemID": "SORTER",
         "eventTypeID": "B002",
         "TerminalID": "E",
         "FlNum": "NA",
         "_deepnote_index_column": 36
        },
        {
         "eventID": 38,
         "TagID": "5",
         "DateTime": "2019-12-22T20:47:10",
         "SystemID": "SORTER",
         "eventTypeID": "B001",
         "TerminalID": "E",
         "FlNum": "NA",
         "_deepnote_index_column": 37
        },
        {
         "eventID": 41,
         "TagID": "1",
         "DateTime": "2019-12-22T20:48:15",
         "SystemID": "SORTER",
         "eventTypeID": "B002",
         "TerminalID": "C",
         "FlNum": "NA",
         "_deepnote_index_column": 40
        },
        {
         "eventID": 42,
         "TagID": "2",
         "DateTime": "2019-12-22T20:48:15",
         "SystemID": "CTT",
         "eventTypeID": "B002",
         "TerminalID": "S-N",
         "FlNum": "NA",
         "_deepnote_index_column": 41
        },
        {
         "eventID": 43,
         "TagID": "1",
         "DateTime": "2019-12-22T20:48:20",
         "SystemID": "SORTER",
         "eventTypeID": "B001",
         "TerminalID": "C",
         "FlNum": "NA",
         "_deepnote_index_column": 42
        },
        {
         "eventID": 44,
         "TagID": "2",
         "DateTime": "2019-12-22T20:48:25",
         "SystemID": "CTT",
         "eventTypeID": "B001",
         "TerminalID": "S-N",
         "FlNum": "NA",
         "_deepnote_index_column": 43
        },
        {
         "eventID": 45,
         "TagID": "4",
         "DateTime": "2019-12-22T20:48:25",
         "SystemID": "CTT",
         "eventTypeID": "B002",
         "TerminalID": "N-S",
         "FlNum": "NA",
         "_deepnote_index_column": 44
        },
        {
         "eventID": 46,
         "TagID": "4",
         "DateTime": "2019-12-22T20:48:35",
         "SystemID": "CTT",
         "eventTypeID": "B001",
         "TerminalID": "N-S",
         "FlNum": "NA",
         "_deepnote_index_column": 45
        },
        {
         "eventID": 49,
         "TagID": "5",
         "DateTime": "2019-12-22T20:51:10",
         "SystemID": "STATION",
         "eventTypeID": "B002",
         "TerminalID": "S",
         "FlNum": "NA",
         "_deepnote_index_column": 48
        },
        {
         "eventID": 50,
         "TagID": "5",
         "DateTime": "2019-12-22T20:51:15",
         "SystemID": "STATION",
         "eventTypeID": "B001",
         "TerminalID": "S",
         "FlNum": "NA",
         "_deepnote_index_column": 49
        },
        {
         "eventID": 51,
         "TagID": "1",
         "DateTime": "2019-12-22T20:52:20",
         "SystemID": "LBS",
         "eventTypeID": "B002",
         "TerminalID": "C",
         "FlNum": "NA",
         "_deepnote_index_column": 50
        },
        {
         "eventID": 52,
         "TagID": "1",
         "DateTime": "2019-12-22T20:52:25",
         "SystemID": "LBS",
         "eventTypeID": "B001",
         "TerminalID": "C",
         "FlNum": "NA",
         "_deepnote_index_column": 51
        },
        {
         "eventID": 53,
         "TagID": "5",
         "DateTime": "2019-12-22T20:53:15",
         "SystemID": "CTT",
         "eventTypeID": "B002",
         "TerminalID": "S-N",
         "FlNum": "NA",
         "_deepnote_index_column": 52
        },
        {
         "eventID": 54,
         "TagID": "5",
         "DateTime": "2019-12-22T20:53:25",
         "SystemID": "CTT",
         "eventTypeID": "B001",
         "TerminalID": "S-N",
         "FlNum": "NA",
         "_deepnote_index_column": 53
        },
        {
         "eventID": 55,
         "TagID": "2",
         "DateTime": "2019-12-22T20:54:25",
         "SystemID": "STATION",
         "eventTypeID": "B002",
         "TerminalID": "N",
         "FlNum": "NA",
         "_deepnote_index_column": 54
        },
        {
         "eventID": 56,
         "TagID": "2",
         "DateTime": "2019-12-22T20:54:30",
         "SystemID": "STATION",
         "eventTypeID": "B001",
         "TerminalID": "N",
         "FlNum": "NA",
         "_deepnote_index_column": 55
        },
        {
         "eventID": 57,
         "TagID": "4",
         "DateTime": "2019-12-22T20:54:35",
         "SystemID": "STATION",
         "eventTypeID": "B002",
         "TerminalID": "S",
         "FlNum": "NA",
         "_deepnote_index_column": 56
        },
        {
         "eventID": 58,
         "TagID": "4",
         "DateTime": "2019-12-22T20:54:40",
         "SystemID": "STATION",
         "eventTypeID": "B001",
         "TerminalID": "S",
         "FlNum": "NA",
         "_deepnote_index_column": 57
        },
        {
         "eventID": 61,
         "TagID": "2",
         "DateTime": "2019-12-22T20:56:30",
         "SystemID": "SORTER",
         "eventTypeID": "B002",
         "TerminalID": "B",
         "FlNum": "NA",
         "_deepnote_index_column": 60
        },
        {
         "eventID": 62,
         "TagID": "2",
         "DateTime": "2019-12-22T20:56:35",
         "SystemID": "SORTER",
         "eventTypeID": "B001",
         "TerminalID": "B",
         "FlNum": "NA",
         "_deepnote_index_column": 61
        },
        {
         "eventID": 65,
         "TagID": "4",
         "DateTime": "2019-12-22T20:56:40",
         "SystemID": "SORTER",
         "eventTypeID": "B002",
         "TerminalID": "D",
         "FlNum": "NA",
         "_deepnote_index_column": 64
        },
        {
         "eventID": 66,
         "TagID": "4",
         "DateTime": "2019-12-22T20:56:45",
         "SystemID": "SORTER",
         "eventTypeID": "B001",
         "TerminalID": "D",
         "FlNum": "NA",
         "_deepnote_index_column": 65
        },
        {
         "eventID": 67,
         "TagID": "5",
         "DateTime": "2019-12-22T20:59:25",
         "SystemID": "STATION",
         "eventTypeID": "B002",
         "TerminalID": "N",
         "FlNum": "NA",
         "_deepnote_index_column": 66
        },
        {
         "eventID": 68,
         "TagID": "5",
         "DateTime": "2019-12-22T20:59:30",
         "SystemID": "STATION",
         "eventTypeID": "B001",
         "TerminalID": "N",
         "FlNum": "NA",
         "_deepnote_index_column": 67
        },
        {
         "eventID": 69,
         "TagID": "2",
         "DateTime": "2019-12-22T21:00:35",
         "SystemID": "EBS",
         "eventTypeID": "B002",
         "TerminalID": "B",
         "FlNum": "NA",
         "_deepnote_index_column": 68
        },
        {
         "eventID": 70,
         "TagID": "2",
         "DateTime": "2019-12-22T21:00:40",
         "SystemID": "EBS",
         "eventTypeID": "B001",
         "TerminalID": "B",
         "FlNum": "NA",
         "_deepnote_index_column": 69
        },
        {
         "eventID": 71,
         "TagID": "4",
         "DateTime": "2019-12-22T21:00:45",
         "SystemID": "LBS",
         "eventTypeID": "B002",
         "TerminalID": "D",
         "FlNum": "NA",
         "_deepnote_index_column": 70
        },
        {
         "eventID": 72,
         "TagID": "4",
         "DateTime": "2019-12-22T21:00:50",
         "SystemID": "LBS",
         "eventTypeID": "B001",
         "TerminalID": "D",
         "FlNum": "NA",
         "_deepnote_index_column": 71
        },
        {
         "eventID": 75,
         "TagID": "5",
         "DateTime": "2019-12-22T21:01:30",
         "SystemID": "SORTER",
         "eventTypeID": "B002",
         "TerminalID": "B",
         "FlNum": "NA",
         "_deepnote_index_column": 74
        },
        {
         "eventID": 76,
         "TagID": "5",
         "DateTime": "2019-12-22T21:01:35",
         "SystemID": "SORTER",
         "eventTypeID": "B001",
         "TerminalID": "B",
         "FlNum": "NA",
         "_deepnote_index_column": 75
        },
        {
         "eventID": 77,
         "TagID": "5",
         "DateTime": "2019-12-22T21:05:35",
         "SystemID": "LBS",
         "eventTypeID": "B002",
         "TerminalID": "B",
         "FlNum": "NA",
         "_deepnote_index_column": 76
        },
        {
         "eventID": 78,
         "TagID": "5",
         "DateTime": "2019-12-22T21:05:40",
         "SystemID": "LBS",
         "eventTypeID": "B001",
         "TerminalID": "B",
         "FlNum": "NA",
         "_deepnote_index_column": 77
        },
        {
         "eventID": 79,
         "TagID": "NA",
         "DateTime": "2019-12-22T21:15:00",
         "SystemID": "NA",
         "eventTypeID": "A001",
         "TerminalID": "B",
         "FlNum": "SU1249",
         "_deepnote_index_column": 78
        },
        {
         "eventID": 80,
         "TagID": "NA",
         "DateTime": "2019-12-22T21:15:00",
         "SystemID": "NA",
         "eventTypeID": "A001",
         "TerminalID": "D",
         "FlNum": "SU521",
         "_deepnote_index_column": 79
        },
        {
         "eventID": 81,
         "TagID": "NA",
         "DateTime": "2019-12-22T21:15:00",
         "SystemID": "NA",
         "eventTypeID": "A001",
         "TerminalID": "D",
         "FlNum": "SU2143",
         "_deepnote_index_column": 80
        },
        {
         "eventID": 82,
         "TagID": "NA",
         "DateTime": "2019-12-22T21:15:00",
         "SystemID": "NA",
         "eventTypeID": "A001",
         "TerminalID": "B",
         "FlNum": "SU1259",
         "_deepnote_index_column": 81
        },
        {
         "eventID": 83,
         "TagID": "NA",
         "DateTime": "2019-12-22T21:15:00",
         "SystemID": "NA",
         "eventTypeID": "A001",
         "TerminalID": "D",
         "FlNum": "SU2015",
         "_deepnote_index_column": 82
        },
        {
         "eventID": 84,
         "TagID": "NA",
         "DateTime": "2019-12-22T21:15:00",
         "SystemID": "NA",
         "eventTypeID": "A001",
         "TerminalID": "B",
         "FlNum": "SU1445",
         "_deepnote_index_column": 83
        },
        {
         "eventID": 85,
         "TagID": "NA",
         "DateTime": "2019-12-22T21:15:00",
         "SystemID": "NA",
         "eventTypeID": "A001",
         "TerminalID": "B",
         "FlNum": "SU1175",
         "_deepnote_index_column": 84
        },
        {
         "eventID": 86,
         "TagID": "NA",
         "DateTime": "2019-12-22T21:15:00",
         "SystemID": "NA",
         "eventTypeID": "A001",
         "TerminalID": "B",
         "FlNum": "SU1331",
         "_deepnote_index_column": 85
        },
        {
         "eventID": 87,
         "TagID": "NA",
         "DateTime": "2019-12-22T21:15:00",
         "SystemID": "NA",
         "eventTypeID": "A001",
         "TerminalID": "E",
         "FlNum": "SU2357",
         "_deepnote_index_column": 86
        }
       ],
       "rows_bottom": [
        {
         "eventID": 2547,
         "TagID": "29",
         "DateTime": "2019-12-30T21:23:50",
         "SystemID": "NA",
         "eventTypeID": "B003",
         "TerminalID": "B",
         "FlNum": "SU1052",
         "_deepnote_index_column": 2546
        },
        {
         "eventID": 2548,
         "TagID": "29",
         "DateTime": "2019-12-30T21:23:50",
         "SystemID": "NA",
         "eventTypeID": "B004",
         "TerminalID": "B",
         "FlNum": "SU1052",
         "_deepnote_index_column": 2547
        },
        {
         "eventID": 2549,
         "TagID": "32",
         "DateTime": "2019-12-30T21:23:55",
         "SystemID": "NA",
         "eventTypeID": "B003",
         "TerminalID": "B",
         "FlNum": "FV6167",
         "_deepnote_index_column": 2548
        },
        {
         "eventID": 2550,
         "TagID": "32",
         "DateTime": "2019-12-30T21:23:55",
         "SystemID": "NA",
         "eventTypeID": "B004",
         "TerminalID": "B",
         "FlNum": "FV6167",
         "_deepnote_index_column": 2549
        },
        {
         "eventID": 2551,
         "TagID": "38",
         "DateTime": "2019-12-30T21:24:00",
         "SystemID": "NA",
         "eventTypeID": "B003",
         "TerminalID": "B",
         "FlNum": "SU1852",
         "_deepnote_index_column": 2550
        },
        {
         "eventID": 2552,
         "TagID": "38",
         "DateTime": "2019-12-30T21:24:00",
         "SystemID": "NA",
         "eventTypeID": "B004",
         "TerminalID": "B",
         "FlNum": "SU1852",
         "_deepnote_index_column": 2551
        },
        {
         "eventID": 2553,
         "TagID": "7",
         "DateTime": "2019-12-30T21:24:05",
         "SystemID": "NA",
         "eventTypeID": "B003",
         "TerminalID": "B",
         "FlNum": "SU1852",
         "_deepnote_index_column": 2552
        },
        {
         "eventID": 2554,
         "TagID": "7",
         "DateTime": "2019-12-30T21:24:05",
         "SystemID": "NA",
         "eventTypeID": "B004",
         "TerminalID": "B",
         "FlNum": "SU1852",
         "_deepnote_index_column": 2553
        },
        {
         "eventID": 2555,
         "TagID": "45",
         "DateTime": "2019-12-30T21:24:10",
         "SystemID": "NA",
         "eventTypeID": "B003",
         "TerminalID": "B",
         "FlNum": "SU1852",
         "_deepnote_index_column": 2554
        },
        {
         "eventID": 2556,
         "TagID": "45",
         "DateTime": "2019-12-30T21:24:10",
         "SystemID": "NA",
         "eventTypeID": "B004",
         "TerminalID": "B",
         "FlNum": "SU1852",
         "_deepnote_index_column": 2555
        },
        {
         "eventID": 2557,
         "TagID": "36",
         "DateTime": "2019-12-30T21:24:15",
         "SystemID": "NA",
         "eventTypeID": "B003",
         "TerminalID": "B",
         "FlNum": "SU1838",
         "_deepnote_index_column": 2556
        },
        {
         "eventID": 2558,
         "TagID": "36",
         "DateTime": "2019-12-30T21:24:15",
         "SystemID": "NA",
         "eventTypeID": "B004",
         "TerminalID": "B",
         "FlNum": "SU1838",
         "_deepnote_index_column": 2557
        },
        {
         "eventID": 2559,
         "TagID": "35",
         "DateTime": "2019-12-30T21:24:20",
         "SystemID": "NA",
         "eventTypeID": "B003",
         "TerminalID": "B",
         "FlNum": "SU1536",
         "_deepnote_index_column": 2558
        },
        {
         "eventID": 2560,
         "TagID": "35",
         "DateTime": "2019-12-30T21:24:20",
         "SystemID": "NA",
         "eventTypeID": "B004",
         "TerminalID": "B",
         "FlNum": "SU1536",
         "_deepnote_index_column": 2559
        },
        {
         "eventID": 2561,
         "TagID": "48",
         "DateTime": "2019-12-30T21:24:25",
         "SystemID": "NA",
         "eventTypeID": "B003",
         "TerminalID": "B",
         "FlNum": "SU1428",
         "_deepnote_index_column": 2560
        },
        {
         "eventID": 2562,
         "TagID": "48",
         "DateTime": "2019-12-30T21:24:25",
         "SystemID": "NA",
         "eventTypeID": "B004",
         "TerminalID": "B",
         "FlNum": "SU1428",
         "_deepnote_index_column": 2561
        },
        {
         "eventID": 2563,
         "TagID": "49",
         "DateTime": "2019-12-30T21:24:30",
         "SystemID": "NA",
         "eventTypeID": "B003",
         "TerminalID": "B",
         "FlNum": "SU1428",
         "_deepnote_index_column": 2562
        },
        {
         "eventID": 2564,
         "TagID": "49",
         "DateTime": "2019-12-30T21:24:30",
         "SystemID": "NA",
         "eventTypeID": "B004",
         "TerminalID": "B",
         "FlNum": "SU1428",
         "_deepnote_index_column": 2563
        },
        {
         "eventID": 2565,
         "TagID": "50",
         "DateTime": "2019-12-30T21:24:35",
         "SystemID": "NA",
         "eventTypeID": "B003",
         "TerminalID": "B",
         "FlNum": "SU1306",
         "_deepnote_index_column": 2564
        },
        {
         "eventID": 2566,
         "TagID": "50",
         "DateTime": "2019-12-30T21:24:35",
         "SystemID": "NA",
         "eventTypeID": "B004",
         "TerminalID": "B",
         "FlNum": "SU1306",
         "_deepnote_index_column": 2565
        },
        {
         "eventID": 2567,
         "TagID": "51",
         "DateTime": "2019-12-30T21:24:40",
         "SystemID": "NA",
         "eventTypeID": "B003",
         "TerminalID": "B",
         "FlNum": "SU1372",
         "_deepnote_index_column": 2566
        },
        {
         "eventID": 2568,
         "TagID": "51",
         "DateTime": "2019-12-30T21:24:40",
         "SystemID": "NA",
         "eventTypeID": "B004",
         "TerminalID": "B",
         "FlNum": "SU1372",
         "_deepnote_index_column": 2567
        },
        {
         "eventID": 2569,
         "TagID": "52",
         "DateTime": "2019-12-30T21:24:45",
         "SystemID": "NA",
         "eventTypeID": "B003",
         "TerminalID": "B",
         "FlNum": "SU1638",
         "_deepnote_index_column": 2568
        },
        {
         "eventID": 2570,
         "TagID": "52",
         "DateTime": "2019-12-30T21:24:45",
         "SystemID": "NA",
         "eventTypeID": "B004",
         "TerminalID": "B",
         "FlNum": "SU1638",
         "_deepnote_index_column": 2569
        },
        {
         "eventID": 2571,
         "TagID": "53",
         "DateTime": "2019-12-30T21:24:50",
         "SystemID": "NA",
         "eventTypeID": "B003",
         "TerminalID": "B",
         "FlNum": "SU1112",
         "_deepnote_index_column": 2570
        },
        {
         "eventID": 2572,
         "TagID": "53",
         "DateTime": "2019-12-30T21:24:50",
         "SystemID": "NA",
         "eventTypeID": "B004",
         "TerminalID": "B",
         "FlNum": "SU1112",
         "_deepnote_index_column": 2571
        },
        {
         "eventID": 2573,
         "TagID": "54",
         "DateTime": "2019-12-30T21:24:55",
         "SystemID": "NA",
         "eventTypeID": "B003",
         "TerminalID": "B",
         "FlNum": "SU1424",
         "_deepnote_index_column": 2572
        },
        {
         "eventID": 2574,
         "TagID": "54",
         "DateTime": "2019-12-30T21:24:55",
         "SystemID": "NA",
         "eventTypeID": "B004",
         "TerminalID": "B",
         "FlNum": "SU1424",
         "_deepnote_index_column": 2573
        },
        {
         "eventID": 2575,
         "TagID": "55",
         "DateTime": "2019-12-30T21:25:00",
         "SystemID": "NA",
         "eventTypeID": "B003",
         "TerminalID": "B",
         "FlNum": "SU1306",
         "_deepnote_index_column": 2574
        },
        {
         "eventID": 2576,
         "TagID": "55",
         "DateTime": "2019-12-30T21:25:00",
         "SystemID": "NA",
         "eventTypeID": "B004",
         "TerminalID": "B",
         "FlNum": "SU1306",
         "_deepnote_index_column": 2575
        },
        {
         "eventID": 2577,
         "TagID": "56",
         "DateTime": "2019-12-30T21:25:05",
         "SystemID": "NA",
         "eventTypeID": "B003",
         "TerminalID": "B",
         "FlNum": "SU1638",
         "_deepnote_index_column": 2576
        },
        {
         "eventID": 2578,
         "TagID": "56",
         "DateTime": "2019-12-30T21:25:05",
         "SystemID": "NA",
         "eventTypeID": "B004",
         "TerminalID": "B",
         "FlNum": "SU1638",
         "_deepnote_index_column": 2577
        },
        {
         "eventID": 2579,
         "TagID": "57",
         "DateTime": "2019-12-30T21:25:10",
         "SystemID": "NA",
         "eventTypeID": "B003",
         "TerminalID": "B",
         "FlNum": "SU1424",
         "_deepnote_index_column": 2578
        },
        {
         "eventID": 2580,
         "TagID": "57",
         "DateTime": "2019-12-30T21:25:10",
         "SystemID": "NA",
         "eventTypeID": "B004",
         "TerminalID": "B",
         "FlNum": "SU1424",
         "_deepnote_index_column": 2579
        },
        {
         "eventID": 2581,
         "TagID": "58",
         "DateTime": "2019-12-30T21:25:15",
         "SystemID": "NA",
         "eventTypeID": "B003",
         "TerminalID": "B",
         "FlNum": "SU1334",
         "_deepnote_index_column": 2580
        },
        {
         "eventID": 2582,
         "TagID": "58",
         "DateTime": "2019-12-30T21:25:15",
         "SystemID": "NA",
         "eventTypeID": "B004",
         "TerminalID": "B",
         "FlNum": "SU1334",
         "_deepnote_index_column": 2581
        },
        {
         "eventID": 2583,
         "TagID": "47",
         "DateTime": "2019-12-30T21:25:20",
         "SystemID": "NA",
         "eventTypeID": "B003",
         "TerminalID": "B",
         "FlNum": "SU1852",
         "_deepnote_index_column": 2582
        },
        {
         "eventID": 2584,
         "TagID": "47",
         "DateTime": "2019-12-30T21:25:20",
         "SystemID": "NA",
         "eventTypeID": "B004",
         "TerminalID": "B",
         "FlNum": "SU1852",
         "_deepnote_index_column": 2583
        },
        {
         "eventID": 2585,
         "TagID": "14",
         "DateTime": "2019-12-30T21:25:25",
         "SystemID": "NA",
         "eventTypeID": "B003",
         "TerminalID": "B",
         "FlNum": "SU1306",
         "_deepnote_index_column": 2584
        },
        {
         "eventID": 2586,
         "TagID": "14",
         "DateTime": "2019-12-30T21:25:25",
         "SystemID": "NA",
         "eventTypeID": "B004",
         "TerminalID": "B",
         "FlNum": "SU1306",
         "_deepnote_index_column": 2585
        },
        {
         "eventID": 2587,
         "TagID": "15",
         "DateTime": "2019-12-30T21:25:30",
         "SystemID": "NA",
         "eventTypeID": "B003",
         "TerminalID": "B",
         "FlNum": "SU1306",
         "_deepnote_index_column": 2586
        },
        {
         "eventID": 2588,
         "TagID": "15",
         "DateTime": "2019-12-30T21:25:30",
         "SystemID": "NA",
         "eventTypeID": "B004",
         "TerminalID": "B",
         "FlNum": "SU1306",
         "_deepnote_index_column": 2587
        },
        {
         "eventID": 2589,
         "TagID": "59",
         "DateTime": "2019-12-30T21:25:35",
         "SystemID": "NA",
         "eventTypeID": "B003",
         "TerminalID": "B",
         "FlNum": "SU1372",
         "_deepnote_index_column": 2588
        },
        {
         "eventID": 2590,
         "TagID": "59",
         "DateTime": "2019-12-30T21:25:35",
         "SystemID": "NA",
         "eventTypeID": "B004",
         "TerminalID": "B",
         "FlNum": "SU1372",
         "_deepnote_index_column": 2589
        },
        {
         "eventID": 2591,
         "TagID": "60",
         "DateTime": "2019-12-30T21:25:40",
         "SystemID": "NA",
         "eventTypeID": "B003",
         "TerminalID": "B",
         "FlNum": "SU1372",
         "_deepnote_index_column": 2590
        },
        {
         "eventID": 2592,
         "TagID": "60",
         "DateTime": "2019-12-30T21:25:40",
         "SystemID": "NA",
         "eventTypeID": "B004",
         "TerminalID": "B",
         "FlNum": "SU1372",
         "_deepnote_index_column": 2591
        },
        {
         "eventID": 2593,
         "TagID": "NA",
         "DateTime": "2019-12-30T23:15:00",
         "SystemID": "NA",
         "eventTypeID": "A002",
         "TerminalID": "B",
         "FlNum": "SU1108",
         "_deepnote_index_column": 2592
        },
        {
         "eventID": 2594,
         "TagID": "NA",
         "DateTime": "2019-12-30T23:15:00",
         "SystemID": "NA",
         "eventTypeID": "A002",
         "TerminalID": "B",
         "FlNum": "SU100",
         "_deepnote_index_column": 2593
        },
        {
         "eventID": 2595,
         "TagID": "NA",
         "DateTime": "2019-12-30T23:15:00",
         "SystemID": "NA",
         "eventTypeID": "A002",
         "TerminalID": "B",
         "FlNum": "SU2402",
         "_deepnote_index_column": 2594
        },
        {
         "eventID": 2596,
         "TagID": "NA",
         "DateTime": "2019-12-30T23:15:00",
         "SystemID": "NA",
         "eventTypeID": "A002",
         "TerminalID": "B",
         "FlNum": "SU1852",
         "_deepnote_index_column": 2595
        },
        {
         "eventID": 2597,
         "TagID": "NA",
         "DateTime": "2019-12-30T23:15:00",
         "SystemID": "NA",
         "eventTypeID": "A002",
         "TerminalID": "B",
         "FlNum": "SU1522",
         "_deepnote_index_column": 2596
        },
        {
         "eventID": 2598,
         "TagID": "NA",
         "DateTime": "2019-12-30T23:15:00",
         "SystemID": "NA",
         "eventTypeID": "A002",
         "TerminalID": "B",
         "FlNum": "SU1838",
         "_deepnote_index_column": 2597
        },
        {
         "eventID": 2599,
         "TagID": "NA",
         "DateTime": "2019-12-30T23:15:00",
         "SystemID": "NA",
         "eventTypeID": "A002",
         "TerminalID": "B",
         "FlNum": "SU1536",
         "_deepnote_index_column": 2598
        },
        {
         "eventID": 2600,
         "TagID": "NA",
         "DateTime": "2019-12-30T23:15:00",
         "SystemID": "NA",
         "eventTypeID": "A002",
         "TerminalID": "B",
         "FlNum": "SU1638",
         "_deepnote_index_column": 2599
        },
        {
         "eventID": 2601,
         "TagID": "NA",
         "DateTime": "2019-12-30T23:15:00",
         "SystemID": "NA",
         "eventTypeID": "A002",
         "TerminalID": "B",
         "FlNum": "SU1306",
         "_deepnote_index_column": 2600
        },
        {
         "eventID": 2602,
         "TagID": "NA",
         "DateTime": "2019-12-30T23:15:00",
         "SystemID": "NA",
         "eventTypeID": "A002",
         "TerminalID": "B",
         "FlNum": "SU1428",
         "_deepnote_index_column": 2601
        },
        {
         "eventID": 2603,
         "TagID": "NA",
         "DateTime": "2019-12-30T23:15:00",
         "SystemID": "NA",
         "eventTypeID": "A002",
         "TerminalID": "B",
         "FlNum": "SU1382",
         "_deepnote_index_column": 2602
        },
        {
         "eventID": 2604,
         "TagID": "NA",
         "DateTime": "2019-12-30T23:15:00",
         "SystemID": "NA",
         "eventTypeID": "A002",
         "TerminalID": "B",
         "FlNum": "SU1372",
         "_deepnote_index_column": 2603
        },
        {
         "eventID": 2605,
         "TagID": "NA",
         "DateTime": "2019-12-30T23:15:00",
         "SystemID": "NA",
         "eventTypeID": "A002",
         "TerminalID": "B",
         "FlNum": "SU1112",
         "_deepnote_index_column": 2604
        },
        {
         "eventID": 2606,
         "TagID": "NA",
         "DateTime": "2019-12-30T23:15:00",
         "SystemID": "NA",
         "eventTypeID": "A002",
         "TerminalID": "B",
         "FlNum": "SU1424",
         "_deepnote_index_column": 2605
        },
        {
         "eventID": 2607,
         "TagID": "NA",
         "DateTime": "2019-12-30T23:15:00",
         "SystemID": "NA",
         "eventTypeID": "A002",
         "TerminalID": "B",
         "FlNum": "SU1334",
         "_deepnote_index_column": 2606
        },
        {
         "eventID": 2608,
         "TagID": "NA",
         "DateTime": "2019-12-30T23:15:00",
         "SystemID": "NA",
         "eventTypeID": "A002",
         "TerminalID": "B",
         "FlNum": "SU1206",
         "_deepnote_index_column": 2607
        },
        {
         "eventID": 2609,
         "TagID": "NA",
         "DateTime": "2019-12-30T23:15:00",
         "SystemID": "NA",
         "eventTypeID": "A002",
         "TerminalID": "B",
         "FlNum": "FV6167",
         "_deepnote_index_column": 2608
        },
        {
         "eventID": 2610,
         "TagID": "NA",
         "DateTime": "2019-12-30T23:15:00",
         "SystemID": "NA",
         "eventTypeID": "A002",
         "TerminalID": "B",
         "FlNum": "SU1106",
         "_deepnote_index_column": 2609
        },
        {
         "eventID": 2611,
         "TagID": "NA",
         "DateTime": "2019-12-30T23:15:00",
         "SystemID": "NA",
         "eventTypeID": "A002",
         "TerminalID": "B",
         "FlNum": "SU1874",
         "_deepnote_index_column": 2610
        },
        {
         "eventID": 2612,
         "TagID": "NA",
         "DateTime": "2019-12-30T23:15:00",
         "SystemID": "NA",
         "eventTypeID": "A002",
         "TerminalID": "B",
         "FlNum": "SU2684",
         "_deepnote_index_column": 2611
        },
        {
         "eventID": 2613,
         "TagID": "NA",
         "DateTime": "2019-12-30T23:15:00",
         "SystemID": "NA",
         "eventTypeID": "A002",
         "TerminalID": "B",
         "FlNum": "SU2454",
         "_deepnote_index_column": 2612
        },
        {
         "eventID": 2614,
         "TagID": "NA",
         "DateTime": "2019-12-30T23:15:00",
         "SystemID": "NA",
         "eventTypeID": "A002",
         "TerminalID": "B",
         "FlNum": "SU2658",
         "_deepnote_index_column": 2613
        },
        {
         "eventID": 2615,
         "TagID": "NA",
         "DateTime": "2019-12-30T23:15:00",
         "SystemID": "NA",
         "eventTypeID": "A002",
         "TerminalID": "B",
         "FlNum": "SU1234",
         "_deepnote_index_column": 2614
        },
        {
         "eventID": 2616,
         "TagID": "NA",
         "DateTime": "2019-12-30T23:15:00",
         "SystemID": "NA",
         "eventTypeID": "A002",
         "TerminalID": "B",
         "FlNum": "SU1052",
         "_deepnote_index_column": 2615
        },
        {
         "eventID": 2617,
         "TagID": "NA",
         "DateTime": "2019-12-30T23:15:00",
         "SystemID": "NA",
         "eventTypeID": "A002",
         "TerminalID": "B",
         "FlNum": "SU2618",
         "_deepnote_index_column": 2616
        }
       ]
      },
      "text/plain": "      eventID TagID             DateTime SystemID eventTypeID TerminalID  \\\n0           1    NA  2019-12-22T20:40:00       NA        A001          B   \n1           2    NA  2019-12-22T20:40:00       NA        A001          E   \n2           3    NA  2019-12-22T20:40:00       NA        A001          B   \n3           4     1  2019-12-22T20:40:00     TRIN        B002          B   \n4           5     2  2019-12-22T20:40:00     TRIN        B002          E   \n...       ...   ...                  ...      ...         ...        ...   \n2612     2613    NA  2019-12-30T23:15:00       NA        A002          B   \n2613     2614    NA  2019-12-30T23:15:00       NA        A002          B   \n2614     2615    NA  2019-12-30T23:15:00       NA        A002          B   \n2615     2616    NA  2019-12-30T23:15:00       NA        A002          B   \n2616     2617    NA  2019-12-30T23:15:00       NA        A002          B   \n\n       FlNum  \n0     SU1625  \n1      LO677  \n2     SU1359  \n3         NA  \n4         NA  \n...      ...  \n2612  SU2454  \n2613  SU2658  \n2614  SU1234  \n2615  SU1052  \n2616  SU2618  \n\n[2517 rows x 7 columns]",
      "text/html": "<div>\n<style scoped>\n    .dataframe tbody tr th:only-of-type {\n        vertical-align: middle;\n    }\n\n    .dataframe tbody tr th {\n        vertical-align: top;\n    }\n\n    .dataframe thead th {\n        text-align: right;\n    }\n</style>\n<table border=\"1\" class=\"dataframe\">\n  <thead>\n    <tr style=\"text-align: right;\">\n      <th></th>\n      <th>eventID</th>\n      <th>TagID</th>\n      <th>DateTime</th>\n      <th>SystemID</th>\n      <th>eventTypeID</th>\n      <th>TerminalID</th>\n      <th>FlNum</th>\n    </tr>\n  </thead>\n  <tbody>\n    <tr>\n      <th>0</th>\n      <td>1</td>\n      <td>NA</td>\n      <td>2019-12-22T20:40:00</td>\n      <td>NA</td>\n      <td>A001</td>\n      <td>B</td>\n      <td>SU1625</td>\n    </tr>\n    <tr>\n      <th>1</th>\n      <td>2</td>\n      <td>NA</td>\n      <td>2019-12-22T20:40:00</td>\n      <td>NA</td>\n      <td>A001</td>\n      <td>E</td>\n      <td>LO677</td>\n    </tr>\n    <tr>\n      <th>2</th>\n      <td>3</td>\n      <td>NA</td>\n      <td>2019-12-22T20:40:00</td>\n      <td>NA</td>\n      <td>A001</td>\n      <td>B</td>\n      <td>SU1359</td>\n    </tr>\n    <tr>\n      <th>3</th>\n      <td>4</td>\n      <td>1</td>\n      <td>2019-12-22T20:40:00</td>\n      <td>TRIN</td>\n      <td>B002</td>\n      <td>B</td>\n      <td>NA</td>\n    </tr>\n    <tr>\n      <th>4</th>\n      <td>5</td>\n      <td>2</td>\n      <td>2019-12-22T20:40:00</td>\n      <td>TRIN</td>\n      <td>B002</td>\n      <td>E</td>\n      <td>NA</td>\n    </tr>\n    <tr>\n      <th>...</th>\n      <td>...</td>\n      <td>...</td>\n      <td>...</td>\n      <td>...</td>\n      <td>...</td>\n      <td>...</td>\n      <td>...</td>\n    </tr>\n    <tr>\n      <th>2612</th>\n      <td>2613</td>\n      <td>NA</td>\n      <td>2019-12-30T23:15:00</td>\n      <td>NA</td>\n      <td>A002</td>\n      <td>B</td>\n      <td>SU2454</td>\n    </tr>\n    <tr>\n      <th>2613</th>\n      <td>2614</td>\n      <td>NA</td>\n      <td>2019-12-30T23:15:00</td>\n      <td>NA</td>\n      <td>A002</td>\n      <td>B</td>\n      <td>SU2658</td>\n    </tr>\n    <tr>\n      <th>2614</th>\n      <td>2615</td>\n      <td>NA</td>\n      <td>2019-12-30T23:15:00</td>\n      <td>NA</td>\n      <td>A002</td>\n      <td>B</td>\n      <td>SU1234</td>\n    </tr>\n    <tr>\n      <th>2615</th>\n      <td>2616</td>\n      <td>NA</td>\n      <td>2019-12-30T23:15:00</td>\n      <td>NA</td>\n      <td>A002</td>\n      <td>B</td>\n      <td>SU1052</td>\n    </tr>\n    <tr>\n      <th>2616</th>\n      <td>2617</td>\n      <td>NA</td>\n      <td>2019-12-30T23:15:00</td>\n      <td>NA</td>\n      <td>A002</td>\n      <td>B</td>\n      <td>SU2618</td>\n    </tr>\n  </tbody>\n</table>\n<p>2517 rows × 7 columns</p>\n</div>"
     },
     "metadata": {}
    }
   ]
  },
  {
   "cell_type": "code",
   "metadata": {
    "deepnote_to_be_reexecuted": false,
    "execution_millis": 12,
    "execution_start": 1624936694525,
    "source_hash": "674b25d7",
    "tags": [],
    "id": "S0Tc7fMN2Jzy",
    "cell_id": "00036-d72a52ff-326d-4aef-bbb4-dd9a8cce1d8e",
    "deepnote_cell_type": "code"
   },
   "source": "logs_df.to_csv(\"goodlogs.csv\", sep=';',  index=False)",
   "execution_count": null,
   "outputs": []
  },
  {
   "cell_type": "code",
   "metadata": {
    "tags": [],
    "cell_id": "00035-d7c766b0-f400-48aa-8c87-fe22ead8f8e9",
    "deepnote_cell_type": "code"
   },
   "source": "logs_df.to_csv(\"logsdemo.csv\", sep=';',  index=False)",
   "execution_count": null,
   "outputs": []
  },
  {
   "cell_type": "code",
   "metadata": {
    "tags": [],
    "deepnote_to_be_reexecuted": false,
    "source_hash": "45502e44",
    "execution_start": 1624936694540,
    "execution_millis": 57,
    "colab": {
     "base_uri": "https://localhost:8080/",
     "height": 421
    },
    "id": "FBpqJ2d92Jzy",
    "outputId": "5db80366-8ae5-4604-bc7e-b76f684a53ef",
    "cell_id": "00037-ff243d79-478b-46c1-ad79-608de18671d1",
    "deepnote_cell_type": "code"
   },
   "source": "logs_df",
   "execution_count": null,
   "outputs": [
    {
     "output_type": "execute_result",
     "execution_count": 34,
     "data": {
      "application/vnd.deepnote.dataframe.v2+json": {
       "row_count": 2517,
       "column_count": 7,
       "columns": [
        {
         "name": "eventID",
         "dtype": "int64",
         "stats": {
          "unique_count": 2517,
          "nan_count": 0,
          "min": "1",
          "max": "2617",
          "histogram": [
           {
            "bin_start": 1,
            "bin_end": 262.6,
            "count": 246
           },
           {
            "bin_start": 262.6,
            "bin_end": 524.2,
            "count": 220
           },
           {
            "bin_start": 524.2,
            "bin_end": 785.8000000000001,
            "count": 219
           },
           {
            "bin_start": 785.8000000000001,
            "bin_end": 1047.4,
            "count": 262
           },
           {
            "bin_start": 1047.4,
            "bin_end": 1309,
            "count": 261
           },
           {
            "bin_start": 1309,
            "bin_end": 1570.6000000000001,
            "count": 262
           },
           {
            "bin_start": 1570.6000000000001,
            "bin_end": 1832.2000000000003,
            "count": 262
           },
           {
            "bin_start": 1832.2000000000003,
            "bin_end": 2093.8,
            "count": 261
           },
           {
            "bin_start": 2093.8,
            "bin_end": 2355.4,
            "count": 262
           },
           {
            "bin_start": 2355.4,
            "bin_end": 2617,
            "count": 262
           }
          ]
         }
        },
        {
         "name": "TagID",
         "dtype": "object",
         "stats": {
          "unique_count": 61,
          "nan_count": 0,
          "categories": [
           {
            "name": "50",
            "count": 56
           },
           {
            "name": "60",
            "count": 56
           },
           {
            "name": "59 others",
            "count": 2405
           }
          ]
         }
        },
        {
         "name": "DateTime",
         "dtype": "object",
         "stats": {
          "unique_count": 1158,
          "nan_count": 0,
          "categories": [
           {
            "name": "2019-12-22T21:15:00",
            "count": 67
           },
           {
            "name": "2019-12-23T21:15:00",
            "count": 56
           },
           {
            "name": "1156 others",
            "count": 2394
           }
          ]
         }
        },
        {
         "name": "SystemID",
         "dtype": "object",
         "stats": {
          "unique_count": 8,
          "nan_count": 0,
          "categories": [
           {
            "name": "SORTER",
            "count": 1076
           },
           {
            "name": "LBS",
            "count": 888
           },
           {
            "name": "6 others",
            "count": 553
           }
          ]
         }
        },
        {
         "name": "eventTypeID",
         "dtype": "object",
         "stats": {
          "unique_count": 8,
          "nan_count": 0,
          "categories": [
           {
            "name": "B002",
            "count": 1168
           },
           {
            "name": "B001",
            "count": 1168
           },
           {
            "name": "6 others",
            "count": 181
           }
          ]
         }
        },
        {
         "name": "TerminalID",
         "dtype": "object",
         "stats": {
          "unique_count": 8,
          "nan_count": 0,
          "categories": [
           {
            "name": "B",
            "count": 2251
           },
           {
            "name": "D",
            "count": 94
           },
           {
            "name": "6 others",
            "count": 172
           }
          ]
         }
        },
        {
         "name": "FlNum",
         "dtype": "object",
         "stats": {
          "unique_count": 44,
          "nan_count": 0,
          "categories": [
           {
            "name": "NA",
            "count": 2352
           },
           {
            "name": "SU1306",
            "count": 14
           },
           {
            "name": "42 others",
            "count": 151
           }
          ]
         }
        },
        {
         "name": "_deepnote_index_column",
         "dtype": "int64"
        }
       ],
       "rows_top": [
        {
         "eventID": 1,
         "TagID": "NA",
         "DateTime": "2019-12-22T20:40:00",
         "SystemID": "NA",
         "eventTypeID": "A001",
         "TerminalID": "B",
         "FlNum": "SU1625",
         "_deepnote_index_column": 0
        },
        {
         "eventID": 2,
         "TagID": "NA",
         "DateTime": "2019-12-22T20:40:00",
         "SystemID": "NA",
         "eventTypeID": "A001",
         "TerminalID": "E",
         "FlNum": "LO677",
         "_deepnote_index_column": 1
        },
        {
         "eventID": 3,
         "TagID": "NA",
         "DateTime": "2019-12-22T20:40:00",
         "SystemID": "NA",
         "eventTypeID": "A001",
         "TerminalID": "B",
         "FlNum": "SU1359",
         "_deepnote_index_column": 2
        },
        {
         "eventID": 4,
         "TagID": "1",
         "DateTime": "2019-12-22T20:40:00",
         "SystemID": "TRIN",
         "eventTypeID": "B002",
         "TerminalID": "B",
         "FlNum": "NA",
         "_deepnote_index_column": 3
        },
        {
         "eventID": 5,
         "TagID": "2",
         "DateTime": "2019-12-22T20:40:00",
         "SystemID": "TRIN",
         "eventTypeID": "B002",
         "TerminalID": "E",
         "FlNum": "NA",
         "_deepnote_index_column": 4
        },
        {
         "eventID": 6,
         "TagID": "3",
         "DateTime": "2019-12-22T20:40:00",
         "SystemID": "TRIN",
         "eventTypeID": "B002",
         "TerminalID": "B",
         "FlNum": "NA",
         "_deepnote_index_column": 5
        },
        {
         "eventID": 7,
         "TagID": "4",
         "DateTime": "2019-12-22T20:40:00",
         "SystemID": "TRIN",
         "eventTypeID": "B002",
         "TerminalID": "B",
         "FlNum": "NA",
         "_deepnote_index_column": 6
        },
        {
         "eventID": 8,
         "TagID": "1",
         "DateTime": "2019-12-22T20:40:05",
         "SystemID": "TRIN",
         "eventTypeID": "B001",
         "TerminalID": "B",
         "FlNum": "NA",
         "_deepnote_index_column": 7
        },
        {
         "eventID": 9,
         "TagID": "2",
         "DateTime": "2019-12-22T20:40:05",
         "SystemID": "TRIN",
         "eventTypeID": "B001",
         "TerminalID": "E",
         "FlNum": "NA",
         "_deepnote_index_column": 8
        },
        {
         "eventID": 10,
         "TagID": "3",
         "DateTime": "2019-12-22T20:40:10",
         "SystemID": "TRIN",
         "eventTypeID": "B001",
         "TerminalID": "B",
         "FlNum": "NA",
         "_deepnote_index_column": 9
        },
        {
         "eventID": 11,
         "TagID": "4",
         "DateTime": "2019-12-22T20:40:15",
         "SystemID": "TRIN",
         "eventTypeID": "B001",
         "TerminalID": "B",
         "FlNum": "NA",
         "_deepnote_index_column": 10
        },
        {
         "eventID": 12,
         "TagID": "1",
         "DateTime": "2019-12-22T20:42:05",
         "SystemID": "SORTER",
         "eventTypeID": "B002",
         "TerminalID": "B",
         "FlNum": "NA",
         "_deepnote_index_column": 11
        },
        {
         "eventID": 13,
         "TagID": "2",
         "DateTime": "2019-12-22T20:42:05",
         "SystemID": "SORTER",
         "eventTypeID": "B002",
         "TerminalID": "E",
         "FlNum": "NA",
         "_deepnote_index_column": 12
        },
        {
         "eventID": 14,
         "TagID": "1",
         "DateTime": "2019-12-22T20:42:10",
         "SystemID": "SORTER",
         "eventTypeID": "B001",
         "TerminalID": "B",
         "FlNum": "NA",
         "_deepnote_index_column": 13
        },
        {
         "eventID": 15,
         "TagID": "2",
         "DateTime": "2019-12-22T20:42:10",
         "SystemID": "SORTER",
         "eventTypeID": "B001",
         "TerminalID": "E",
         "FlNum": "NA",
         "_deepnote_index_column": 14
        },
        {
         "eventID": 16,
         "TagID": "3",
         "DateTime": "2019-12-22T20:42:10",
         "SystemID": "SORTER",
         "eventTypeID": "B002",
         "TerminalID": "B",
         "FlNum": "NA",
         "_deepnote_index_column": 15
        },
        {
         "eventID": 17,
         "TagID": "3",
         "DateTime": "2019-12-22T20:42:15",
         "SystemID": "SORTER",
         "eventTypeID": "B001",
         "TerminalID": "B",
         "FlNum": "NA",
         "_deepnote_index_column": 16
        },
        {
         "eventID": 18,
         "TagID": "4",
         "DateTime": "2019-12-22T20:42:15",
         "SystemID": "SORTER",
         "eventTypeID": "B002",
         "TerminalID": "B",
         "FlNum": "NA",
         "_deepnote_index_column": 17
        },
        {
         "eventID": 19,
         "TagID": "4",
         "DateTime": "2019-12-22T20:42:20",
         "SystemID": "SORTER",
         "eventTypeID": "B001",
         "TerminalID": "B",
         "FlNum": "NA",
         "_deepnote_index_column": 18
        },
        {
         "eventID": 20,
         "TagID": "NA",
         "DateTime": "2019-12-22T20:45:00",
         "SystemID": "NA",
         "eventTypeID": "A001",
         "TerminalID": "E",
         "FlNum": "SU2357",
         "_deepnote_index_column": 19
        },
        {
         "eventID": 21,
         "TagID": "5",
         "DateTime": "2019-12-22T20:45:00",
         "SystemID": "TRIN",
         "eventTypeID": "B002",
         "TerminalID": "E",
         "FlNum": "NA",
         "_deepnote_index_column": 20
        },
        {
         "eventID": 22,
         "TagID": "5",
         "DateTime": "2019-12-22T20:45:05",
         "SystemID": "TRIN",
         "eventTypeID": "B001",
         "TerminalID": "E",
         "FlNum": "NA",
         "_deepnote_index_column": 21
        },
        {
         "eventID": 25,
         "TagID": "1",
         "DateTime": "2019-12-22T20:46:10",
         "SystemID": "STATION",
         "eventTypeID": "B002",
         "TerminalID": "N",
         "FlNum": "NA",
         "_deepnote_index_column": 24
        },
        {
         "eventID": 28,
         "TagID": "2",
         "DateTime": "2019-12-22T20:46:10",
         "SystemID": "STATION",
         "eventTypeID": "B002",
         "TerminalID": "S",
         "FlNum": "NA",
         "_deepnote_index_column": 27
        },
        {
         "eventID": 29,
         "TagID": "1",
         "DateTime": "2019-12-22T20:46:15",
         "SystemID": "STATION",
         "eventTypeID": "B001",
         "TerminalID": "N",
         "FlNum": "NA",
         "_deepnote_index_column": 28
        },
        {
         "eventID": 30,
         "TagID": "2",
         "DateTime": "2019-12-22T20:46:15",
         "SystemID": "STATION",
         "eventTypeID": "B001",
         "TerminalID": "S",
         "FlNum": "NA",
         "_deepnote_index_column": 29
        },
        {
         "eventID": 31,
         "TagID": "3",
         "DateTime": "2019-12-22T20:46:15",
         "SystemID": "LBS",
         "eventTypeID": "B002",
         "TerminalID": "B",
         "FlNum": "NA",
         "_deepnote_index_column": 30
        },
        {
         "eventID": 32,
         "TagID": "3",
         "DateTime": "2019-12-22T20:46:20",
         "SystemID": "LBS",
         "eventTypeID": "B001",
         "TerminalID": "B",
         "FlNum": "NA",
         "_deepnote_index_column": 31
        },
        {
         "eventID": 35,
         "TagID": "4",
         "DateTime": "2019-12-22T20:46:20",
         "SystemID": "STATION",
         "eventTypeID": "B002",
         "TerminalID": "N",
         "FlNum": "NA",
         "_deepnote_index_column": 34
        },
        {
         "eventID": 36,
         "TagID": "4",
         "DateTime": "2019-12-22T20:46:25",
         "SystemID": "STATION",
         "eventTypeID": "B001",
         "TerminalID": "N",
         "FlNum": "NA",
         "_deepnote_index_column": 35
        },
        {
         "eventID": 37,
         "TagID": "5",
         "DateTime": "2019-12-22T20:47:05",
         "SystemID": "SORTER",
         "eventTypeID": "B002",
         "TerminalID": "E",
         "FlNum": "NA",
         "_deepnote_index_column": 36
        },
        {
         "eventID": 38,
         "TagID": "5",
         "DateTime": "2019-12-22T20:47:10",
         "SystemID": "SORTER",
         "eventTypeID": "B001",
         "TerminalID": "E",
         "FlNum": "NA",
         "_deepnote_index_column": 37
        },
        {
         "eventID": 41,
         "TagID": "1",
         "DateTime": "2019-12-22T20:48:15",
         "SystemID": "SORTER",
         "eventTypeID": "B002",
         "TerminalID": "C",
         "FlNum": "NA",
         "_deepnote_index_column": 40
        },
        {
         "eventID": 42,
         "TagID": "2",
         "DateTime": "2019-12-22T20:48:15",
         "SystemID": "CTT",
         "eventTypeID": "B002",
         "TerminalID": "S-N",
         "FlNum": "NA",
         "_deepnote_index_column": 41
        },
        {
         "eventID": 43,
         "TagID": "1",
         "DateTime": "2019-12-22T20:48:20",
         "SystemID": "SORTER",
         "eventTypeID": "B001",
         "TerminalID": "C",
         "FlNum": "NA",
         "_deepnote_index_column": 42
        },
        {
         "eventID": 44,
         "TagID": "2",
         "DateTime": "2019-12-22T20:48:25",
         "SystemID": "CTT",
         "eventTypeID": "B001",
         "TerminalID": "S-N",
         "FlNum": "NA",
         "_deepnote_index_column": 43
        },
        {
         "eventID": 45,
         "TagID": "4",
         "DateTime": "2019-12-22T20:48:25",
         "SystemID": "CTT",
         "eventTypeID": "B002",
         "TerminalID": "N-S",
         "FlNum": "NA",
         "_deepnote_index_column": 44
        },
        {
         "eventID": 46,
         "TagID": "4",
         "DateTime": "2019-12-22T20:48:35",
         "SystemID": "CTT",
         "eventTypeID": "B001",
         "TerminalID": "N-S",
         "FlNum": "NA",
         "_deepnote_index_column": 45
        },
        {
         "eventID": 49,
         "TagID": "5",
         "DateTime": "2019-12-22T20:51:10",
         "SystemID": "STATION",
         "eventTypeID": "B002",
         "TerminalID": "S",
         "FlNum": "NA",
         "_deepnote_index_column": 48
        },
        {
         "eventID": 50,
         "TagID": "5",
         "DateTime": "2019-12-22T20:51:15",
         "SystemID": "STATION",
         "eventTypeID": "B001",
         "TerminalID": "S",
         "FlNum": "NA",
         "_deepnote_index_column": 49
        },
        {
         "eventID": 51,
         "TagID": "1",
         "DateTime": "2019-12-22T20:52:20",
         "SystemID": "LBS",
         "eventTypeID": "B002",
         "TerminalID": "C",
         "FlNum": "NA",
         "_deepnote_index_column": 50
        },
        {
         "eventID": 52,
         "TagID": "1",
         "DateTime": "2019-12-22T20:52:25",
         "SystemID": "LBS",
         "eventTypeID": "B001",
         "TerminalID": "C",
         "FlNum": "NA",
         "_deepnote_index_column": 51
        },
        {
         "eventID": 53,
         "TagID": "5",
         "DateTime": "2019-12-22T20:53:15",
         "SystemID": "CTT",
         "eventTypeID": "B002",
         "TerminalID": "S-N",
         "FlNum": "NA",
         "_deepnote_index_column": 52
        },
        {
         "eventID": 54,
         "TagID": "5",
         "DateTime": "2019-12-22T20:53:25",
         "SystemID": "CTT",
         "eventTypeID": "B001",
         "TerminalID": "S-N",
         "FlNum": "NA",
         "_deepnote_index_column": 53
        },
        {
         "eventID": 55,
         "TagID": "2",
         "DateTime": "2019-12-22T20:54:25",
         "SystemID": "STATION",
         "eventTypeID": "B002",
         "TerminalID": "N",
         "FlNum": "NA",
         "_deepnote_index_column": 54
        },
        {
         "eventID": 56,
         "TagID": "2",
         "DateTime": "2019-12-22T20:54:30",
         "SystemID": "STATION",
         "eventTypeID": "B001",
         "TerminalID": "N",
         "FlNum": "NA",
         "_deepnote_index_column": 55
        },
        {
         "eventID": 57,
         "TagID": "4",
         "DateTime": "2019-12-22T20:54:35",
         "SystemID": "STATION",
         "eventTypeID": "B002",
         "TerminalID": "S",
         "FlNum": "NA",
         "_deepnote_index_column": 56
        },
        {
         "eventID": 58,
         "TagID": "4",
         "DateTime": "2019-12-22T20:54:40",
         "SystemID": "STATION",
         "eventTypeID": "B001",
         "TerminalID": "S",
         "FlNum": "NA",
         "_deepnote_index_column": 57
        },
        {
         "eventID": 61,
         "TagID": "2",
         "DateTime": "2019-12-22T20:56:30",
         "SystemID": "SORTER",
         "eventTypeID": "B002",
         "TerminalID": "B",
         "FlNum": "NA",
         "_deepnote_index_column": 60
        },
        {
         "eventID": 62,
         "TagID": "2",
         "DateTime": "2019-12-22T20:56:35",
         "SystemID": "SORTER",
         "eventTypeID": "B001",
         "TerminalID": "B",
         "FlNum": "NA",
         "_deepnote_index_column": 61
        },
        {
         "eventID": 65,
         "TagID": "4",
         "DateTime": "2019-12-22T20:56:40",
         "SystemID": "SORTER",
         "eventTypeID": "B002",
         "TerminalID": "D",
         "FlNum": "NA",
         "_deepnote_index_column": 64
        },
        {
         "eventID": 66,
         "TagID": "4",
         "DateTime": "2019-12-22T20:56:45",
         "SystemID": "SORTER",
         "eventTypeID": "B001",
         "TerminalID": "D",
         "FlNum": "NA",
         "_deepnote_index_column": 65
        },
        {
         "eventID": 67,
         "TagID": "5",
         "DateTime": "2019-12-22T20:59:25",
         "SystemID": "STATION",
         "eventTypeID": "B002",
         "TerminalID": "N",
         "FlNum": "NA",
         "_deepnote_index_column": 66
        },
        {
         "eventID": 68,
         "TagID": "5",
         "DateTime": "2019-12-22T20:59:30",
         "SystemID": "STATION",
         "eventTypeID": "B001",
         "TerminalID": "N",
         "FlNum": "NA",
         "_deepnote_index_column": 67
        },
        {
         "eventID": 69,
         "TagID": "2",
         "DateTime": "2019-12-22T21:00:35",
         "SystemID": "EBS",
         "eventTypeID": "B002",
         "TerminalID": "B",
         "FlNum": "NA",
         "_deepnote_index_column": 68
        },
        {
         "eventID": 70,
         "TagID": "2",
         "DateTime": "2019-12-22T21:00:40",
         "SystemID": "EBS",
         "eventTypeID": "B001",
         "TerminalID": "B",
         "FlNum": "NA",
         "_deepnote_index_column": 69
        },
        {
         "eventID": 71,
         "TagID": "4",
         "DateTime": "2019-12-22T21:00:45",
         "SystemID": "LBS",
         "eventTypeID": "B002",
         "TerminalID": "D",
         "FlNum": "NA",
         "_deepnote_index_column": 70
        },
        {
         "eventID": 72,
         "TagID": "4",
         "DateTime": "2019-12-22T21:00:50",
         "SystemID": "LBS",
         "eventTypeID": "B001",
         "TerminalID": "D",
         "FlNum": "NA",
         "_deepnote_index_column": 71
        },
        {
         "eventID": 75,
         "TagID": "5",
         "DateTime": "2019-12-22T21:01:30",
         "SystemID": "SORTER",
         "eventTypeID": "B002",
         "TerminalID": "B",
         "FlNum": "NA",
         "_deepnote_index_column": 74
        },
        {
         "eventID": 76,
         "TagID": "5",
         "DateTime": "2019-12-22T21:01:35",
         "SystemID": "SORTER",
         "eventTypeID": "B001",
         "TerminalID": "B",
         "FlNum": "NA",
         "_deepnote_index_column": 75
        },
        {
         "eventID": 77,
         "TagID": "5",
         "DateTime": "2019-12-22T21:05:35",
         "SystemID": "LBS",
         "eventTypeID": "B002",
         "TerminalID": "B",
         "FlNum": "NA",
         "_deepnote_index_column": 76
        },
        {
         "eventID": 78,
         "TagID": "5",
         "DateTime": "2019-12-22T21:05:40",
         "SystemID": "LBS",
         "eventTypeID": "B001",
         "TerminalID": "B",
         "FlNum": "NA",
         "_deepnote_index_column": 77
        },
        {
         "eventID": 79,
         "TagID": "NA",
         "DateTime": "2019-12-22T21:15:00",
         "SystemID": "NA",
         "eventTypeID": "A001",
         "TerminalID": "B",
         "FlNum": "SU1249",
         "_deepnote_index_column": 78
        },
        {
         "eventID": 80,
         "TagID": "NA",
         "DateTime": "2019-12-22T21:15:00",
         "SystemID": "NA",
         "eventTypeID": "A001",
         "TerminalID": "D",
         "FlNum": "SU521",
         "_deepnote_index_column": 79
        },
        {
         "eventID": 81,
         "TagID": "NA",
         "DateTime": "2019-12-22T21:15:00",
         "SystemID": "NA",
         "eventTypeID": "A001",
         "TerminalID": "D",
         "FlNum": "SU2143",
         "_deepnote_index_column": 80
        },
        {
         "eventID": 82,
         "TagID": "NA",
         "DateTime": "2019-12-22T21:15:00",
         "SystemID": "NA",
         "eventTypeID": "A001",
         "TerminalID": "B",
         "FlNum": "SU1259",
         "_deepnote_index_column": 81
        },
        {
         "eventID": 83,
         "TagID": "NA",
         "DateTime": "2019-12-22T21:15:00",
         "SystemID": "NA",
         "eventTypeID": "A001",
         "TerminalID": "D",
         "FlNum": "SU2015",
         "_deepnote_index_column": 82
        },
        {
         "eventID": 84,
         "TagID": "NA",
         "DateTime": "2019-12-22T21:15:00",
         "SystemID": "NA",
         "eventTypeID": "A001",
         "TerminalID": "B",
         "FlNum": "SU1445",
         "_deepnote_index_column": 83
        },
        {
         "eventID": 85,
         "TagID": "NA",
         "DateTime": "2019-12-22T21:15:00",
         "SystemID": "NA",
         "eventTypeID": "A001",
         "TerminalID": "B",
         "FlNum": "SU1175",
         "_deepnote_index_column": 84
        },
        {
         "eventID": 86,
         "TagID": "NA",
         "DateTime": "2019-12-22T21:15:00",
         "SystemID": "NA",
         "eventTypeID": "A001",
         "TerminalID": "B",
         "FlNum": "SU1331",
         "_deepnote_index_column": 85
        },
        {
         "eventID": 87,
         "TagID": "NA",
         "DateTime": "2019-12-22T21:15:00",
         "SystemID": "NA",
         "eventTypeID": "A001",
         "TerminalID": "E",
         "FlNum": "SU2357",
         "_deepnote_index_column": 86
        }
       ],
       "rows_bottom": [
        {
         "eventID": 2547,
         "TagID": "29",
         "DateTime": "2019-12-30T21:23:50",
         "SystemID": "NA",
         "eventTypeID": "B003",
         "TerminalID": "B",
         "FlNum": "SU1052",
         "_deepnote_index_column": 2546
        },
        {
         "eventID": 2548,
         "TagID": "29",
         "DateTime": "2019-12-30T21:23:50",
         "SystemID": "NA",
         "eventTypeID": "B004",
         "TerminalID": "B",
         "FlNum": "SU1052",
         "_deepnote_index_column": 2547
        },
        {
         "eventID": 2549,
         "TagID": "32",
         "DateTime": "2019-12-30T21:23:55",
         "SystemID": "NA",
         "eventTypeID": "B003",
         "TerminalID": "B",
         "FlNum": "FV6167",
         "_deepnote_index_column": 2548
        },
        {
         "eventID": 2550,
         "TagID": "32",
         "DateTime": "2019-12-30T21:23:55",
         "SystemID": "NA",
         "eventTypeID": "B004",
         "TerminalID": "B",
         "FlNum": "FV6167",
         "_deepnote_index_column": 2549
        },
        {
         "eventID": 2551,
         "TagID": "38",
         "DateTime": "2019-12-30T21:24:00",
         "SystemID": "NA",
         "eventTypeID": "B003",
         "TerminalID": "B",
         "FlNum": "SU1852",
         "_deepnote_index_column": 2550
        },
        {
         "eventID": 2552,
         "TagID": "38",
         "DateTime": "2019-12-30T21:24:00",
         "SystemID": "NA",
         "eventTypeID": "B004",
         "TerminalID": "B",
         "FlNum": "SU1852",
         "_deepnote_index_column": 2551
        },
        {
         "eventID": 2553,
         "TagID": "7",
         "DateTime": "2019-12-30T21:24:05",
         "SystemID": "NA",
         "eventTypeID": "B003",
         "TerminalID": "B",
         "FlNum": "SU1852",
         "_deepnote_index_column": 2552
        },
        {
         "eventID": 2554,
         "TagID": "7",
         "DateTime": "2019-12-30T21:24:05",
         "SystemID": "NA",
         "eventTypeID": "B004",
         "TerminalID": "B",
         "FlNum": "SU1852",
         "_deepnote_index_column": 2553
        },
        {
         "eventID": 2555,
         "TagID": "45",
         "DateTime": "2019-12-30T21:24:10",
         "SystemID": "NA",
         "eventTypeID": "B003",
         "TerminalID": "B",
         "FlNum": "SU1852",
         "_deepnote_index_column": 2554
        },
        {
         "eventID": 2556,
         "TagID": "45",
         "DateTime": "2019-12-30T21:24:10",
         "SystemID": "NA",
         "eventTypeID": "B004",
         "TerminalID": "B",
         "FlNum": "SU1852",
         "_deepnote_index_column": 2555
        },
        {
         "eventID": 2557,
         "TagID": "36",
         "DateTime": "2019-12-30T21:24:15",
         "SystemID": "NA",
         "eventTypeID": "B003",
         "TerminalID": "B",
         "FlNum": "SU1838",
         "_deepnote_index_column": 2556
        },
        {
         "eventID": 2558,
         "TagID": "36",
         "DateTime": "2019-12-30T21:24:15",
         "SystemID": "NA",
         "eventTypeID": "B004",
         "TerminalID": "B",
         "FlNum": "SU1838",
         "_deepnote_index_column": 2557
        },
        {
         "eventID": 2559,
         "TagID": "35",
         "DateTime": "2019-12-30T21:24:20",
         "SystemID": "NA",
         "eventTypeID": "B003",
         "TerminalID": "B",
         "FlNum": "SU1536",
         "_deepnote_index_column": 2558
        },
        {
         "eventID": 2560,
         "TagID": "35",
         "DateTime": "2019-12-30T21:24:20",
         "SystemID": "NA",
         "eventTypeID": "B004",
         "TerminalID": "B",
         "FlNum": "SU1536",
         "_deepnote_index_column": 2559
        },
        {
         "eventID": 2561,
         "TagID": "48",
         "DateTime": "2019-12-30T21:24:25",
         "SystemID": "NA",
         "eventTypeID": "B003",
         "TerminalID": "B",
         "FlNum": "SU1428",
         "_deepnote_index_column": 2560
        },
        {
         "eventID": 2562,
         "TagID": "48",
         "DateTime": "2019-12-30T21:24:25",
         "SystemID": "NA",
         "eventTypeID": "B004",
         "TerminalID": "B",
         "FlNum": "SU1428",
         "_deepnote_index_column": 2561
        },
        {
         "eventID": 2563,
         "TagID": "49",
         "DateTime": "2019-12-30T21:24:30",
         "SystemID": "NA",
         "eventTypeID": "B003",
         "TerminalID": "B",
         "FlNum": "SU1428",
         "_deepnote_index_column": 2562
        },
        {
         "eventID": 2564,
         "TagID": "49",
         "DateTime": "2019-12-30T21:24:30",
         "SystemID": "NA",
         "eventTypeID": "B004",
         "TerminalID": "B",
         "FlNum": "SU1428",
         "_deepnote_index_column": 2563
        },
        {
         "eventID": 2565,
         "TagID": "50",
         "DateTime": "2019-12-30T21:24:35",
         "SystemID": "NA",
         "eventTypeID": "B003",
         "TerminalID": "B",
         "FlNum": "SU1306",
         "_deepnote_index_column": 2564
        },
        {
         "eventID": 2566,
         "TagID": "50",
         "DateTime": "2019-12-30T21:24:35",
         "SystemID": "NA",
         "eventTypeID": "B004",
         "TerminalID": "B",
         "FlNum": "SU1306",
         "_deepnote_index_column": 2565
        },
        {
         "eventID": 2567,
         "TagID": "51",
         "DateTime": "2019-12-30T21:24:40",
         "SystemID": "NA",
         "eventTypeID": "B003",
         "TerminalID": "B",
         "FlNum": "SU1372",
         "_deepnote_index_column": 2566
        },
        {
         "eventID": 2568,
         "TagID": "51",
         "DateTime": "2019-12-30T21:24:40",
         "SystemID": "NA",
         "eventTypeID": "B004",
         "TerminalID": "B",
         "FlNum": "SU1372",
         "_deepnote_index_column": 2567
        },
        {
         "eventID": 2569,
         "TagID": "52",
         "DateTime": "2019-12-30T21:24:45",
         "SystemID": "NA",
         "eventTypeID": "B003",
         "TerminalID": "B",
         "FlNum": "SU1638",
         "_deepnote_index_column": 2568
        },
        {
         "eventID": 2570,
         "TagID": "52",
         "DateTime": "2019-12-30T21:24:45",
         "SystemID": "NA",
         "eventTypeID": "B004",
         "TerminalID": "B",
         "FlNum": "SU1638",
         "_deepnote_index_column": 2569
        },
        {
         "eventID": 2571,
         "TagID": "53",
         "DateTime": "2019-12-30T21:24:50",
         "SystemID": "NA",
         "eventTypeID": "B003",
         "TerminalID": "B",
         "FlNum": "SU1112",
         "_deepnote_index_column": 2570
        },
        {
         "eventID": 2572,
         "TagID": "53",
         "DateTime": "2019-12-30T21:24:50",
         "SystemID": "NA",
         "eventTypeID": "B004",
         "TerminalID": "B",
         "FlNum": "SU1112",
         "_deepnote_index_column": 2571
        },
        {
         "eventID": 2573,
         "TagID": "54",
         "DateTime": "2019-12-30T21:24:55",
         "SystemID": "NA",
         "eventTypeID": "B003",
         "TerminalID": "B",
         "FlNum": "SU1424",
         "_deepnote_index_column": 2572
        },
        {
         "eventID": 2574,
         "TagID": "54",
         "DateTime": "2019-12-30T21:24:55",
         "SystemID": "NA",
         "eventTypeID": "B004",
         "TerminalID": "B",
         "FlNum": "SU1424",
         "_deepnote_index_column": 2573
        },
        {
         "eventID": 2575,
         "TagID": "55",
         "DateTime": "2019-12-30T21:25:00",
         "SystemID": "NA",
         "eventTypeID": "B003",
         "TerminalID": "B",
         "FlNum": "SU1306",
         "_deepnote_index_column": 2574
        },
        {
         "eventID": 2576,
         "TagID": "55",
         "DateTime": "2019-12-30T21:25:00",
         "SystemID": "NA",
         "eventTypeID": "B004",
         "TerminalID": "B",
         "FlNum": "SU1306",
         "_deepnote_index_column": 2575
        },
        {
         "eventID": 2577,
         "TagID": "56",
         "DateTime": "2019-12-30T21:25:05",
         "SystemID": "NA",
         "eventTypeID": "B003",
         "TerminalID": "B",
         "FlNum": "SU1638",
         "_deepnote_index_column": 2576
        },
        {
         "eventID": 2578,
         "TagID": "56",
         "DateTime": "2019-12-30T21:25:05",
         "SystemID": "NA",
         "eventTypeID": "B004",
         "TerminalID": "B",
         "FlNum": "SU1638",
         "_deepnote_index_column": 2577
        },
        {
         "eventID": 2579,
         "TagID": "57",
         "DateTime": "2019-12-30T21:25:10",
         "SystemID": "NA",
         "eventTypeID": "B003",
         "TerminalID": "B",
         "FlNum": "SU1424",
         "_deepnote_index_column": 2578
        },
        {
         "eventID": 2580,
         "TagID": "57",
         "DateTime": "2019-12-30T21:25:10",
         "SystemID": "NA",
         "eventTypeID": "B004",
         "TerminalID": "B",
         "FlNum": "SU1424",
         "_deepnote_index_column": 2579
        },
        {
         "eventID": 2581,
         "TagID": "58",
         "DateTime": "2019-12-30T21:25:15",
         "SystemID": "NA",
         "eventTypeID": "B003",
         "TerminalID": "B",
         "FlNum": "SU1334",
         "_deepnote_index_column": 2580
        },
        {
         "eventID": 2582,
         "TagID": "58",
         "DateTime": "2019-12-30T21:25:15",
         "SystemID": "NA",
         "eventTypeID": "B004",
         "TerminalID": "B",
         "FlNum": "SU1334",
         "_deepnote_index_column": 2581
        },
        {
         "eventID": 2583,
         "TagID": "47",
         "DateTime": "2019-12-30T21:25:20",
         "SystemID": "NA",
         "eventTypeID": "B003",
         "TerminalID": "B",
         "FlNum": "SU1852",
         "_deepnote_index_column": 2582
        },
        {
         "eventID": 2584,
         "TagID": "47",
         "DateTime": "2019-12-30T21:25:20",
         "SystemID": "NA",
         "eventTypeID": "B004",
         "TerminalID": "B",
         "FlNum": "SU1852",
         "_deepnote_index_column": 2583
        },
        {
         "eventID": 2585,
         "TagID": "14",
         "DateTime": "2019-12-30T21:25:25",
         "SystemID": "NA",
         "eventTypeID": "B003",
         "TerminalID": "B",
         "FlNum": "SU1306",
         "_deepnote_index_column": 2584
        },
        {
         "eventID": 2586,
         "TagID": "14",
         "DateTime": "2019-12-30T21:25:25",
         "SystemID": "NA",
         "eventTypeID": "B004",
         "TerminalID": "B",
         "FlNum": "SU1306",
         "_deepnote_index_column": 2585
        },
        {
         "eventID": 2587,
         "TagID": "15",
         "DateTime": "2019-12-30T21:25:30",
         "SystemID": "NA",
         "eventTypeID": "B003",
         "TerminalID": "B",
         "FlNum": "SU1306",
         "_deepnote_index_column": 2586
        },
        {
         "eventID": 2588,
         "TagID": "15",
         "DateTime": "2019-12-30T21:25:30",
         "SystemID": "NA",
         "eventTypeID": "B004",
         "TerminalID": "B",
         "FlNum": "SU1306",
         "_deepnote_index_column": 2587
        },
        {
         "eventID": 2589,
         "TagID": "59",
         "DateTime": "2019-12-30T21:25:35",
         "SystemID": "NA",
         "eventTypeID": "B003",
         "TerminalID": "B",
         "FlNum": "SU1372",
         "_deepnote_index_column": 2588
        },
        {
         "eventID": 2590,
         "TagID": "59",
         "DateTime": "2019-12-30T21:25:35",
         "SystemID": "NA",
         "eventTypeID": "B004",
         "TerminalID": "B",
         "FlNum": "SU1372",
         "_deepnote_index_column": 2589
        },
        {
         "eventID": 2591,
         "TagID": "60",
         "DateTime": "2019-12-30T21:25:40",
         "SystemID": "NA",
         "eventTypeID": "B003",
         "TerminalID": "B",
         "FlNum": "SU1372",
         "_deepnote_index_column": 2590
        },
        {
         "eventID": 2592,
         "TagID": "60",
         "DateTime": "2019-12-30T21:25:40",
         "SystemID": "NA",
         "eventTypeID": "B004",
         "TerminalID": "B",
         "FlNum": "SU1372",
         "_deepnote_index_column": 2591
        },
        {
         "eventID": 2593,
         "TagID": "NA",
         "DateTime": "2019-12-30T23:15:00",
         "SystemID": "NA",
         "eventTypeID": "A002",
         "TerminalID": "B",
         "FlNum": "SU1108",
         "_deepnote_index_column": 2592
        },
        {
         "eventID": 2594,
         "TagID": "NA",
         "DateTime": "2019-12-30T23:15:00",
         "SystemID": "NA",
         "eventTypeID": "A002",
         "TerminalID": "B",
         "FlNum": "SU100",
         "_deepnote_index_column": 2593
        },
        {
         "eventID": 2595,
         "TagID": "NA",
         "DateTime": "2019-12-30T23:15:00",
         "SystemID": "NA",
         "eventTypeID": "A002",
         "TerminalID": "B",
         "FlNum": "SU2402",
         "_deepnote_index_column": 2594
        },
        {
         "eventID": 2596,
         "TagID": "NA",
         "DateTime": "2019-12-30T23:15:00",
         "SystemID": "NA",
         "eventTypeID": "A002",
         "TerminalID": "B",
         "FlNum": "SU1852",
         "_deepnote_index_column": 2595
        },
        {
         "eventID": 2597,
         "TagID": "NA",
         "DateTime": "2019-12-30T23:15:00",
         "SystemID": "NA",
         "eventTypeID": "A002",
         "TerminalID": "B",
         "FlNum": "SU1522",
         "_deepnote_index_column": 2596
        },
        {
         "eventID": 2598,
         "TagID": "NA",
         "DateTime": "2019-12-30T23:15:00",
         "SystemID": "NA",
         "eventTypeID": "A002",
         "TerminalID": "B",
         "FlNum": "SU1838",
         "_deepnote_index_column": 2597
        },
        {
         "eventID": 2599,
         "TagID": "NA",
         "DateTime": "2019-12-30T23:15:00",
         "SystemID": "NA",
         "eventTypeID": "A002",
         "TerminalID": "B",
         "FlNum": "SU1536",
         "_deepnote_index_column": 2598
        },
        {
         "eventID": 2600,
         "TagID": "NA",
         "DateTime": "2019-12-30T23:15:00",
         "SystemID": "NA",
         "eventTypeID": "A002",
         "TerminalID": "B",
         "FlNum": "SU1638",
         "_deepnote_index_column": 2599
        },
        {
         "eventID": 2601,
         "TagID": "NA",
         "DateTime": "2019-12-30T23:15:00",
         "SystemID": "NA",
         "eventTypeID": "A002",
         "TerminalID": "B",
         "FlNum": "SU1306",
         "_deepnote_index_column": 2600
        },
        {
         "eventID": 2602,
         "TagID": "NA",
         "DateTime": "2019-12-30T23:15:00",
         "SystemID": "NA",
         "eventTypeID": "A002",
         "TerminalID": "B",
         "FlNum": "SU1428",
         "_deepnote_index_column": 2601
        },
        {
         "eventID": 2603,
         "TagID": "NA",
         "DateTime": "2019-12-30T23:15:00",
         "SystemID": "NA",
         "eventTypeID": "A002",
         "TerminalID": "B",
         "FlNum": "SU1382",
         "_deepnote_index_column": 2602
        },
        {
         "eventID": 2604,
         "TagID": "NA",
         "DateTime": "2019-12-30T23:15:00",
         "SystemID": "NA",
         "eventTypeID": "A002",
         "TerminalID": "B",
         "FlNum": "SU1372",
         "_deepnote_index_column": 2603
        },
        {
         "eventID": 2605,
         "TagID": "NA",
         "DateTime": "2019-12-30T23:15:00",
         "SystemID": "NA",
         "eventTypeID": "A002",
         "TerminalID": "B",
         "FlNum": "SU1112",
         "_deepnote_index_column": 2604
        },
        {
         "eventID": 2606,
         "TagID": "NA",
         "DateTime": "2019-12-30T23:15:00",
         "SystemID": "NA",
         "eventTypeID": "A002",
         "TerminalID": "B",
         "FlNum": "SU1424",
         "_deepnote_index_column": 2605
        },
        {
         "eventID": 2607,
         "TagID": "NA",
         "DateTime": "2019-12-30T23:15:00",
         "SystemID": "NA",
         "eventTypeID": "A002",
         "TerminalID": "B",
         "FlNum": "SU1334",
         "_deepnote_index_column": 2606
        },
        {
         "eventID": 2608,
         "TagID": "NA",
         "DateTime": "2019-12-30T23:15:00",
         "SystemID": "NA",
         "eventTypeID": "A002",
         "TerminalID": "B",
         "FlNum": "SU1206",
         "_deepnote_index_column": 2607
        },
        {
         "eventID": 2609,
         "TagID": "NA",
         "DateTime": "2019-12-30T23:15:00",
         "SystemID": "NA",
         "eventTypeID": "A002",
         "TerminalID": "B",
         "FlNum": "FV6167",
         "_deepnote_index_column": 2608
        },
        {
         "eventID": 2610,
         "TagID": "NA",
         "DateTime": "2019-12-30T23:15:00",
         "SystemID": "NA",
         "eventTypeID": "A002",
         "TerminalID": "B",
         "FlNum": "SU1106",
         "_deepnote_index_column": 2609
        },
        {
         "eventID": 2611,
         "TagID": "NA",
         "DateTime": "2019-12-30T23:15:00",
         "SystemID": "NA",
         "eventTypeID": "A002",
         "TerminalID": "B",
         "FlNum": "SU1874",
         "_deepnote_index_column": 2610
        },
        {
         "eventID": 2612,
         "TagID": "NA",
         "DateTime": "2019-12-30T23:15:00",
         "SystemID": "NA",
         "eventTypeID": "A002",
         "TerminalID": "B",
         "FlNum": "SU2684",
         "_deepnote_index_column": 2611
        },
        {
         "eventID": 2613,
         "TagID": "NA",
         "DateTime": "2019-12-30T23:15:00",
         "SystemID": "NA",
         "eventTypeID": "A002",
         "TerminalID": "B",
         "FlNum": "SU2454",
         "_deepnote_index_column": 2612
        },
        {
         "eventID": 2614,
         "TagID": "NA",
         "DateTime": "2019-12-30T23:15:00",
         "SystemID": "NA",
         "eventTypeID": "A002",
         "TerminalID": "B",
         "FlNum": "SU2658",
         "_deepnote_index_column": 2613
        },
        {
         "eventID": 2615,
         "TagID": "NA",
         "DateTime": "2019-12-30T23:15:00",
         "SystemID": "NA",
         "eventTypeID": "A002",
         "TerminalID": "B",
         "FlNum": "SU1234",
         "_deepnote_index_column": 2614
        },
        {
         "eventID": 2616,
         "TagID": "NA",
         "DateTime": "2019-12-30T23:15:00",
         "SystemID": "NA",
         "eventTypeID": "A002",
         "TerminalID": "B",
         "FlNum": "SU1052",
         "_deepnote_index_column": 2615
        },
        {
         "eventID": 2617,
         "TagID": "NA",
         "DateTime": "2019-12-30T23:15:00",
         "SystemID": "NA",
         "eventTypeID": "A002",
         "TerminalID": "B",
         "FlNum": "SU2618",
         "_deepnote_index_column": 2616
        }
       ]
      },
      "text/plain": "      eventID TagID             DateTime SystemID eventTypeID TerminalID  \\\n0           1    NA  2019-12-22T20:40:00       NA        A001          B   \n1           2    NA  2019-12-22T20:40:00       NA        A001          E   \n2           3    NA  2019-12-22T20:40:00       NA        A001          B   \n3           4     1  2019-12-22T20:40:00     TRIN        B002          B   \n4           5     2  2019-12-22T20:40:00     TRIN        B002          E   \n...       ...   ...                  ...      ...         ...        ...   \n2612     2613    NA  2019-12-30T23:15:00       NA        A002          B   \n2613     2614    NA  2019-12-30T23:15:00       NA        A002          B   \n2614     2615    NA  2019-12-30T23:15:00       NA        A002          B   \n2615     2616    NA  2019-12-30T23:15:00       NA        A002          B   \n2616     2617    NA  2019-12-30T23:15:00       NA        A002          B   \n\n       FlNum  \n0     SU1625  \n1      LO677  \n2     SU1359  \n3         NA  \n4         NA  \n...      ...  \n2612  SU2454  \n2613  SU2658  \n2614  SU1234  \n2615  SU1052  \n2616  SU2618  \n\n[2517 rows x 7 columns]",
      "text/html": "<div>\n<style scoped>\n    .dataframe tbody tr th:only-of-type {\n        vertical-align: middle;\n    }\n\n    .dataframe tbody tr th {\n        vertical-align: top;\n    }\n\n    .dataframe thead th {\n        text-align: right;\n    }\n</style>\n<table border=\"1\" class=\"dataframe\">\n  <thead>\n    <tr style=\"text-align: right;\">\n      <th></th>\n      <th>eventID</th>\n      <th>TagID</th>\n      <th>DateTime</th>\n      <th>SystemID</th>\n      <th>eventTypeID</th>\n      <th>TerminalID</th>\n      <th>FlNum</th>\n    </tr>\n  </thead>\n  <tbody>\n    <tr>\n      <th>0</th>\n      <td>1</td>\n      <td>NA</td>\n      <td>2019-12-22T20:40:00</td>\n      <td>NA</td>\n      <td>A001</td>\n      <td>B</td>\n      <td>SU1625</td>\n    </tr>\n    <tr>\n      <th>1</th>\n      <td>2</td>\n      <td>NA</td>\n      <td>2019-12-22T20:40:00</td>\n      <td>NA</td>\n      <td>A001</td>\n      <td>E</td>\n      <td>LO677</td>\n    </tr>\n    <tr>\n      <th>2</th>\n      <td>3</td>\n      <td>NA</td>\n      <td>2019-12-22T20:40:00</td>\n      <td>NA</td>\n      <td>A001</td>\n      <td>B</td>\n      <td>SU1359</td>\n    </tr>\n    <tr>\n      <th>3</th>\n      <td>4</td>\n      <td>1</td>\n      <td>2019-12-22T20:40:00</td>\n      <td>TRIN</td>\n      <td>B002</td>\n      <td>B</td>\n      <td>NA</td>\n    </tr>\n    <tr>\n      <th>4</th>\n      <td>5</td>\n      <td>2</td>\n      <td>2019-12-22T20:40:00</td>\n      <td>TRIN</td>\n      <td>B002</td>\n      <td>E</td>\n      <td>NA</td>\n    </tr>\n    <tr>\n      <th>...</th>\n      <td>...</td>\n      <td>...</td>\n      <td>...</td>\n      <td>...</td>\n      <td>...</td>\n      <td>...</td>\n      <td>...</td>\n    </tr>\n    <tr>\n      <th>2612</th>\n      <td>2613</td>\n      <td>NA</td>\n      <td>2019-12-30T23:15:00</td>\n      <td>NA</td>\n      <td>A002</td>\n      <td>B</td>\n      <td>SU2454</td>\n    </tr>\n    <tr>\n      <th>2613</th>\n      <td>2614</td>\n      <td>NA</td>\n      <td>2019-12-30T23:15:00</td>\n      <td>NA</td>\n      <td>A002</td>\n      <td>B</td>\n      <td>SU2658</td>\n    </tr>\n    <tr>\n      <th>2614</th>\n      <td>2615</td>\n      <td>NA</td>\n      <td>2019-12-30T23:15:00</td>\n      <td>NA</td>\n      <td>A002</td>\n      <td>B</td>\n      <td>SU1234</td>\n    </tr>\n    <tr>\n      <th>2615</th>\n      <td>2616</td>\n      <td>NA</td>\n      <td>2019-12-30T23:15:00</td>\n      <td>NA</td>\n      <td>A002</td>\n      <td>B</td>\n      <td>SU1052</td>\n    </tr>\n    <tr>\n      <th>2616</th>\n      <td>2617</td>\n      <td>NA</td>\n      <td>2019-12-30T23:15:00</td>\n      <td>NA</td>\n      <td>A002</td>\n      <td>B</td>\n      <td>SU2618</td>\n    </tr>\n  </tbody>\n</table>\n<p>2517 rows × 7 columns</p>\n</div>"
     },
     "metadata": {}
    }
   ]
  },
  {
   "cell_type": "code",
   "metadata": {
    "tags": [],
    "deepnote_to_be_reexecuted": false,
    "source_hash": "ee354bf4",
    "execution_start": 1624936694593,
    "execution_millis": 52,
    "colab": {
     "base_uri": "https://localhost:8080/",
     "height": 421
    },
    "id": "DkbnRdDH2Jzy",
    "outputId": "f87c8b88-5047-4660-f9a5-02ac371265c8",
    "cell_id": "00038-6e9e52a8-f8dc-4d21-914b-72b6a4610f79",
    "deepnote_cell_type": "code"
   },
   "source": "# pd.read_csv(\"bench.csv\", sep=';').fillna('NA')\n",
   "execution_count": null,
   "outputs": [
    {
     "output_type": "execute_result",
     "execution_count": 35,
     "data": {
      "application/vnd.deepnote.dataframe.v2+json": {
       "row_count": 2517,
       "column_count": 7,
       "columns": [
        {
         "name": "eventID",
         "dtype": "int64",
         "stats": {
          "unique_count": 2517,
          "nan_count": 0,
          "min": "1",
          "max": "2617",
          "histogram": [
           {
            "bin_start": 1,
            "bin_end": 262.6,
            "count": 246
           },
           {
            "bin_start": 262.6,
            "bin_end": 524.2,
            "count": 220
           },
           {
            "bin_start": 524.2,
            "bin_end": 785.8000000000001,
            "count": 219
           },
           {
            "bin_start": 785.8000000000001,
            "bin_end": 1047.4,
            "count": 262
           },
           {
            "bin_start": 1047.4,
            "bin_end": 1309,
            "count": 261
           },
           {
            "bin_start": 1309,
            "bin_end": 1570.6000000000001,
            "count": 262
           },
           {
            "bin_start": 1570.6000000000001,
            "bin_end": 1832.2000000000003,
            "count": 262
           },
           {
            "bin_start": 1832.2000000000003,
            "bin_end": 2093.8,
            "count": 261
           },
           {
            "bin_start": 2093.8,
            "bin_end": 2355.4,
            "count": 262
           },
           {
            "bin_start": 2355.4,
            "bin_end": 2617,
            "count": 262
           }
          ]
         }
        },
        {
         "name": "TagID",
         "dtype": "object",
         "stats": {
          "unique_count": 61,
          "nan_count": 0,
          "categories": [
           {
            "name": "50.0",
            "count": 56
           },
           {
            "name": "60.0",
            "count": 56
           },
           {
            "name": "59 others",
            "count": 2405
           }
          ]
         }
        },
        {
         "name": "DateTime",
         "dtype": "object",
         "stats": {
          "unique_count": 1158,
          "nan_count": 0,
          "categories": [
           {
            "name": "2019-12-22T21:15:00",
            "count": 67
           },
           {
            "name": "2019-12-23T21:15:00",
            "count": 56
           },
           {
            "name": "1156 others",
            "count": 2394
           }
          ]
         }
        },
        {
         "name": "SystemID",
         "dtype": "object",
         "stats": {
          "unique_count": 8,
          "nan_count": 0,
          "categories": [
           {
            "name": "SORTER",
            "count": 1076
           },
           {
            "name": "LBS",
            "count": 888
           },
           {
            "name": "6 others",
            "count": 553
           }
          ]
         }
        },
        {
         "name": "eventTypeID",
         "dtype": "object",
         "stats": {
          "unique_count": 8,
          "nan_count": 0,
          "categories": [
           {
            "name": "B002",
            "count": 1168
           },
           {
            "name": "B001",
            "count": 1168
           },
           {
            "name": "6 others",
            "count": 181
           }
          ]
         }
        },
        {
         "name": "TerminalID",
         "dtype": "object",
         "stats": {
          "unique_count": 8,
          "nan_count": 0,
          "categories": [
           {
            "name": "B",
            "count": 2251
           },
           {
            "name": "D",
            "count": 94
           },
           {
            "name": "6 others",
            "count": 172
           }
          ]
         }
        },
        {
         "name": "FlNum",
         "dtype": "object",
         "stats": {
          "unique_count": 44,
          "nan_count": 0,
          "categories": [
           {
            "name": "NA",
            "count": 2352
           },
           {
            "name": "SU1306",
            "count": 14
           },
           {
            "name": "42 others",
            "count": 151
           }
          ]
         }
        },
        {
         "name": "_deepnote_index_column",
         "dtype": "int64"
        }
       ],
       "rows_top": [
        {
         "eventID": 1,
         "TagID": "NA",
         "DateTime": "2019-12-22T20:40:00",
         "SystemID": "NA",
         "eventTypeID": "A001",
         "TerminalID": "B",
         "FlNum": "SU1625",
         "_deepnote_index_column": 0
        },
        {
         "eventID": 2,
         "TagID": "NA",
         "DateTime": "2019-12-22T20:40:00",
         "SystemID": "NA",
         "eventTypeID": "A001",
         "TerminalID": "E",
         "FlNum": "LO677",
         "_deepnote_index_column": 1
        },
        {
         "eventID": 3,
         "TagID": "NA",
         "DateTime": "2019-12-22T20:40:00",
         "SystemID": "NA",
         "eventTypeID": "A001",
         "TerminalID": "B",
         "FlNum": "SU1359",
         "_deepnote_index_column": 2
        },
        {
         "eventID": 4,
         "TagID": "1.0",
         "DateTime": "2019-12-22T20:40:00",
         "SystemID": "TRIN",
         "eventTypeID": "B002",
         "TerminalID": "B",
         "FlNum": "NA",
         "_deepnote_index_column": 3
        },
        {
         "eventID": 5,
         "TagID": "2.0",
         "DateTime": "2019-12-22T20:40:00",
         "SystemID": "TRIN",
         "eventTypeID": "B002",
         "TerminalID": "E",
         "FlNum": "NA",
         "_deepnote_index_column": 4
        },
        {
         "eventID": 6,
         "TagID": "3.0",
         "DateTime": "2019-12-22T20:40:00",
         "SystemID": "TRIN",
         "eventTypeID": "B002",
         "TerminalID": "B",
         "FlNum": "NA",
         "_deepnote_index_column": 5
        },
        {
         "eventID": 7,
         "TagID": "4.0",
         "DateTime": "2019-12-22T20:40:00",
         "SystemID": "TRIN",
         "eventTypeID": "B002",
         "TerminalID": "B",
         "FlNum": "NA",
         "_deepnote_index_column": 6
        },
        {
         "eventID": 8,
         "TagID": "1.0",
         "DateTime": "2019-12-22T20:40:05",
         "SystemID": "TRIN",
         "eventTypeID": "B001",
         "TerminalID": "B",
         "FlNum": "NA",
         "_deepnote_index_column": 7
        },
        {
         "eventID": 9,
         "TagID": "2.0",
         "DateTime": "2019-12-22T20:40:05",
         "SystemID": "TRIN",
         "eventTypeID": "B001",
         "TerminalID": "E",
         "FlNum": "NA",
         "_deepnote_index_column": 8
        },
        {
         "eventID": 10,
         "TagID": "3.0",
         "DateTime": "2019-12-22T20:40:10",
         "SystemID": "TRIN",
         "eventTypeID": "B001",
         "TerminalID": "B",
         "FlNum": "NA",
         "_deepnote_index_column": 9
        },
        {
         "eventID": 11,
         "TagID": "4.0",
         "DateTime": "2019-12-22T20:40:15",
         "SystemID": "TRIN",
         "eventTypeID": "B001",
         "TerminalID": "B",
         "FlNum": "NA",
         "_deepnote_index_column": 10
        },
        {
         "eventID": 12,
         "TagID": "1.0",
         "DateTime": "2019-12-22T20:42:05",
         "SystemID": "SORTER",
         "eventTypeID": "B002",
         "TerminalID": "B",
         "FlNum": "NA",
         "_deepnote_index_column": 11
        },
        {
         "eventID": 13,
         "TagID": "2.0",
         "DateTime": "2019-12-22T20:42:05",
         "SystemID": "SORTER",
         "eventTypeID": "B002",
         "TerminalID": "E",
         "FlNum": "NA",
         "_deepnote_index_column": 12
        },
        {
         "eventID": 14,
         "TagID": "1.0",
         "DateTime": "2019-12-22T20:42:10",
         "SystemID": "SORTER",
         "eventTypeID": "B001",
         "TerminalID": "B",
         "FlNum": "NA",
         "_deepnote_index_column": 13
        },
        {
         "eventID": 15,
         "TagID": "2.0",
         "DateTime": "2019-12-22T20:42:10",
         "SystemID": "SORTER",
         "eventTypeID": "B001",
         "TerminalID": "E",
         "FlNum": "NA",
         "_deepnote_index_column": 14
        },
        {
         "eventID": 16,
         "TagID": "3.0",
         "DateTime": "2019-12-22T20:42:10",
         "SystemID": "SORTER",
         "eventTypeID": "B002",
         "TerminalID": "B",
         "FlNum": "NA",
         "_deepnote_index_column": 15
        },
        {
         "eventID": 17,
         "TagID": "3.0",
         "DateTime": "2019-12-22T20:42:15",
         "SystemID": "SORTER",
         "eventTypeID": "B001",
         "TerminalID": "B",
         "FlNum": "NA",
         "_deepnote_index_column": 16
        },
        {
         "eventID": 18,
         "TagID": "4.0",
         "DateTime": "2019-12-22T20:42:15",
         "SystemID": "SORTER",
         "eventTypeID": "B002",
         "TerminalID": "B",
         "FlNum": "NA",
         "_deepnote_index_column": 17
        },
        {
         "eventID": 19,
         "TagID": "4.0",
         "DateTime": "2019-12-22T20:42:20",
         "SystemID": "SORTER",
         "eventTypeID": "B001",
         "TerminalID": "B",
         "FlNum": "NA",
         "_deepnote_index_column": 18
        },
        {
         "eventID": 20,
         "TagID": "NA",
         "DateTime": "2019-12-22T20:45:00",
         "SystemID": "NA",
         "eventTypeID": "A001",
         "TerminalID": "E",
         "FlNum": "SU2357",
         "_deepnote_index_column": 19
        },
        {
         "eventID": 21,
         "TagID": "5.0",
         "DateTime": "2019-12-22T20:45:00",
         "SystemID": "TRIN",
         "eventTypeID": "B002",
         "TerminalID": "E",
         "FlNum": "NA",
         "_deepnote_index_column": 20
        },
        {
         "eventID": 22,
         "TagID": "5.0",
         "DateTime": "2019-12-22T20:45:05",
         "SystemID": "TRIN",
         "eventTypeID": "B001",
         "TerminalID": "E",
         "FlNum": "NA",
         "_deepnote_index_column": 21
        },
        {
         "eventID": 25,
         "TagID": "1.0",
         "DateTime": "2019-12-22T20:46:10",
         "SystemID": "STATION",
         "eventTypeID": "B002",
         "TerminalID": "N",
         "FlNum": "NA",
         "_deepnote_index_column": 22
        },
        {
         "eventID": 28,
         "TagID": "2.0",
         "DateTime": "2019-12-22T20:46:10",
         "SystemID": "STATION",
         "eventTypeID": "B002",
         "TerminalID": "S",
         "FlNum": "NA",
         "_deepnote_index_column": 23
        },
        {
         "eventID": 29,
         "TagID": "1.0",
         "DateTime": "2019-12-22T20:46:15",
         "SystemID": "STATION",
         "eventTypeID": "B001",
         "TerminalID": "N",
         "FlNum": "NA",
         "_deepnote_index_column": 24
        },
        {
         "eventID": 30,
         "TagID": "2.0",
         "DateTime": "2019-12-22T20:46:15",
         "SystemID": "STATION",
         "eventTypeID": "B001",
         "TerminalID": "S",
         "FlNum": "NA",
         "_deepnote_index_column": 25
        },
        {
         "eventID": 31,
         "TagID": "3.0",
         "DateTime": "2019-12-22T20:46:15",
         "SystemID": "LBS",
         "eventTypeID": "B002",
         "TerminalID": "B",
         "FlNum": "NA",
         "_deepnote_index_column": 26
        },
        {
         "eventID": 32,
         "TagID": "3.0",
         "DateTime": "2019-12-22T20:46:20",
         "SystemID": "LBS",
         "eventTypeID": "B001",
         "TerminalID": "B",
         "FlNum": "NA",
         "_deepnote_index_column": 27
        },
        {
         "eventID": 35,
         "TagID": "4.0",
         "DateTime": "2019-12-22T20:46:20",
         "SystemID": "STATION",
         "eventTypeID": "B002",
         "TerminalID": "N",
         "FlNum": "NA",
         "_deepnote_index_column": 28
        },
        {
         "eventID": 36,
         "TagID": "4.0",
         "DateTime": "2019-12-22T20:46:25",
         "SystemID": "STATION",
         "eventTypeID": "B001",
         "TerminalID": "N",
         "FlNum": "NA",
         "_deepnote_index_column": 29
        },
        {
         "eventID": 37,
         "TagID": "5.0",
         "DateTime": "2019-12-22T20:47:05",
         "SystemID": "SORTER",
         "eventTypeID": "B002",
         "TerminalID": "E",
         "FlNum": "NA",
         "_deepnote_index_column": 30
        },
        {
         "eventID": 38,
         "TagID": "5.0",
         "DateTime": "2019-12-22T20:47:10",
         "SystemID": "SORTER",
         "eventTypeID": "B001",
         "TerminalID": "E",
         "FlNum": "NA",
         "_deepnote_index_column": 31
        },
        {
         "eventID": 41,
         "TagID": "1.0",
         "DateTime": "2019-12-22T20:48:15",
         "SystemID": "SORTER",
         "eventTypeID": "B002",
         "TerminalID": "C",
         "FlNum": "NA",
         "_deepnote_index_column": 32
        },
        {
         "eventID": 42,
         "TagID": "2.0",
         "DateTime": "2019-12-22T20:48:15",
         "SystemID": "CTT",
         "eventTypeID": "B002",
         "TerminalID": "S-N",
         "FlNum": "NA",
         "_deepnote_index_column": 33
        },
        {
         "eventID": 43,
         "TagID": "1.0",
         "DateTime": "2019-12-22T20:48:20",
         "SystemID": "SORTER",
         "eventTypeID": "B001",
         "TerminalID": "C",
         "FlNum": "NA",
         "_deepnote_index_column": 34
        },
        {
         "eventID": 44,
         "TagID": "2.0",
         "DateTime": "2019-12-22T20:48:25",
         "SystemID": "CTT",
         "eventTypeID": "B001",
         "TerminalID": "S-N",
         "FlNum": "NA",
         "_deepnote_index_column": 35
        },
        {
         "eventID": 45,
         "TagID": "4.0",
         "DateTime": "2019-12-22T20:48:25",
         "SystemID": "CTT",
         "eventTypeID": "B002",
         "TerminalID": "N-S",
         "FlNum": "NA",
         "_deepnote_index_column": 36
        },
        {
         "eventID": 46,
         "TagID": "4.0",
         "DateTime": "2019-12-22T20:48:35",
         "SystemID": "CTT",
         "eventTypeID": "B001",
         "TerminalID": "N-S",
         "FlNum": "NA",
         "_deepnote_index_column": 37
        },
        {
         "eventID": 49,
         "TagID": "5.0",
         "DateTime": "2019-12-22T20:51:10",
         "SystemID": "STATION",
         "eventTypeID": "B002",
         "TerminalID": "S",
         "FlNum": "NA",
         "_deepnote_index_column": 38
        },
        {
         "eventID": 50,
         "TagID": "5.0",
         "DateTime": "2019-12-22T20:51:15",
         "SystemID": "STATION",
         "eventTypeID": "B001",
         "TerminalID": "S",
         "FlNum": "NA",
         "_deepnote_index_column": 39
        },
        {
         "eventID": 51,
         "TagID": "1.0",
         "DateTime": "2019-12-22T20:52:20",
         "SystemID": "LBS",
         "eventTypeID": "B002",
         "TerminalID": "C",
         "FlNum": "NA",
         "_deepnote_index_column": 40
        },
        {
         "eventID": 52,
         "TagID": "1.0",
         "DateTime": "2019-12-22T20:52:25",
         "SystemID": "LBS",
         "eventTypeID": "B001",
         "TerminalID": "C",
         "FlNum": "NA",
         "_deepnote_index_column": 41
        },
        {
         "eventID": 53,
         "TagID": "5.0",
         "DateTime": "2019-12-22T20:53:15",
         "SystemID": "CTT",
         "eventTypeID": "B002",
         "TerminalID": "S-N",
         "FlNum": "NA",
         "_deepnote_index_column": 42
        },
        {
         "eventID": 54,
         "TagID": "5.0",
         "DateTime": "2019-12-22T20:53:25",
         "SystemID": "CTT",
         "eventTypeID": "B001",
         "TerminalID": "S-N",
         "FlNum": "NA",
         "_deepnote_index_column": 43
        },
        {
         "eventID": 55,
         "TagID": "2.0",
         "DateTime": "2019-12-22T20:54:25",
         "SystemID": "STATION",
         "eventTypeID": "B002",
         "TerminalID": "N",
         "FlNum": "NA",
         "_deepnote_index_column": 44
        },
        {
         "eventID": 56,
         "TagID": "2.0",
         "DateTime": "2019-12-22T20:54:30",
         "SystemID": "STATION",
         "eventTypeID": "B001",
         "TerminalID": "N",
         "FlNum": "NA",
         "_deepnote_index_column": 45
        },
        {
         "eventID": 57,
         "TagID": "4.0",
         "DateTime": "2019-12-22T20:54:35",
         "SystemID": "STATION",
         "eventTypeID": "B002",
         "TerminalID": "S",
         "FlNum": "NA",
         "_deepnote_index_column": 46
        },
        {
         "eventID": 58,
         "TagID": "4.0",
         "DateTime": "2019-12-22T20:54:40",
         "SystemID": "STATION",
         "eventTypeID": "B001",
         "TerminalID": "S",
         "FlNum": "NA",
         "_deepnote_index_column": 47
        },
        {
         "eventID": 61,
         "TagID": "2.0",
         "DateTime": "2019-12-22T20:56:30",
         "SystemID": "SORTER",
         "eventTypeID": "B002",
         "TerminalID": "B",
         "FlNum": "NA",
         "_deepnote_index_column": 48
        },
        {
         "eventID": 62,
         "TagID": "2.0",
         "DateTime": "2019-12-22T20:56:35",
         "SystemID": "SORTER",
         "eventTypeID": "B001",
         "TerminalID": "B",
         "FlNum": "NA",
         "_deepnote_index_column": 49
        },
        {
         "eventID": 65,
         "TagID": "4.0",
         "DateTime": "2019-12-22T20:56:40",
         "SystemID": "SORTER",
         "eventTypeID": "B002",
         "TerminalID": "D",
         "FlNum": "NA",
         "_deepnote_index_column": 50
        },
        {
         "eventID": 66,
         "TagID": "4.0",
         "DateTime": "2019-12-22T20:56:45",
         "SystemID": "SORTER",
         "eventTypeID": "B001",
         "TerminalID": "D",
         "FlNum": "NA",
         "_deepnote_index_column": 51
        },
        {
         "eventID": 67,
         "TagID": "5.0",
         "DateTime": "2019-12-22T20:59:25",
         "SystemID": "STATION",
         "eventTypeID": "B002",
         "TerminalID": "N",
         "FlNum": "NA",
         "_deepnote_index_column": 52
        },
        {
         "eventID": 68,
         "TagID": "5.0",
         "DateTime": "2019-12-22T20:59:30",
         "SystemID": "STATION",
         "eventTypeID": "B001",
         "TerminalID": "N",
         "FlNum": "NA",
         "_deepnote_index_column": 53
        },
        {
         "eventID": 69,
         "TagID": "2.0",
         "DateTime": "2019-12-22T21:00:35",
         "SystemID": "EBS",
         "eventTypeID": "B002",
         "TerminalID": "B",
         "FlNum": "NA",
         "_deepnote_index_column": 54
        },
        {
         "eventID": 70,
         "TagID": "2.0",
         "DateTime": "2019-12-22T21:00:40",
         "SystemID": "EBS",
         "eventTypeID": "B001",
         "TerminalID": "B",
         "FlNum": "NA",
         "_deepnote_index_column": 55
        },
        {
         "eventID": 71,
         "TagID": "4.0",
         "DateTime": "2019-12-22T21:00:45",
         "SystemID": "LBS",
         "eventTypeID": "B002",
         "TerminalID": "D",
         "FlNum": "NA",
         "_deepnote_index_column": 56
        },
        {
         "eventID": 72,
         "TagID": "4.0",
         "DateTime": "2019-12-22T21:00:50",
         "SystemID": "LBS",
         "eventTypeID": "B001",
         "TerminalID": "D",
         "FlNum": "NA",
         "_deepnote_index_column": 57
        },
        {
         "eventID": 75,
         "TagID": "5.0",
         "DateTime": "2019-12-22T21:01:30",
         "SystemID": "SORTER",
         "eventTypeID": "B002",
         "TerminalID": "B",
         "FlNum": "NA",
         "_deepnote_index_column": 58
        },
        {
         "eventID": 76,
         "TagID": "5.0",
         "DateTime": "2019-12-22T21:01:35",
         "SystemID": "SORTER",
         "eventTypeID": "B001",
         "TerminalID": "B",
         "FlNum": "NA",
         "_deepnote_index_column": 59
        },
        {
         "eventID": 77,
         "TagID": "5.0",
         "DateTime": "2019-12-22T21:05:35",
         "SystemID": "LBS",
         "eventTypeID": "B002",
         "TerminalID": "B",
         "FlNum": "NA",
         "_deepnote_index_column": 60
        },
        {
         "eventID": 78,
         "TagID": "5.0",
         "DateTime": "2019-12-22T21:05:40",
         "SystemID": "LBS",
         "eventTypeID": "B001",
         "TerminalID": "B",
         "FlNum": "NA",
         "_deepnote_index_column": 61
        },
        {
         "eventID": 79,
         "TagID": "NA",
         "DateTime": "2019-12-22T21:15:00",
         "SystemID": "NA",
         "eventTypeID": "A001",
         "TerminalID": "B",
         "FlNum": "SU1249",
         "_deepnote_index_column": 62
        },
        {
         "eventID": 80,
         "TagID": "NA",
         "DateTime": "2019-12-22T21:15:00",
         "SystemID": "NA",
         "eventTypeID": "A001",
         "TerminalID": "D",
         "FlNum": "SU521",
         "_deepnote_index_column": 63
        },
        {
         "eventID": 81,
         "TagID": "NA",
         "DateTime": "2019-12-22T21:15:00",
         "SystemID": "NA",
         "eventTypeID": "A001",
         "TerminalID": "D",
         "FlNum": "SU2143",
         "_deepnote_index_column": 64
        },
        {
         "eventID": 82,
         "TagID": "NA",
         "DateTime": "2019-12-22T21:15:00",
         "SystemID": "NA",
         "eventTypeID": "A001",
         "TerminalID": "B",
         "FlNum": "SU1259",
         "_deepnote_index_column": 65
        },
        {
         "eventID": 83,
         "TagID": "NA",
         "DateTime": "2019-12-22T21:15:00",
         "SystemID": "NA",
         "eventTypeID": "A001",
         "TerminalID": "D",
         "FlNum": "SU2015",
         "_deepnote_index_column": 66
        },
        {
         "eventID": 84,
         "TagID": "NA",
         "DateTime": "2019-12-22T21:15:00",
         "SystemID": "NA",
         "eventTypeID": "A001",
         "TerminalID": "B",
         "FlNum": "SU1445",
         "_deepnote_index_column": 67
        },
        {
         "eventID": 85,
         "TagID": "NA",
         "DateTime": "2019-12-22T21:15:00",
         "SystemID": "NA",
         "eventTypeID": "A001",
         "TerminalID": "B",
         "FlNum": "SU1175",
         "_deepnote_index_column": 68
        },
        {
         "eventID": 86,
         "TagID": "NA",
         "DateTime": "2019-12-22T21:15:00",
         "SystemID": "NA",
         "eventTypeID": "A001",
         "TerminalID": "B",
         "FlNum": "SU1331",
         "_deepnote_index_column": 69
        },
        {
         "eventID": 87,
         "TagID": "NA",
         "DateTime": "2019-12-22T21:15:00",
         "SystemID": "NA",
         "eventTypeID": "A001",
         "TerminalID": "E",
         "FlNum": "SU2357",
         "_deepnote_index_column": 70
        }
       ],
       "rows_bottom": [
        {
         "eventID": 2547,
         "TagID": "29.0",
         "DateTime": "2019-12-30T21:23:50",
         "SystemID": "NA",
         "eventTypeID": "B003",
         "TerminalID": "B",
         "FlNum": "SU1052",
         "_deepnote_index_column": 2446
        },
        {
         "eventID": 2548,
         "TagID": "29.0",
         "DateTime": "2019-12-30T21:23:50",
         "SystemID": "NA",
         "eventTypeID": "B004",
         "TerminalID": "B",
         "FlNum": "SU1052",
         "_deepnote_index_column": 2447
        },
        {
         "eventID": 2549,
         "TagID": "32.0",
         "DateTime": "2019-12-30T21:23:55",
         "SystemID": "NA",
         "eventTypeID": "B003",
         "TerminalID": "B",
         "FlNum": "FV6167",
         "_deepnote_index_column": 2448
        },
        {
         "eventID": 2550,
         "TagID": "32.0",
         "DateTime": "2019-12-30T21:23:55",
         "SystemID": "NA",
         "eventTypeID": "B004",
         "TerminalID": "B",
         "FlNum": "FV6167",
         "_deepnote_index_column": 2449
        },
        {
         "eventID": 2551,
         "TagID": "38.0",
         "DateTime": "2019-12-30T21:24:00",
         "SystemID": "NA",
         "eventTypeID": "B003",
         "TerminalID": "B",
         "FlNum": "SU1852",
         "_deepnote_index_column": 2450
        },
        {
         "eventID": 2552,
         "TagID": "38.0",
         "DateTime": "2019-12-30T21:24:00",
         "SystemID": "NA",
         "eventTypeID": "B004",
         "TerminalID": "B",
         "FlNum": "SU1852",
         "_deepnote_index_column": 2451
        },
        {
         "eventID": 2553,
         "TagID": "7.0",
         "DateTime": "2019-12-30T21:24:05",
         "SystemID": "NA",
         "eventTypeID": "B003",
         "TerminalID": "B",
         "FlNum": "SU1852",
         "_deepnote_index_column": 2452
        },
        {
         "eventID": 2554,
         "TagID": "7.0",
         "DateTime": "2019-12-30T21:24:05",
         "SystemID": "NA",
         "eventTypeID": "B004",
         "TerminalID": "B",
         "FlNum": "SU1852",
         "_deepnote_index_column": 2453
        },
        {
         "eventID": 2555,
         "TagID": "45.0",
         "DateTime": "2019-12-30T21:24:10",
         "SystemID": "NA",
         "eventTypeID": "B003",
         "TerminalID": "B",
         "FlNum": "SU1852",
         "_deepnote_index_column": 2454
        },
        {
         "eventID": 2556,
         "TagID": "45.0",
         "DateTime": "2019-12-30T21:24:10",
         "SystemID": "NA",
         "eventTypeID": "B004",
         "TerminalID": "B",
         "FlNum": "SU1852",
         "_deepnote_index_column": 2455
        },
        {
         "eventID": 2557,
         "TagID": "36.0",
         "DateTime": "2019-12-30T21:24:15",
         "SystemID": "NA",
         "eventTypeID": "B003",
         "TerminalID": "B",
         "FlNum": "SU1838",
         "_deepnote_index_column": 2456
        },
        {
         "eventID": 2558,
         "TagID": "36.0",
         "DateTime": "2019-12-30T21:24:15",
         "SystemID": "NA",
         "eventTypeID": "B004",
         "TerminalID": "B",
         "FlNum": "SU1838",
         "_deepnote_index_column": 2457
        },
        {
         "eventID": 2559,
         "TagID": "35.0",
         "DateTime": "2019-12-30T21:24:20",
         "SystemID": "NA",
         "eventTypeID": "B003",
         "TerminalID": "B",
         "FlNum": "SU1536",
         "_deepnote_index_column": 2458
        },
        {
         "eventID": 2560,
         "TagID": "35.0",
         "DateTime": "2019-12-30T21:24:20",
         "SystemID": "NA",
         "eventTypeID": "B004",
         "TerminalID": "B",
         "FlNum": "SU1536",
         "_deepnote_index_column": 2459
        },
        {
         "eventID": 2561,
         "TagID": "48.0",
         "DateTime": "2019-12-30T21:24:25",
         "SystemID": "NA",
         "eventTypeID": "B003",
         "TerminalID": "B",
         "FlNum": "SU1428",
         "_deepnote_index_column": 2460
        },
        {
         "eventID": 2562,
         "TagID": "48.0",
         "DateTime": "2019-12-30T21:24:25",
         "SystemID": "NA",
         "eventTypeID": "B004",
         "TerminalID": "B",
         "FlNum": "SU1428",
         "_deepnote_index_column": 2461
        },
        {
         "eventID": 2563,
         "TagID": "49.0",
         "DateTime": "2019-12-30T21:24:30",
         "SystemID": "NA",
         "eventTypeID": "B003",
         "TerminalID": "B",
         "FlNum": "SU1428",
         "_deepnote_index_column": 2462
        },
        {
         "eventID": 2564,
         "TagID": "49.0",
         "DateTime": "2019-12-30T21:24:30",
         "SystemID": "NA",
         "eventTypeID": "B004",
         "TerminalID": "B",
         "FlNum": "SU1428",
         "_deepnote_index_column": 2463
        },
        {
         "eventID": 2565,
         "TagID": "50.0",
         "DateTime": "2019-12-30T21:24:35",
         "SystemID": "NA",
         "eventTypeID": "B003",
         "TerminalID": "B",
         "FlNum": "SU1306",
         "_deepnote_index_column": 2464
        },
        {
         "eventID": 2566,
         "TagID": "50.0",
         "DateTime": "2019-12-30T21:24:35",
         "SystemID": "NA",
         "eventTypeID": "B004",
         "TerminalID": "B",
         "FlNum": "SU1306",
         "_deepnote_index_column": 2465
        },
        {
         "eventID": 2567,
         "TagID": "51.0",
         "DateTime": "2019-12-30T21:24:40",
         "SystemID": "NA",
         "eventTypeID": "B003",
         "TerminalID": "B",
         "FlNum": "SU1372",
         "_deepnote_index_column": 2466
        },
        {
         "eventID": 2568,
         "TagID": "51.0",
         "DateTime": "2019-12-30T21:24:40",
         "SystemID": "NA",
         "eventTypeID": "B004",
         "TerminalID": "B",
         "FlNum": "SU1372",
         "_deepnote_index_column": 2467
        },
        {
         "eventID": 2569,
         "TagID": "52.0",
         "DateTime": "2019-12-30T21:24:45",
         "SystemID": "NA",
         "eventTypeID": "B003",
         "TerminalID": "B",
         "FlNum": "SU1638",
         "_deepnote_index_column": 2468
        },
        {
         "eventID": 2570,
         "TagID": "52.0",
         "DateTime": "2019-12-30T21:24:45",
         "SystemID": "NA",
         "eventTypeID": "B004",
         "TerminalID": "B",
         "FlNum": "SU1638",
         "_deepnote_index_column": 2469
        },
        {
         "eventID": 2571,
         "TagID": "53.0",
         "DateTime": "2019-12-30T21:24:50",
         "SystemID": "NA",
         "eventTypeID": "B003",
         "TerminalID": "B",
         "FlNum": "SU1112",
         "_deepnote_index_column": 2470
        },
        {
         "eventID": 2572,
         "TagID": "53.0",
         "DateTime": "2019-12-30T21:24:50",
         "SystemID": "NA",
         "eventTypeID": "B004",
         "TerminalID": "B",
         "FlNum": "SU1112",
         "_deepnote_index_column": 2471
        },
        {
         "eventID": 2573,
         "TagID": "54.0",
         "DateTime": "2019-12-30T21:24:55",
         "SystemID": "NA",
         "eventTypeID": "B003",
         "TerminalID": "B",
         "FlNum": "SU1424",
         "_deepnote_index_column": 2472
        },
        {
         "eventID": 2574,
         "TagID": "54.0",
         "DateTime": "2019-12-30T21:24:55",
         "SystemID": "NA",
         "eventTypeID": "B004",
         "TerminalID": "B",
         "FlNum": "SU1424",
         "_deepnote_index_column": 2473
        },
        {
         "eventID": 2575,
         "TagID": "55.0",
         "DateTime": "2019-12-30T21:25:00",
         "SystemID": "NA",
         "eventTypeID": "B003",
         "TerminalID": "B",
         "FlNum": "SU1306",
         "_deepnote_index_column": 2474
        },
        {
         "eventID": 2576,
         "TagID": "55.0",
         "DateTime": "2019-12-30T21:25:00",
         "SystemID": "NA",
         "eventTypeID": "B004",
         "TerminalID": "B",
         "FlNum": "SU1306",
         "_deepnote_index_column": 2475
        },
        {
         "eventID": 2577,
         "TagID": "56.0",
         "DateTime": "2019-12-30T21:25:05",
         "SystemID": "NA",
         "eventTypeID": "B003",
         "TerminalID": "B",
         "FlNum": "SU1638",
         "_deepnote_index_column": 2476
        },
        {
         "eventID": 2578,
         "TagID": "56.0",
         "DateTime": "2019-12-30T21:25:05",
         "SystemID": "NA",
         "eventTypeID": "B004",
         "TerminalID": "B",
         "FlNum": "SU1638",
         "_deepnote_index_column": 2477
        },
        {
         "eventID": 2579,
         "TagID": "57.0",
         "DateTime": "2019-12-30T21:25:10",
         "SystemID": "NA",
         "eventTypeID": "B003",
         "TerminalID": "B",
         "FlNum": "SU1424",
         "_deepnote_index_column": 2478
        },
        {
         "eventID": 2580,
         "TagID": "57.0",
         "DateTime": "2019-12-30T21:25:10",
         "SystemID": "NA",
         "eventTypeID": "B004",
         "TerminalID": "B",
         "FlNum": "SU1424",
         "_deepnote_index_column": 2479
        },
        {
         "eventID": 2581,
         "TagID": "58.0",
         "DateTime": "2019-12-30T21:25:15",
         "SystemID": "NA",
         "eventTypeID": "B003",
         "TerminalID": "B",
         "FlNum": "SU1334",
         "_deepnote_index_column": 2480
        },
        {
         "eventID": 2582,
         "TagID": "58.0",
         "DateTime": "2019-12-30T21:25:15",
         "SystemID": "NA",
         "eventTypeID": "B004",
         "TerminalID": "B",
         "FlNum": "SU1334",
         "_deepnote_index_column": 2481
        },
        {
         "eventID": 2583,
         "TagID": "47.0",
         "DateTime": "2019-12-30T21:25:20",
         "SystemID": "NA",
         "eventTypeID": "B003",
         "TerminalID": "B",
         "FlNum": "SU1852",
         "_deepnote_index_column": 2482
        },
        {
         "eventID": 2584,
         "TagID": "47.0",
         "DateTime": "2019-12-30T21:25:20",
         "SystemID": "NA",
         "eventTypeID": "B004",
         "TerminalID": "B",
         "FlNum": "SU1852",
         "_deepnote_index_column": 2483
        },
        {
         "eventID": 2585,
         "TagID": "14.0",
         "DateTime": "2019-12-30T21:25:25",
         "SystemID": "NA",
         "eventTypeID": "B003",
         "TerminalID": "B",
         "FlNum": "SU1306",
         "_deepnote_index_column": 2484
        },
        {
         "eventID": 2586,
         "TagID": "14.0",
         "DateTime": "2019-12-30T21:25:25",
         "SystemID": "NA",
         "eventTypeID": "B004",
         "TerminalID": "B",
         "FlNum": "SU1306",
         "_deepnote_index_column": 2485
        },
        {
         "eventID": 2587,
         "TagID": "15.0",
         "DateTime": "2019-12-30T21:25:30",
         "SystemID": "NA",
         "eventTypeID": "B003",
         "TerminalID": "B",
         "FlNum": "SU1306",
         "_deepnote_index_column": 2486
        },
        {
         "eventID": 2588,
         "TagID": "15.0",
         "DateTime": "2019-12-30T21:25:30",
         "SystemID": "NA",
         "eventTypeID": "B004",
         "TerminalID": "B",
         "FlNum": "SU1306",
         "_deepnote_index_column": 2487
        },
        {
         "eventID": 2589,
         "TagID": "59.0",
         "DateTime": "2019-12-30T21:25:35",
         "SystemID": "NA",
         "eventTypeID": "B003",
         "TerminalID": "B",
         "FlNum": "SU1372",
         "_deepnote_index_column": 2488
        },
        {
         "eventID": 2590,
         "TagID": "59.0",
         "DateTime": "2019-12-30T21:25:35",
         "SystemID": "NA",
         "eventTypeID": "B004",
         "TerminalID": "B",
         "FlNum": "SU1372",
         "_deepnote_index_column": 2489
        },
        {
         "eventID": 2591,
         "TagID": "60.0",
         "DateTime": "2019-12-30T21:25:40",
         "SystemID": "NA",
         "eventTypeID": "B003",
         "TerminalID": "B",
         "FlNum": "SU1372",
         "_deepnote_index_column": 2490
        },
        {
         "eventID": 2592,
         "TagID": "60.0",
         "DateTime": "2019-12-30T21:25:40",
         "SystemID": "NA",
         "eventTypeID": "B004",
         "TerminalID": "B",
         "FlNum": "SU1372",
         "_deepnote_index_column": 2491
        },
        {
         "eventID": 2593,
         "TagID": "NA",
         "DateTime": "2019-12-30T23:15:00",
         "SystemID": "NA",
         "eventTypeID": "A002",
         "TerminalID": "B",
         "FlNum": "SU1108",
         "_deepnote_index_column": 2492
        },
        {
         "eventID": 2594,
         "TagID": "NA",
         "DateTime": "2019-12-30T23:15:00",
         "SystemID": "NA",
         "eventTypeID": "A002",
         "TerminalID": "B",
         "FlNum": "SU100",
         "_deepnote_index_column": 2493
        },
        {
         "eventID": 2595,
         "TagID": "NA",
         "DateTime": "2019-12-30T23:15:00",
         "SystemID": "NA",
         "eventTypeID": "A002",
         "TerminalID": "B",
         "FlNum": "SU2402",
         "_deepnote_index_column": 2494
        },
        {
         "eventID": 2596,
         "TagID": "NA",
         "DateTime": "2019-12-30T23:15:00",
         "SystemID": "NA",
         "eventTypeID": "A002",
         "TerminalID": "B",
         "FlNum": "SU1852",
         "_deepnote_index_column": 2495
        },
        {
         "eventID": 2597,
         "TagID": "NA",
         "DateTime": "2019-12-30T23:15:00",
         "SystemID": "NA",
         "eventTypeID": "A002",
         "TerminalID": "B",
         "FlNum": "SU1522",
         "_deepnote_index_column": 2496
        },
        {
         "eventID": 2598,
         "TagID": "NA",
         "DateTime": "2019-12-30T23:15:00",
         "SystemID": "NA",
         "eventTypeID": "A002",
         "TerminalID": "B",
         "FlNum": "SU1838",
         "_deepnote_index_column": 2497
        },
        {
         "eventID": 2599,
         "TagID": "NA",
         "DateTime": "2019-12-30T23:15:00",
         "SystemID": "NA",
         "eventTypeID": "A002",
         "TerminalID": "B",
         "FlNum": "SU1536",
         "_deepnote_index_column": 2498
        },
        {
         "eventID": 2600,
         "TagID": "NA",
         "DateTime": "2019-12-30T23:15:00",
         "SystemID": "NA",
         "eventTypeID": "A002",
         "TerminalID": "B",
         "FlNum": "SU1638",
         "_deepnote_index_column": 2499
        },
        {
         "eventID": 2601,
         "TagID": "NA",
         "DateTime": "2019-12-30T23:15:00",
         "SystemID": "NA",
         "eventTypeID": "A002",
         "TerminalID": "B",
         "FlNum": "SU1306",
         "_deepnote_index_column": 2500
        },
        {
         "eventID": 2602,
         "TagID": "NA",
         "DateTime": "2019-12-30T23:15:00",
         "SystemID": "NA",
         "eventTypeID": "A002",
         "TerminalID": "B",
         "FlNum": "SU1428",
         "_deepnote_index_column": 2501
        },
        {
         "eventID": 2603,
         "TagID": "NA",
         "DateTime": "2019-12-30T23:15:00",
         "SystemID": "NA",
         "eventTypeID": "A002",
         "TerminalID": "B",
         "FlNum": "SU1382",
         "_deepnote_index_column": 2502
        },
        {
         "eventID": 2604,
         "TagID": "NA",
         "DateTime": "2019-12-30T23:15:00",
         "SystemID": "NA",
         "eventTypeID": "A002",
         "TerminalID": "B",
         "FlNum": "SU1372",
         "_deepnote_index_column": 2503
        },
        {
         "eventID": 2605,
         "TagID": "NA",
         "DateTime": "2019-12-30T23:15:00",
         "SystemID": "NA",
         "eventTypeID": "A002",
         "TerminalID": "B",
         "FlNum": "SU1112",
         "_deepnote_index_column": 2504
        },
        {
         "eventID": 2606,
         "TagID": "NA",
         "DateTime": "2019-12-30T23:15:00",
         "SystemID": "NA",
         "eventTypeID": "A002",
         "TerminalID": "B",
         "FlNum": "SU1424",
         "_deepnote_index_column": 2505
        },
        {
         "eventID": 2607,
         "TagID": "NA",
         "DateTime": "2019-12-30T23:15:00",
         "SystemID": "NA",
         "eventTypeID": "A002",
         "TerminalID": "B",
         "FlNum": "SU1334",
         "_deepnote_index_column": 2506
        },
        {
         "eventID": 2608,
         "TagID": "NA",
         "DateTime": "2019-12-30T23:15:00",
         "SystemID": "NA",
         "eventTypeID": "A002",
         "TerminalID": "B",
         "FlNum": "SU1206",
         "_deepnote_index_column": 2507
        },
        {
         "eventID": 2609,
         "TagID": "NA",
         "DateTime": "2019-12-30T23:15:00",
         "SystemID": "NA",
         "eventTypeID": "A002",
         "TerminalID": "B",
         "FlNum": "FV6167",
         "_deepnote_index_column": 2508
        },
        {
         "eventID": 2610,
         "TagID": "NA",
         "DateTime": "2019-12-30T23:15:00",
         "SystemID": "NA",
         "eventTypeID": "A002",
         "TerminalID": "B",
         "FlNum": "SU1106",
         "_deepnote_index_column": 2509
        },
        {
         "eventID": 2611,
         "TagID": "NA",
         "DateTime": "2019-12-30T23:15:00",
         "SystemID": "NA",
         "eventTypeID": "A002",
         "TerminalID": "B",
         "FlNum": "SU1874",
         "_deepnote_index_column": 2510
        },
        {
         "eventID": 2612,
         "TagID": "NA",
         "DateTime": "2019-12-30T23:15:00",
         "SystemID": "NA",
         "eventTypeID": "A002",
         "TerminalID": "B",
         "FlNum": "SU2684",
         "_deepnote_index_column": 2511
        },
        {
         "eventID": 2613,
         "TagID": "NA",
         "DateTime": "2019-12-30T23:15:00",
         "SystemID": "NA",
         "eventTypeID": "A002",
         "TerminalID": "B",
         "FlNum": "SU2454",
         "_deepnote_index_column": 2512
        },
        {
         "eventID": 2614,
         "TagID": "NA",
         "DateTime": "2019-12-30T23:15:00",
         "SystemID": "NA",
         "eventTypeID": "A002",
         "TerminalID": "B",
         "FlNum": "SU2658",
         "_deepnote_index_column": 2513
        },
        {
         "eventID": 2615,
         "TagID": "NA",
         "DateTime": "2019-12-30T23:15:00",
         "SystemID": "NA",
         "eventTypeID": "A002",
         "TerminalID": "B",
         "FlNum": "SU1234",
         "_deepnote_index_column": 2514
        },
        {
         "eventID": 2616,
         "TagID": "NA",
         "DateTime": "2019-12-30T23:15:00",
         "SystemID": "NA",
         "eventTypeID": "A002",
         "TerminalID": "B",
         "FlNum": "SU1052",
         "_deepnote_index_column": 2515
        },
        {
         "eventID": 2617,
         "TagID": "NA",
         "DateTime": "2019-12-30T23:15:00",
         "SystemID": "NA",
         "eventTypeID": "A002",
         "TerminalID": "B",
         "FlNum": "SU2618",
         "_deepnote_index_column": 2516
        }
       ]
      },
      "text/plain": "      eventID TagID             DateTime SystemID eventTypeID TerminalID  \\\n0           1    NA  2019-12-22T20:40:00       NA        A001          B   \n1           2    NA  2019-12-22T20:40:00       NA        A001          E   \n2           3    NA  2019-12-22T20:40:00       NA        A001          B   \n3           4   1.0  2019-12-22T20:40:00     TRIN        B002          B   \n4           5   2.0  2019-12-22T20:40:00     TRIN        B002          E   \n...       ...   ...                  ...      ...         ...        ...   \n2512     2613    NA  2019-12-30T23:15:00       NA        A002          B   \n2513     2614    NA  2019-12-30T23:15:00       NA        A002          B   \n2514     2615    NA  2019-12-30T23:15:00       NA        A002          B   \n2515     2616    NA  2019-12-30T23:15:00       NA        A002          B   \n2516     2617    NA  2019-12-30T23:15:00       NA        A002          B   \n\n       FlNum  \n0     SU1625  \n1      LO677  \n2     SU1359  \n3         NA  \n4         NA  \n...      ...  \n2512  SU2454  \n2513  SU2658  \n2514  SU1234  \n2515  SU1052  \n2516  SU2618  \n\n[2517 rows x 7 columns]",
      "text/html": "<div>\n<style scoped>\n    .dataframe tbody tr th:only-of-type {\n        vertical-align: middle;\n    }\n\n    .dataframe tbody tr th {\n        vertical-align: top;\n    }\n\n    .dataframe thead th {\n        text-align: right;\n    }\n</style>\n<table border=\"1\" class=\"dataframe\">\n  <thead>\n    <tr style=\"text-align: right;\">\n      <th></th>\n      <th>eventID</th>\n      <th>TagID</th>\n      <th>DateTime</th>\n      <th>SystemID</th>\n      <th>eventTypeID</th>\n      <th>TerminalID</th>\n      <th>FlNum</th>\n    </tr>\n  </thead>\n  <tbody>\n    <tr>\n      <th>0</th>\n      <td>1</td>\n      <td>NA</td>\n      <td>2019-12-22T20:40:00</td>\n      <td>NA</td>\n      <td>A001</td>\n      <td>B</td>\n      <td>SU1625</td>\n    </tr>\n    <tr>\n      <th>1</th>\n      <td>2</td>\n      <td>NA</td>\n      <td>2019-12-22T20:40:00</td>\n      <td>NA</td>\n      <td>A001</td>\n      <td>E</td>\n      <td>LO677</td>\n    </tr>\n    <tr>\n      <th>2</th>\n      <td>3</td>\n      <td>NA</td>\n      <td>2019-12-22T20:40:00</td>\n      <td>NA</td>\n      <td>A001</td>\n      <td>B</td>\n      <td>SU1359</td>\n    </tr>\n    <tr>\n      <th>3</th>\n      <td>4</td>\n      <td>1.0</td>\n      <td>2019-12-22T20:40:00</td>\n      <td>TRIN</td>\n      <td>B002</td>\n      <td>B</td>\n      <td>NA</td>\n    </tr>\n    <tr>\n      <th>4</th>\n      <td>5</td>\n      <td>2.0</td>\n      <td>2019-12-22T20:40:00</td>\n      <td>TRIN</td>\n      <td>B002</td>\n      <td>E</td>\n      <td>NA</td>\n    </tr>\n    <tr>\n      <th>...</th>\n      <td>...</td>\n      <td>...</td>\n      <td>...</td>\n      <td>...</td>\n      <td>...</td>\n      <td>...</td>\n      <td>...</td>\n    </tr>\n    <tr>\n      <th>2512</th>\n      <td>2613</td>\n      <td>NA</td>\n      <td>2019-12-30T23:15:00</td>\n      <td>NA</td>\n      <td>A002</td>\n      <td>B</td>\n      <td>SU2454</td>\n    </tr>\n    <tr>\n      <th>2513</th>\n      <td>2614</td>\n      <td>NA</td>\n      <td>2019-12-30T23:15:00</td>\n      <td>NA</td>\n      <td>A002</td>\n      <td>B</td>\n      <td>SU2658</td>\n    </tr>\n    <tr>\n      <th>2514</th>\n      <td>2615</td>\n      <td>NA</td>\n      <td>2019-12-30T23:15:00</td>\n      <td>NA</td>\n      <td>A002</td>\n      <td>B</td>\n      <td>SU1234</td>\n    </tr>\n    <tr>\n      <th>2515</th>\n      <td>2616</td>\n      <td>NA</td>\n      <td>2019-12-30T23:15:00</td>\n      <td>NA</td>\n      <td>A002</td>\n      <td>B</td>\n      <td>SU1052</td>\n    </tr>\n    <tr>\n      <th>2516</th>\n      <td>2617</td>\n      <td>NA</td>\n      <td>2019-12-30T23:15:00</td>\n      <td>NA</td>\n      <td>A002</td>\n      <td>B</td>\n      <td>SU2618</td>\n    </tr>\n  </tbody>\n</table>\n<p>2517 rows × 7 columns</p>\n</div>"
     },
     "metadata": {}
    }
   ]
  },
  {
   "cell_type": "markdown",
   "source": "<a style='text-decoration:none;line-height:16px;display:flex;color:#5B5B62;padding:10px;justify-content:end;' href='https://deepnote.com?utm_source=created-in-deepnote-cell&projectId=31539d55-3766-40bf-bd6a-cd67a311cbbb' target=\"_blank\">\n<img alt='Created in deepnote.com' style='display:inline;max-height:16px;margin:0px;margin-right:7.5px;' src='data:image/svg+xml;base64,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' > </img>\nCreated in <span style='font-weight:600;margin-left:4px;'>Deepnote</span></a>",
   "metadata": {
    "tags": [],
    "created_in_deepnote_cell": true,
    "deepnote_cell_type": "markdown"
   }
  }
 ],
 "nbformat": 4,
 "nbformat_minor": 0,
 "metadata": {
  "colab": {
   "name": "copy.ipynb",
   "provenance": []
  },
  "deepnote": {},
  "deepnote_execution_queue": [],
  "deepnote_notebook_id": "1147fa80-efbf-42a0-aa49-ed050f394a7b",
  "kernelspec": {
   "display_name": "Python 3",
   "language": "python",
   "name": "python3"
  },
  "language_info": {
   "codemirror_mode": {
    "name": "ipython",
    "version": 3
   },
   "file_extension": ".py",
   "mimetype": "text/x-python",
   "name": "python",
   "nbconvert_exporter": "python",
   "pygments_lexer": "ipython3",
   "version": "3.7.2"
  },
  "varInspector": {
   "cols": {
    "lenName": 16,
    "lenType": 16,
    "lenVar": 40
   },
   "kernels_config": {
    "python": {
     "delete_cmd_postfix": "",
     "delete_cmd_prefix": "del ",
     "library": "var_list.py",
     "varRefreshCmd": "print(var_dic_list())"
    },
    "r": {
     "delete_cmd_postfix": ") ",
     "delete_cmd_prefix": "rm(",
     "library": "var_list.r",
     "varRefreshCmd": "cat(var_dic_list()) "
    }
   },
   "types_to_exclude": [
    "module",
    "function",
    "builtin_function_or_method",
    "instance",
    "_Feature"
   ],
   "window_display": false
  }
 }
}